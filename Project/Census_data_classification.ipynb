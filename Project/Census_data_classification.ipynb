{
 "cells": [
  {
   "cell_type": "markdown",
   "metadata": {},
   "source": [
    "Data Processing"
   ]
  },
  {
   "cell_type": "code",
   "execution_count": 8,
   "metadata": {},
   "outputs": [
    {
     "name": "stdout",
     "output_type": "stream",
     "text": [
      "   age  fnlwgt  education  educational-num  marital-status  occupation  \\\n",
      "0   25  226802          1                7               4           6   \n",
      "1   38   89814         11                9               2           4   \n",
      "2   28  336951          7               12               2          10   \n",
      "3   44  160323         15               10               2           6   \n",
      "4   18  103497         15               10               4          -1   \n",
      "\n",
      "   relationship  race  gender  capital-gain  ...  native-country  income  \\\n",
      "0             3     2       1             0  ...              38       0   \n",
      "1             0     4       1             0  ...              38       0   \n",
      "2             0     4       1             0  ...              38       1   \n",
      "3             0     2       1          7688  ...              38       1   \n",
      "4             3     4       0             0  ...              38       0   \n",
      "\n",
      "   workclass_Federal-gov  workclass_Local-gov  workclass_Never-worked  \\\n",
      "0                      0                    0                       0   \n",
      "1                      0                    0                       0   \n",
      "2                      0                    1                       0   \n",
      "3                      0                    0                       0   \n",
      "4                      0                    0                       0   \n",
      "\n",
      "   workclass_Private  workclass_Self-emp-inc  workclass_Self-emp-not-inc  \\\n",
      "0                  1                       0                           0   \n",
      "1                  1                       0                           0   \n",
      "2                  0                       0                           0   \n",
      "3                  1                       0                           0   \n",
      "4                  0                       0                           0   \n",
      "\n",
      "   workclass_State-gov  workclass_Without-pay  \n",
      "0                    0                      0  \n",
      "1                    0                      0  \n",
      "2                    0                      0  \n",
      "3                    0                      0  \n",
      "4                    0                      0  \n",
      "\n",
      "[5 rows x 22 columns]\n"
     ]
    }
   ],
   "source": [
    "import pandas as pd\n",
    "import matplotlib.pyplot as plt\n",
    "import numpy as np\n",
    "from sklearn.linear_model import LogisticRegression\n",
    "from sklearn.metrics import classification_report, confusion_matrix\n",
    "from sklearn.model_selection import train_test_split\n",
    "\n",
    "census_data = pd.read_csv (r'adult.csv')   #read the csv file (put 'r' before the path string to address any special characters in the path, such as '\\'). Don't forget to put the file name at the end of the path + \".csv\"\n",
    "\n",
    "\n",
    "\n",
    "\n",
    "census_data['income'] = census_data['income'].apply(lambda x: 0 if x == '<=50K' else (1 if x == '>50K' else -1))\n",
    "\n",
    "#print(census_data)\n",
    "\n",
    "census_data_onehot = census_data.copy()\n",
    "census_data_onehot = pd.get_dummies(census_data_onehot, columns=['workclass'], prefix = ['workclass'])\n",
    "\n",
    "#print(census_data_onehot.head())\n",
    "\n",
    "census_data_onehot['gender'] = census_data_onehot['gender'].astype('category')  \n",
    "census_data_onehot['gender'] = census_data_onehot['gender'].cat.codes\n",
    "\n",
    "census_data_onehot['education'] = census_data_onehot['education'].astype('category')  \n",
    "census_data_onehot['education'] = census_data_onehot['education'].cat.codes\n",
    "\n",
    "census_data_onehot['marital-status'] = census_data_onehot['marital-status'].astype('category')  \n",
    "census_data_onehot['marital-status'] = census_data_onehot['marital-status'].cat.codes\n",
    "\n",
    "census_data_onehot['occupation'] = census_data_onehot['occupation'].astype('category')  \n",
    "census_data_onehot['occupation'] = census_data_onehot['occupation'].cat.codes\n",
    "\n",
    "census_data_onehot['relationship'] = census_data_onehot['relationship'].astype('category')  \n",
    "census_data_onehot['relationship'] = census_data_onehot['relationship'].cat.codes\n",
    "\n",
    "census_data_onehot['race'] = census_data_onehot['race'].astype('category')  \n",
    "census_data_onehot['race'] = census_data_onehot['race'].cat.codes\n",
    "\n",
    "census_data_onehot['native-country'] = census_data_onehot['native-country'].astype('category')  \n",
    "census_data_onehot['native-country'] = census_data_onehot['native-country'].cat.codes\n",
    "\n",
    "print(census_data_onehot.head())\n"
   ]
  },
  {
   "cell_type": "code",
   "execution_count": 18,
   "metadata": {},
   "outputs": [
    {
     "name": "stdout",
     "output_type": "stream",
     "text": [
      "[[7040  439]\n",
      " [1595  695]]\n",
      "              precision    recall  f1-score   support\n",
      "\n",
      "           0       0.82      0.94      0.87      7479\n",
      "           1       0.61      0.30      0.41      2290\n",
      "\n",
      "    accuracy                           0.79      9769\n",
      "   macro avg       0.71      0.62      0.64      9769\n",
      "weighted avg       0.77      0.79      0.76      9769\n",
      "\n"
     ]
    }
   ],
   "source": [
    "\n",
    "model = LogisticRegression(solver='liblinear', random_state=0)\n",
    "\n",
    "\n",
    "#print(census_data_onehot[census_data_onehot.columns.difference(['income'])])\n",
    "\n",
    "X_train, X_test, y_train, y_test = train_test_split(census_data_onehot[census_data_onehot.columns.difference(['income'])], census_data_onehot['income'], test_size=0.2, random_state=42)\n",
    "\n",
    "#print(X_train)\n",
    "\n",
    "\n",
    "result=model.fit(X_train, y_train)\n",
    "\n",
    "# Step 4: Evaluate the model\n",
    "p_pred = model.predict_proba(X_test)\n",
    "y_pred = model.predict(X_test)\n",
    "score_ = model.score(X_test, y_test)\n",
    "conf_m = confusion_matrix(y_test, y_pred)\n",
    "report = classification_report(y_test, y_pred)\n",
    "\n",
    "print(conf_m)\n",
    "print(report)\n",
    "\n"
   ]
  },
  {
   "cell_type": "code",
   "execution_count": null,
   "metadata": {},
   "outputs": [],
   "source": []
  }
 ],
 "metadata": {
  "kernelspec": {
   "display_name": "Python 3 (ipykernel)",
   "language": "python",
   "name": "python3"
  },
  "language_info": {
   "codemirror_mode": {
    "name": "ipython",
    "version": 3
   },
   "file_extension": ".py",
   "mimetype": "text/x-python",
   "name": "python",
   "nbconvert_exporter": "python",
   "pygments_lexer": "ipython3",
   "version": "3.8.13"
  }
 },
 "nbformat": 4,
 "nbformat_minor": 4
}
