{
 "cells": [
  {
   "cell_type": "markdown",
   "metadata": {},
   "source": [
    "# Census Data"
   ]
  },
  {
   "cell_type": "markdown",
   "metadata": {},
   "source": [
    "Load the data file and run the imports"
   ]
  },
  {
   "cell_type": "code",
   "execution_count": 86,
   "metadata": {},
   "outputs": [],
   "source": [
    "import pandas as pd\n",
    "from pandas_profiling import ProfileReport\n",
    "import matplotlib.pyplot as plt\n",
    "%matplotlib inline\n",
    "import numpy as np\n",
    "from sklearn.linear_model import LogisticRegression\n",
    "from sklearn.metrics import classification_report, confusion_matrix,accuracy_score\n",
    "from sklearn.model_selection import train_test_split\n",
    "import seaborn as sns\n",
    "from sklearn.datasets import make_hastie_10_2\n",
    "from sklearn.ensemble import GradientBoostingClassifier\n",
    "from sklearn.inspection import PartialDependenceDisplay\n",
    "from sklearn.metrics import plot_confusion_matrix\n",
    "from sklearn.svm import SVC\n",
    "from sklearn.ensemble import RandomForestClassifier\n",
    "\n",
    "census_data = pd.read_csv ('adult.csv')   #read the csv file (put 'r' before the path string to address any special characters in the path, such as '\\'). Don't forget to put the file name at the end of the path + \".csv\"\n",
    "\n",
    "\n"
   ]
  },
  {
   "cell_type": "markdown",
   "metadata": {},
   "source": [
    "## Review of the data"
   ]
  },
  {
   "cell_type": "code",
   "execution_count": 71,
   "metadata": {},
   "outputs": [
    {
     "data": {
      "text/html": [
       "<div>\n",
       "<style scoped>\n",
       "    .dataframe tbody tr th:only-of-type {\n",
       "        vertical-align: middle;\n",
       "    }\n",
       "\n",
       "    .dataframe tbody tr th {\n",
       "        vertical-align: top;\n",
       "    }\n",
       "\n",
       "    .dataframe thead th {\n",
       "        text-align: right;\n",
       "    }\n",
       "</style>\n",
       "<table border=\"1\" class=\"dataframe\">\n",
       "  <thead>\n",
       "    <tr style=\"text-align: right;\">\n",
       "      <th></th>\n",
       "      <th>age</th>\n",
       "      <th>fnlwgt</th>\n",
       "      <th>educational-num</th>\n",
       "      <th>capital-gain</th>\n",
       "      <th>capital-loss</th>\n",
       "      <th>hours-per-week</th>\n",
       "    </tr>\n",
       "  </thead>\n",
       "  <tbody>\n",
       "    <tr>\n",
       "      <th>count</th>\n",
       "      <td>48842.000000</td>\n",
       "      <td>4.884200e+04</td>\n",
       "      <td>48842.000000</td>\n",
       "      <td>48842.000000</td>\n",
       "      <td>48842.000000</td>\n",
       "      <td>48842.000000</td>\n",
       "    </tr>\n",
       "    <tr>\n",
       "      <th>mean</th>\n",
       "      <td>38.643585</td>\n",
       "      <td>1.896641e+05</td>\n",
       "      <td>10.078089</td>\n",
       "      <td>1079.067626</td>\n",
       "      <td>87.502314</td>\n",
       "      <td>40.422382</td>\n",
       "    </tr>\n",
       "    <tr>\n",
       "      <th>std</th>\n",
       "      <td>13.710510</td>\n",
       "      <td>1.056040e+05</td>\n",
       "      <td>2.570973</td>\n",
       "      <td>7452.019058</td>\n",
       "      <td>403.004552</td>\n",
       "      <td>12.391444</td>\n",
       "    </tr>\n",
       "    <tr>\n",
       "      <th>min</th>\n",
       "      <td>17.000000</td>\n",
       "      <td>1.228500e+04</td>\n",
       "      <td>1.000000</td>\n",
       "      <td>0.000000</td>\n",
       "      <td>0.000000</td>\n",
       "      <td>1.000000</td>\n",
       "    </tr>\n",
       "    <tr>\n",
       "      <th>25%</th>\n",
       "      <td>28.000000</td>\n",
       "      <td>1.175505e+05</td>\n",
       "      <td>9.000000</td>\n",
       "      <td>0.000000</td>\n",
       "      <td>0.000000</td>\n",
       "      <td>40.000000</td>\n",
       "    </tr>\n",
       "    <tr>\n",
       "      <th>50%</th>\n",
       "      <td>37.000000</td>\n",
       "      <td>1.781445e+05</td>\n",
       "      <td>10.000000</td>\n",
       "      <td>0.000000</td>\n",
       "      <td>0.000000</td>\n",
       "      <td>40.000000</td>\n",
       "    </tr>\n",
       "    <tr>\n",
       "      <th>75%</th>\n",
       "      <td>48.000000</td>\n",
       "      <td>2.376420e+05</td>\n",
       "      <td>12.000000</td>\n",
       "      <td>0.000000</td>\n",
       "      <td>0.000000</td>\n",
       "      <td>45.000000</td>\n",
       "    </tr>\n",
       "    <tr>\n",
       "      <th>max</th>\n",
       "      <td>90.000000</td>\n",
       "      <td>1.490400e+06</td>\n",
       "      <td>16.000000</td>\n",
       "      <td>99999.000000</td>\n",
       "      <td>4356.000000</td>\n",
       "      <td>99.000000</td>\n",
       "    </tr>\n",
       "  </tbody>\n",
       "</table>\n",
       "</div>"
      ],
      "text/plain": [
       "                age        fnlwgt  educational-num  capital-gain  \\\n",
       "count  48842.000000  4.884200e+04     48842.000000  48842.000000   \n",
       "mean      38.643585  1.896641e+05        10.078089   1079.067626   \n",
       "std       13.710510  1.056040e+05         2.570973   7452.019058   \n",
       "min       17.000000  1.228500e+04         1.000000      0.000000   \n",
       "25%       28.000000  1.175505e+05         9.000000      0.000000   \n",
       "50%       37.000000  1.781445e+05        10.000000      0.000000   \n",
       "75%       48.000000  2.376420e+05        12.000000      0.000000   \n",
       "max       90.000000  1.490400e+06        16.000000  99999.000000   \n",
       "\n",
       "       capital-loss  hours-per-week  \n",
       "count  48842.000000    48842.000000  \n",
       "mean      87.502314       40.422382  \n",
       "std      403.004552       12.391444  \n",
       "min        0.000000        1.000000  \n",
       "25%        0.000000       40.000000  \n",
       "50%        0.000000       40.000000  \n",
       "75%        0.000000       45.000000  \n",
       "max     4356.000000       99.000000  "
      ]
     },
     "execution_count": 71,
     "metadata": {},
     "output_type": "execute_result"
    }
   ],
   "source": [
    "census_data.describe()\n",
    "\n"
   ]
  },
  {
   "cell_type": "code",
   "execution_count": 72,
   "metadata": {},
   "outputs": [
    {
     "data": {
      "image/png": "[encoded data removed]",
      "text/plain": [
       "<Figure size 864x432 with 1 Axes>"
      ]
     },
     "metadata": {
      "needs_background": "light"
     },
     "output_type": "display_data"
    }
   ],
   "source": [
    "plt.figure(figsize =(12,6));\n",
    "sns.countplot(x = 'income', data = census_data);\n",
    "plt.xlabel(\"Income\",fontsize = 12);\n",
    "plt.ylabel(\"Frequency\",fontsize = 12);"
   ]
  },
  {
   "cell_type": "code",
   "execution_count": 73,
   "metadata": {},
   "outputs": [
    {
     "name": "stdout",
     "output_type": "stream",
     "text": [
      "   age  workclass  fnlwgt  education  educational-num  marital-status  \\\n",
      "0   25          3  226802          1                7               4   \n",
      "1   38          3   89814         11                9               2   \n",
      "2   28          1  336951          7               12               2   \n",
      "3   44          3  160323         15               10               2   \n",
      "4   18         -1  103497         15               10               4   \n",
      "\n",
      "   occupation  relationship  race  gender  capital-gain  capital-loss  \\\n",
      "0           6             3     2       1             0             0   \n",
      "1           4             0     4       1             0             0   \n",
      "2          10             0     4       1             0             0   \n",
      "3           6             0     2       1          7688             0   \n",
      "4          -1             3     4       0             0             0   \n",
      "\n",
      "   hours-per-week  native-country  income  \n",
      "0              40              38       0  \n",
      "1              50              38       0  \n",
      "2              40              38       1  \n",
      "3              40              38       1  \n",
      "4              30              38       0  \n"
     ]
    },
    {
     "data": {
      "application/vnd.jupyter.widget-view+json": {
       "model_id": "68ff8a94c2994706b1e8bccb402b65b1",
       "version_major": 2,
       "version_minor": 0
      },
      "text/plain": [
       "Summarize dataset:   0%|          | 0/5 [00:00<?, ?it/s]"
      ]
     },
     "metadata": {},
     "output_type": "display_data"
    },
    {
     "data": {
      "application/vnd.jupyter.widget-view+json": {
       "model_id": "79d9f35bc09b4e3a96c35d13ae6a1b04",
       "version_major": 2,
       "version_minor": 0
      },
      "text/plain": [
       "Generate report structure:   0%|          | 0/1 [00:00<?, ?it/s]"
      ]
     },
     "metadata": {},
     "output_type": "display_data"
    },
    {
     "data": {
      "application/vnd.jupyter.widget-view+json": {
       "model_id": "b45bf2de24044bbabbcfc3e4e636ffd6",
       "version_major": 2,
       "version_minor": 0
      },
      "text/plain": [
       "Render HTML:   0%|          | 0/1 [00:00<?, ?it/s]"
      ]
     },
     "metadata": {},
     "output_type": "display_data"
    },
    {
     "data": {
      "application/vnd.jupyter.widget-view+json": {
       "model_id": "0f3add8efe634f929f2e41bba8cb7278",
       "version_major": 2,
       "version_minor": 0
      },
      "text/plain": [
       "Export report to file:   0%|          | 0/1 [00:00<?, ?it/s]"
      ]
     },
     "metadata": {},
     "output_type": "display_data"
    }
   ],
   "source": [
    "\n",
    "census_data['income'] = census_data['income'].apply(lambda x: 0 if x == '<=50K' else (1 if x == '>50K' else -1))\n",
    "\n",
    "#print(census_data)\n",
    "\n",
    "census_data_onehot = census_data.copy()\n",
    "#census_data_onehot = pd.get_dummies(census_data_onehot, columns=['workclass'], prefix = ['workclass'])\n",
    "census_data_onehot['workclass'] = census_data_onehot['workclass'].astype('category')  \n",
    "census_data_onehot['workclass'] = census_data_onehot['workclass'].cat.codes\n",
    "#print(census_data_onehot.head())\n",
    "\n",
    "census_data_onehot['gender'] = census_data_onehot['gender'].astype('category')  \n",
    "census_data_onehot['gender'] = census_data_onehot['gender'].cat.codes\n",
    "\n",
    "census_data_onehot['education'] = census_data_onehot['education'].astype('category')  \n",
    "census_data_onehot['education'] = census_data_onehot['education'].cat.codes\n",
    "\n",
    "census_data_onehot['marital-status'] = census_data_onehot['marital-status'].astype('category')  \n",
    "census_data_onehot['marital-status'] = census_data_onehot['marital-status'].cat.codes\n",
    "\n",
    "census_data_onehot['occupation'] = census_data_onehot['occupation'].astype('category')  \n",
    "census_data_onehot['occupation'] = census_data_onehot['occupation'].cat.codes\n",
    "\n",
    "census_data_onehot['relationship'] = census_data_onehot['relationship'].astype('category')  \n",
    "census_data_onehot['relationship'] = census_data_onehot['relationship'].cat.codes\n",
    "\n",
    "census_data_onehot['race'] = census_data_onehot['race'].astype('category')  \n",
    "census_data_onehot['race'] = census_data_onehot['race'].cat.codes\n",
    "\n",
    "census_data_onehot['native-country'] = census_data_onehot['native-country'].astype('category')  \n",
    "census_data_onehot['native-country'] = census_data_onehot['native-country'].cat.codes\n",
    "\n",
    "print(census_data_onehot.head())\n",
    "\n",
    "profile = ProfileReport(census_data_onehot, title=\"Pandas\")\n",
    "\n",
    "profile.to_file(output_file=\"Adults_EDA_updated.html\")"
   ]
  },
  {
   "cell_type": "code",
   "execution_count": 96,
   "metadata": {},
   "outputs": [
    {
     "name": "stdout",
     "output_type": "stream",
     "text": [
      "[[7034  445]\n",
      " [1589  701]]\n",
      "              precision    recall  f1-score   support\n",
      "\n",
      "           0       0.82      0.94      0.87      7479\n",
      "           1       0.61      0.31      0.41      2290\n",
      "\n",
      "    accuracy                           0.79      9769\n",
      "   macro avg       0.71      0.62      0.64      9769\n",
      "weighted avg       0.77      0.79      0.76      9769\n",
      "\n",
      "0.7917903572525335\n"
     ]
    },
    {
     "name": "stderr",
     "output_type": "stream",
     "text": [
      "/Users/randyllpandohie/opt/anaconda3/lib/python3.7/site-packages/sklearn/utils/deprecation.py:87: FutureWarning: Function plot_confusion_matrix is deprecated; Function `plot_confusion_matrix` is deprecated in 1.0 and will be removed in 1.2. Use one of the class methods: ConfusionMatrixDisplay.from_predictions or ConfusionMatrixDisplay.from_estimator.\n",
      "  warnings.warn(msg, category=FutureWarning)\n"
     ]
    },
    {
     "data": {
      "image/png": "[encoded data removed]",
      "text/plain": [
       "<Figure size 432x288 with 2 Axes>"
      ]
     },
     "metadata": {
      "needs_background": "light"
     },
     "output_type": "display_data"
    },
    {
     "name": "stdout",
     "output_type": "stream",
     "text": [
      "Feature: 0, Score: 0.01402\n",
      "Feature: 1, Score: 0.00033\n",
      "Feature: 2, Score: 0.00076\n",
      "Feature: 3, Score: -0.01060\n",
      "Feature: 4, Score: 0.00946\n",
      "Feature: 5, Score: -0.00000\n",
      "Feature: 6, Score: 0.00264\n",
      "Feature: 7, Score: 0.01217\n",
      "Feature: 8, Score: -0.01908\n",
      "Feature: 9, Score: -0.05291\n",
      "Feature: 10, Score: 0.00019\n",
      "Feature: 11, Score: -0.00637\n",
      "Feature: 12, Score: -0.02042\n",
      "Feature: 13, Score: -0.00429\n"
     ]
    },
    {
     "data": {
      "image/png": "[encoded data removed]",
      "text/plain": [
       "<Figure size 432x288 with 1 Axes>"
      ]
     },
     "metadata": {
      "needs_background": "light"
     },
     "output_type": "display_data"
    },
    {
     "name": "stderr",
     "output_type": "stream",
     "text": [
      "/Users/randyllpandohie/opt/anaconda3/lib/python3.7/site-packages/ipykernel_launcher.py:42: UserWarning: FixedFormatter should only be used together with FixedLocator\n"
     ]
    },
    {
     "data": {
      "image/png": "[encoded data removed]",
      "text/plain": [
       "<Figure size 504x144 with 1 Axes>"
      ]
     },
     "execution_count": 96,
     "metadata": {},
     "output_type": "execute_result"
    },
    {
     "data": {
      "image/png": "[encoded data removed]",
      "text/plain": [
       "<Figure size 432x288 with 1 Axes>"
      ]
     },
     "metadata": {
      "needs_background": "light"
     },
     "output_type": "display_data"
    }
   ],
   "source": [
    "\n",
    "model = LogisticRegression(solver='liblinear', random_state=0)\n",
    "\n",
    "\n",
    "#print(census_data_onehot[census_data_onehot.columns.difference(['income'])])\n",
    "\n",
    "X_train, X_test, y_train, y_test = train_test_split(census_data_onehot[census_data_onehot.columns.difference(['income'])], census_data_onehot['income'], test_size=0.2, random_state=42)\n",
    "\n",
    "#print(X_train)\n",
    "\n",
    "\n",
    "result=model.fit(X_train, y_train)\n",
    "\n",
    "# Step 4: Evaluate the model\n",
    "p_pred = model.predict_proba(X_test)\n",
    "y_pred = model.predict(X_test)\n",
    "score_ = model.score(X_test, y_test)\n",
    "conf_m = confusion_matrix(y_test, y_pred)\n",
    "report = classification_report(y_test, y_pred)\n",
    "\n",
    "print(conf_m)\n",
    "print(report)\n",
    "print(score_)\n",
    "\n",
    "plot_confusion_matrix(result, X_test, y_test)  \n",
    "plt.show()\n",
    "\n",
    "importance = model.coef_[0]\n",
    "\n",
    "\n",
    "for i,j in enumerate(importance):\n",
    "\tprint('Feature: %0d, Score: %.5f' % (i,j))\n",
    "\n",
    "    \n",
    "feature_names=[ 'age' , 'workclass'  ,'fnlwgt' , 'education',  'educational-num' , 'marital-status' , 'occupation',  'relationship','race' , 'gender',  'capital-gain','capital-loss','hours-per-week','native-country']\n",
    "plt.bar([X for X in range(len(importance))], importance)\n",
    "#fig=plt.bar(feature_names, importance)\n",
    "plt.show()\n",
    "\n",
    "\n",
    "\n",
    "sns.barplot(x=feature_names, y=importance)\n",
    "ax.set_xticklabels(ax.get_xticklabels(), rotation=90)\n",
    "ax.figure\n"
   ]
  },
  {
   "cell_type": "code",
   "execution_count": 75,
   "metadata": {},
   "outputs": [
    {
     "data": {
      "image/png": "[encoded data removed]",
      "text/plain": [
       "<Figure size 432x288 with 2 Axes>"
      ]
     },
     "metadata": {
      "needs_background": "light"
     },
     "output_type": "display_data"
    }
   ],
   "source": [
    "\n",
    "clf = GradientBoostingClassifier(n_estimators=100, learning_rate=1.0,\n",
    "    max_depth=1, random_state=0).fit(X_train, y_train)\n",
    "features = [0, 1]\n",
    "\n",
    "var = 'occupation'\n",
    "PartialDependenceDisplay.from_estimator(clf, X_train, [var]);\n"
   ]
  },
  {
   "cell_type": "code",
   "execution_count": 39,
   "metadata": {},
   "outputs": [
    {
     "data": {
      "text/plain": [
       "[Text(0.5, 0.9, 'X[12] <= 0.5\\ngini = 0.365\\nsamples = 39073\\nvalue = [29676, 9397]'),\n",
       " Text(0.25, 0.7, 'X[4] <= 12.5\\ngini = 0.495\\nsamples = 15869\\nvalue = [8752, 7117]'),\n",
       " Text(0.125, 0.5, 'X[1] <= 5095.5\\ngini = 0.444\\nsamples = 11142\\nvalue = [7435, 3707]'),\n",
       " Text(0.0625, 0.3, 'X[4] <= 8.5\\ngini = 0.42\\nsamples = 10613\\nvalue = [7426, 3187]'),\n",
       " Text(0.03125, 0.1, 'gini = 0.192\\nsamples = 1818\\nvalue = [1623, 195]'),\n",
       " Text(0.09375, 0.1, 'gini = 0.449\\nsamples = 8795\\nvalue = [5803, 2992]'),\n",
       " Text(0.1875, 0.3, 'X[7] <= 8.0\\ngini = 0.033\\nsamples = 529\\nvalue = [9, 520]'),\n",
       " Text(0.15625, 0.1, 'gini = 0.0\\nsamples = 1\\nvalue = [1, 0]'),\n",
       " Text(0.21875, 0.1, 'gini = 0.03\\nsamples = 528\\nvalue = [8, 520]'),\n",
       " Text(0.375, 0.5, 'X[1] <= 5095.5\\ngini = 0.402\\nsamples = 4727\\nvalue = [1317, 3410]'),\n",
       " Text(0.3125, 0.3, 'X[2] <= 1782.5\\ngini = 0.441\\nsamples = 3999\\nvalue = [1315, 2684]'),\n",
       " Text(0.28125, 0.1, 'gini = 0.463\\nsamples = 3577\\nvalue = [1302, 2275]'),\n",
       " Text(0.34375, 0.1, 'gini = 0.06\\nsamples = 422\\nvalue = [13, 409]'),\n",
       " Text(0.4375, 0.3, 'X[7] <= 22.5\\ngini = 0.005\\nsamples = 728\\nvalue = [2, 726]'),\n",
       " Text(0.40625, 0.1, 'gini = 0.165\\nsamples = 11\\nvalue = [1, 10]'),\n",
       " Text(0.46875, 0.1, 'gini = 0.003\\nsamples = 717\\nvalue = [1, 716]'),\n",
       " Text(0.75, 0.7, 'X[1] <= 7055.5\\ngini = 0.177\\nsamples = 23204\\nvalue = [20924, 2280]'),\n",
       " Text(0.625, 0.5, 'X[12] <= 4.5\\ngini = 0.145\\nsamples = 22702\\nvalue = [20910, 1792]'),\n",
       " Text(0.5625, 0.3, 'X[4] <= 12.5\\ngini = 0.095\\nsamples = 20994\\nvalue = [19942, 1052]'),\n",
       " Text(0.53125, 0.1, 'gini = 0.048\\nsamples = 16853\\nvalue = [16437, 416]'),\n",
       " Text(0.59375, 0.1, 'gini = 0.26\\nsamples = 4141\\nvalue = [3505, 636]'),\n",
       " Text(0.6875, 0.3, 'X[4] <= 10.5\\ngini = 0.491\\nsamples = 1708\\nvalue = [968, 740]'),\n",
       " Text(0.65625, 0.1, 'gini = 0.426\\nsamples = 1034\\nvalue = [716, 318]'),\n",
       " Text(0.71875, 0.1, 'gini = 0.468\\nsamples = 674\\nvalue = [252, 422]'),\n",
       " Text(0.875, 0.5, 'X[0] <= 20.5\\ngini = 0.054\\nsamples = 502\\nvalue = [14, 488]'),\n",
       " Text(0.8125, 0.3, 'X[1] <= 24559.5\\ngini = 0.408\\nsamples = 7\\nvalue = [5, 2]'),\n",
       " Text(0.78125, 0.1, 'gini = 0.0\\nsamples = 2\\nvalue = [0, 2]'),\n",
       " Text(0.84375, 0.1, 'gini = 0.0\\nsamples = 5\\nvalue = [5, 0]'),\n",
       " Text(0.9375, 0.3, 'X[5] <= 25964.5\\ngini = 0.036\\nsamples = 495\\nvalue = [9, 486]'),\n",
       " Text(0.90625, 0.1, 'gini = 0.444\\nsamples = 3\\nvalue = [2, 1]'),\n",
       " Text(0.96875, 0.1, 'gini = 0.028\\nsamples = 492\\nvalue = [7, 485]')]"
      ]
     },
     "execution_count": 39,
     "metadata": {},
     "output_type": "execute_result"
    },
    {
     "data": {
      "image/png": "[encoded data removed]",
      "text/plain": [
       "<Figure size 432x288 with 1 Axes>"
      ]
     },
     "metadata": {
      "needs_background": "light"
     },
     "output_type": "display_data"
    }
   ],
   "source": [
    "from sklearn import tree\n",
    "\n",
    "clf = tree.DecisionTreeClassifier(max_depth=4)\n",
    "\n",
    "clf = clf.fit(X_train,y_train)\n",
    "\n",
    "tree.plot_tree(clf)"
   ]
  },
  {
   "cell_type": "code",
   "execution_count": 45,
   "metadata": {},
   "outputs": [
    {
     "data": {
      "text/plain": [
       "'census.pdf'"
      ]
     },
     "execution_count": 45,
     "metadata": {},
     "output_type": "execute_result"
    }
   ],
   "source": [
    "import graphviz \n",
    "dot_data = tree.export_graphviz(clf, out_file=None) \n",
    "graph = graphviz.Source(dot_data) \n",
    "graph.render(\"iris\")\n",
    "\n",
    "\n",
    "dot_data = tree.export_graphviz(clf, out_file=None, \n",
    "                     feature_names=[ 'age' , 'workclass'  ,'fnlwgt' , 'education',  'educational-num' , 'marital-status' , 'occupation',  'relationship','race' , 'gender',  'capital-gain','capital-loss','hours-per-week','native-country'],  \n",
    "                     class_names=['Income less than 50','Income greater than 50K'],  \n",
    "                      filled=True, rounded=True,  \n",
    "                     special_characters=True)  \n",
    "graph = graphviz.Source(dot_data)  \n",
    "graph \n",
    "\n",
    "graph.render(\"census\")"
   ]
  },
  {
   "cell_type": "code",
   "execution_count": 87,
   "metadata": {},
   "outputs": [
    {
     "name": "stdout",
     "output_type": "stream",
     "text": [
      "Accuracy: 86.426451 \n"
     ]
    }
   ],
   "source": [
    "clf=RandomForestClassifier(n_estimators=50,max_features=5,min_samples_leaf=50)\n",
    "clf.fit(X_train,y_train)\n",
    "\n",
    "pred=clf.predict(X_test)\n",
    "pred\n",
    "\n",
    "print(\"Accuracy: %f \" % (100*accuracy_score(y_test, pred)))"
   ]
  },
  {
   "cell_type": "code",
   "execution_count": 88,
   "metadata": {},
   "outputs": [
    {
     "name": "stdout",
     "output_type": "stream",
     "text": [
      "Accuracy: 80.438121 \n"
     ]
    }
   ],
   "source": [
    "#svc = SVC()\n",
    "svc =SVC(C=10,decision_function_shape='ovo',kernel='rbf', degree=4, gamma='scale', coef0=0.2)\n",
    "svc.fit(X_train, y_train)\n",
    "\n",
    "pred=svc.predict(X_test)\n",
    "svc.score(X_test, y_test)\n",
    "svc.score(X_train, y_train)\n",
    "\n",
    "print(\"Accuracy: %f \" % (100*accuracy_score(y_test, pred)))"
   ]
  },
  {
   "cell_type": "code",
   "execution_count": 90,
   "metadata": {},
   "outputs": [
    {
     "name": "stdout",
     "output_type": "stream",
     "text": [
      "OneClassSVM(gamma=0.0001, nu=0.02)\n",
      "OneClassSVM(gamma=0.0001, nu=0.02)\n",
      "[ 1  1 -1 ...  1  1  1]\n"
     ]
    }
   ],
   "source": [
    "from sklearn.svm import OneClassSVM\n",
    "from numpy import quantile, where, random\n",
    "\n",
    "svm = OneClassSVM(kernel='rbf', gamma=0.0001, nu=0.02)\n",
    "print(svm)\n",
    "\n",
    "result = pd.concat([X_train, y_train], axis=1).reindex(X_train.index)\n",
    "only_survived=result[result['income']==0]\n",
    "X = only_survived.drop(columns ='income')\n",
    "X\n",
    "\n",
    "svm.fit(X)\n",
    "\n",
    "svm = OneClassSVM(kernel='rbf', gamma=0.0001, nu=0.02)\n",
    "print(svm)\n",
    "\n",
    "svm.fit(X)\n",
    "\n",
    "pred = svm.predict(X_test)\n",
    "pred\n",
    "print(pred)\n",
    "\n",
    "\n"
   ]
  },
  {
   "cell_type": "code",
   "execution_count": 95,
   "metadata": {},
   "outputs": [
    {
     "name": "stdout",
     "output_type": "stream",
     "text": [
      "Accuracy: 58.849422 \n"
     ]
    }
   ],
   "source": [
    "type(pred)\n",
    "\n",
    "new_pred = np.where(pred<0,1,0)\n",
    "new_pred\n",
    "\n",
    "print(\"Accuracy: %f \" % (100*accuracy_score(y_test, new_pred)))"
   ]
  },
  {
   "cell_type": "code",
   "execution_count": null,
   "metadata": {},
   "outputs": [],
   "source": []
  }
 ],
 "metadata": {
  "kernelspec": {
   "display_name": "Python 3",
   "language": "python",
   "name": "python3"
  },
  "language_info": {
   "codemirror_mode": {
    "name": "ipython",
    "version": 3
   },
   "file_extension": ".py",
   "mimetype": "text/x-python",
   "name": "python",
   "nbconvert_exporter": "python",
   "pygments_lexer": "ipython3",
   "version": "3.7.6"
  }
 },
 "nbformat": 4,
 "nbformat_minor": 4
}
