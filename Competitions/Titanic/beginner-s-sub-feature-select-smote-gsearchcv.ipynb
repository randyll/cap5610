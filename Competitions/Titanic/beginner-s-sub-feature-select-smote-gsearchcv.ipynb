{
 "cells": [
  {
   "cell_type": "code",
   "execution_count": 1,
   "metadata": {
    "_cell_guid": "b1076dfc-b9ad-4769-8c92-a6c4dae69d19",
    "_uuid": "8f2839f25d086af736a60e9eeb907d3b93b6e0e5",
    "execution": {
     "iopub.execute_input": "2022-08-20T12:26:02.323572Z",
     "iopub.status.busy": "2022-08-20T12:26:02.323131Z",
     "iopub.status.idle": "2022-08-20T12:26:02.346182Z",
     "shell.execute_reply": "2022-08-20T12:26:02.345015Z"
    },
    "papermill": {
     "duration": 0.048469,
     "end_time": "2022-08-20T12:26:02.351220",
     "exception": false,
     "start_time": "2022-08-20T12:26:02.302751",
     "status": "completed"
    },
    "tags": []
   },
   "outputs": [],
   "source": [
    "# This Python 3 environment comes with many helpful analytics libraries installed\n",
    "# It is defined by the kaggle/python Docker image: https://github.com/kaggle/docker-python\n",
    "# For example, here's several helpful packages to load\n",
    "\n",
    "import numpy as np # linear algebra\n",
    "import pandas as pd # data processing, CSV file I/O (e.g. pd.read_csv)\n",
    "\n",
    "# Input data files are available in the read-only \"../input/\" directory\n",
    "# For example, running this (by clicking run or pressing Shift+Enter) will list all files under the input directory\n",
    "\n",
    "import os\n",
    "for dirname, _, filenames in os.walk('../input'):\n",
    "    for filename in filenames:\n",
    "        print(os.path.join(dirname, filename))\n",
    "\n",
    "# You can write up to 20GB to the current directory (/kaggle/working/) that gets preserved as output when you create a version using \"Save & Run All\" \n",
    "# You can also write temporary files to /kaggle/temp/, but they won't be saved outside of the current session"
   ]
  },
  {
   "cell_type": "code",
   "execution_count": 2,
   "metadata": {
    "execution": {
     "iopub.execute_input": "2022-08-20T12:26:02.391891Z",
     "iopub.status.busy": "2022-08-20T12:26:02.391416Z",
     "iopub.status.idle": "2022-08-20T12:26:03.502404Z",
     "shell.execute_reply": "2022-08-20T12:26:03.500675Z"
    },
    "papermill": {
     "duration": 1.134535,
     "end_time": "2022-08-20T12:26:03.505274",
     "exception": false,
     "start_time": "2022-08-20T12:26:02.370739",
     "status": "completed"
    },
    "tags": []
   },
   "outputs": [],
   "source": [
    "import matplotlib.pyplot as plt\n",
    "import seaborn as sns"
   ]
  },
  {
   "cell_type": "code",
   "execution_count": 3,
   "metadata": {
    "execution": {
     "iopub.execute_input": "2022-08-20T12:26:03.538627Z",
     "iopub.status.busy": "2022-08-20T12:26:03.538180Z",
     "iopub.status.idle": "2022-08-20T12:26:03.575516Z",
     "shell.execute_reply": "2022-08-20T12:26:03.574654Z"
    },
    "papermill": {
     "duration": 0.056958,
     "end_time": "2022-08-20T12:26:03.577919",
     "exception": false,
     "start_time": "2022-08-20T12:26:03.520961",
     "status": "completed"
    },
    "tags": []
   },
   "outputs": [],
   "source": [
    "train_df = pd.read_csv('train.csv')\n",
    "test_df = pd.read_csv('test.csv')"
   ]
  },
  {
   "cell_type": "code",
   "execution_count": 4,
   "metadata": {
    "execution": {
     "iopub.execute_input": "2022-08-20T12:26:03.610649Z",
     "iopub.status.busy": "2022-08-20T12:26:03.609573Z",
     "iopub.status.idle": "2022-08-20T12:26:03.648563Z",
     "shell.execute_reply": "2022-08-20T12:26:03.647471Z"
    },
    "papermill": {
     "duration": 0.057496,
     "end_time": "2022-08-20T12:26:03.650877",
     "exception": false,
     "start_time": "2022-08-20T12:26:03.593381",
     "status": "completed"
    },
    "tags": []
   },
   "outputs": [
    {
     "data": {
      "text/html": [
       "<div>\n",
       "<style scoped>\n",
       "    .dataframe tbody tr th:only-of-type {\n",
       "        vertical-align: middle;\n",
       "    }\n",
       "\n",
       "    .dataframe tbody tr th {\n",
       "        vertical-align: top;\n",
       "    }\n",
       "\n",
       "    .dataframe thead th {\n",
       "        text-align: right;\n",
       "    }\n",
       "</style>\n",
       "<table border=\"1\" class=\"dataframe\">\n",
       "  <thead>\n",
       "    <tr style=\"text-align: right;\">\n",
       "      <th></th>\n",
       "      <th>PassengerId</th>\n",
       "      <th>Survived</th>\n",
       "      <th>Pclass</th>\n",
       "      <th>Name</th>\n",
       "      <th>Sex</th>\n",
       "      <th>Age</th>\n",
       "      <th>SibSp</th>\n",
       "      <th>Parch</th>\n",
       "      <th>Ticket</th>\n",
       "      <th>Fare</th>\n",
       "      <th>Cabin</th>\n",
       "      <th>Embarked</th>\n",
       "    </tr>\n",
       "  </thead>\n",
       "  <tbody>\n",
       "    <tr>\n",
       "      <th>0</th>\n",
       "      <td>1</td>\n",
       "      <td>0</td>\n",
       "      <td>3</td>\n",
       "      <td>Braund, Mr. Owen Harris</td>\n",
       "      <td>male</td>\n",
       "      <td>22.0</td>\n",
       "      <td>1</td>\n",
       "      <td>0</td>\n",
       "      <td>A/5 21171</td>\n",
       "      <td>7.2500</td>\n",
       "      <td>NaN</td>\n",
       "      <td>S</td>\n",
       "    </tr>\n",
       "    <tr>\n",
       "      <th>1</th>\n",
       "      <td>2</td>\n",
       "      <td>1</td>\n",
       "      <td>1</td>\n",
       "      <td>Cumings, Mrs. John Bradley (Florence Briggs Th...</td>\n",
       "      <td>female</td>\n",
       "      <td>38.0</td>\n",
       "      <td>1</td>\n",
       "      <td>0</td>\n",
       "      <td>PC 17599</td>\n",
       "      <td>71.2833</td>\n",
       "      <td>C85</td>\n",
       "      <td>C</td>\n",
       "    </tr>\n",
       "    <tr>\n",
       "      <th>2</th>\n",
       "      <td>3</td>\n",
       "      <td>1</td>\n",
       "      <td>3</td>\n",
       "      <td>Heikkinen, Miss. Laina</td>\n",
       "      <td>female</td>\n",
       "      <td>26.0</td>\n",
       "      <td>0</td>\n",
       "      <td>0</td>\n",
       "      <td>STON/O2. 3101282</td>\n",
       "      <td>7.9250</td>\n",
       "      <td>NaN</td>\n",
       "      <td>S</td>\n",
       "    </tr>\n",
       "    <tr>\n",
       "      <th>3</th>\n",
       "      <td>4</td>\n",
       "      <td>1</td>\n",
       "      <td>1</td>\n",
       "      <td>Futrelle, Mrs. Jacques Heath (Lily May Peel)</td>\n",
       "      <td>female</td>\n",
       "      <td>35.0</td>\n",
       "      <td>1</td>\n",
       "      <td>0</td>\n",
       "      <td>113803</td>\n",
       "      <td>53.1000</td>\n",
       "      <td>C123</td>\n",
       "      <td>S</td>\n",
       "    </tr>\n",
       "    <tr>\n",
       "      <th>4</th>\n",
       "      <td>5</td>\n",
       "      <td>0</td>\n",
       "      <td>3</td>\n",
       "      <td>Allen, Mr. William Henry</td>\n",
       "      <td>male</td>\n",
       "      <td>35.0</td>\n",
       "      <td>0</td>\n",
       "      <td>0</td>\n",
       "      <td>373450</td>\n",
       "      <td>8.0500</td>\n",
       "      <td>NaN</td>\n",
       "      <td>S</td>\n",
       "    </tr>\n",
       "  </tbody>\n",
       "</table>\n",
       "</div>"
      ],
      "text/plain": [
       "   PassengerId  Survived  Pclass  \\\n",
       "0            1         0       3   \n",
       "1            2         1       1   \n",
       "2            3         1       3   \n",
       "3            4         1       1   \n",
       "4            5         0       3   \n",
       "\n",
       "                                                Name     Sex   Age  SibSp  \\\n",
       "0                            Braund, Mr. Owen Harris    male  22.0      1   \n",
       "1  Cumings, Mrs. John Bradley (Florence Briggs Th...  female  38.0      1   \n",
       "2                             Heikkinen, Miss. Laina  female  26.0      0   \n",
       "3       Futrelle, Mrs. Jacques Heath (Lily May Peel)  female  35.0      1   \n",
       "4                           Allen, Mr. William Henry    male  35.0      0   \n",
       "\n",
       "   Parch            Ticket     Fare Cabin Embarked  \n",
       "0      0         A/5 21171   7.2500   NaN        S  \n",
       "1      0          PC 17599  71.2833   C85        C  \n",
       "2      0  STON/O2. 3101282   7.9250   NaN        S  \n",
       "3      0            113803  53.1000  C123        S  \n",
       "4      0            373450   8.0500   NaN        S  "
      ]
     },
     "execution_count": 4,
     "metadata": {},
     "output_type": "execute_result"
    }
   ],
   "source": [
    "train_df.head()"
   ]
  },
  {
   "cell_type": "code",
   "execution_count": 5,
   "metadata": {
    "execution": {
     "iopub.execute_input": "2022-08-20T12:26:03.683866Z",
     "iopub.status.busy": "2022-08-20T12:26:03.683449Z",
     "iopub.status.idle": "2022-08-20T12:26:03.700478Z",
     "shell.execute_reply": "2022-08-20T12:26:03.699325Z"
    },
    "papermill": {
     "duration": 0.035798,
     "end_time": "2022-08-20T12:26:03.702582",
     "exception": false,
     "start_time": "2022-08-20T12:26:03.666784",
     "status": "completed"
    },
    "tags": []
   },
   "outputs": [
    {
     "data": {
      "text/plain": [
       "Leader, Dr. Alice (Farnham)        1\n",
       "Foreman, Mr. Benjamin Laventall    1\n",
       "Johanson, Mr. Jakob Alfred         1\n",
       "Lam, Mr. Ali                       1\n",
       "Shellard, Mr. Frederick William    1\n",
       "                                  ..\n",
       "Brewe, Dr. Arthur Jackson          1\n",
       "Simmons, Mr. John                  1\n",
       "Bostandyeff, Mr. Guentcho          1\n",
       "Hanna, Mr. Mansour                 1\n",
       "Baclini, Miss. Eugenie             1\n",
       "Name: Name, Length: 891, dtype: int64"
      ]
     },
     "execution_count": 5,
     "metadata": {},
     "output_type": "execute_result"
    }
   ],
   "source": [
    "train_df['Name'].value_counts()"
   ]
  },
  {
   "cell_type": "code",
   "execution_count": 6,
   "metadata": {
    "execution": {
     "iopub.execute_input": "2022-08-20T12:26:03.735988Z",
     "iopub.status.busy": "2022-08-20T12:26:03.735271Z",
     "iopub.status.idle": "2022-08-20T12:26:03.747261Z",
     "shell.execute_reply": "2022-08-20T12:26:03.746176Z"
    },
    "papermill": {
     "duration": 0.031193,
     "end_time": "2022-08-20T12:26:03.749484",
     "exception": false,
     "start_time": "2022-08-20T12:26:03.718291",
     "status": "completed"
    },
    "tags": []
   },
   "outputs": [
    {
     "data": {
      "text/plain": [
       "Cabin       687\n",
       "Age         177\n",
       "Embarked      2\n",
       "dtype: int64"
      ]
     },
     "execution_count": 6,
     "metadata": {},
     "output_type": "execute_result"
    }
   ],
   "source": [
    "null_vals = train_df.isna().sum().sort_values(ascending=False)\n",
    "null_vals[null_vals > 0 ]"
   ]
  },
  {
   "cell_type": "code",
   "execution_count": 7,
   "metadata": {
    "execution": {
     "iopub.execute_input": "2022-08-20T12:26:03.783390Z",
     "iopub.status.busy": "2022-08-20T12:26:03.782381Z",
     "iopub.status.idle": "2022-08-20T12:26:03.986723Z",
     "shell.execute_reply": "2022-08-20T12:26:03.985341Z"
    },
    "papermill": {
     "duration": 0.224769,
     "end_time": "2022-08-20T12:26:03.990215",
     "exception": false,
     "start_time": "2022-08-20T12:26:03.765446",
     "status": "completed"
    },
    "tags": []
   },
   "outputs": [
    {
     "data": {
      "image/png": "[encoded data removed]",
      "text/plain": [
       "<Figure size 432x288 with 1 Axes>"
      ]
     },
     "metadata": {
      "needs_background": "light"
     },
     "output_type": "display_data"
    }
   ],
   "source": [
    "sns.countplot(\n",
    "   x =  train_df[\"Survived\"].values,\n",
    ").set_xlabel(\"Survived\");\n"
   ]
  },
  {
   "cell_type": "markdown",
   "metadata": {
    "papermill": {
     "duration": 0.01913,
     "end_time": "2022-08-20T12:26:04.032825",
     "exception": false,
     "start_time": "2022-08-20T12:26:04.013695",
     "status": "completed"
    },
    "tags": []
   },
   "source": [
    "# Merging train and test sets for Preprocessing"
   ]
  },
  {
   "cell_type": "code",
   "execution_count": 8,
   "metadata": {
    "execution": {
     "iopub.execute_input": "2022-08-20T12:26:04.066762Z",
     "iopub.status.busy": "2022-08-20T12:26:04.066338Z",
     "iopub.status.idle": "2022-08-20T12:26:04.083633Z",
     "shell.execute_reply": "2022-08-20T12:26:04.082051Z"
    },
    "papermill": {
     "duration": 0.037659,
     "end_time": "2022-08-20T12:26:04.086487",
     "exception": false,
     "start_time": "2022-08-20T12:26:04.048828",
     "status": "completed"
    },
    "tags": []
   },
   "outputs": [
    {
     "name": "stdout",
     "output_type": "stream",
     "text": [
      "all_data size is : (1309, 8)\n"
     ]
    }
   ],
   "source": [
    "ntrain = train_df.shape[0]\n",
    "ntest = test_df.shape[0]\n",
    "y_train = train_df['Survived'].values\n",
    "test_IDs = test_df['PassengerId'].copy()\n",
    "all_data = pd.concat((train_df, test_df)).reset_index(drop=True)\n",
    "all_data.drop(['Survived','PassengerId','Cabin', 'Ticket'], axis=1, inplace=True)\n",
    "print(\"all_data size is : {}\".format(all_data.shape))"
   ]
  },
  {
   "cell_type": "code",
   "execution_count": 9,
   "metadata": {
    "execution": {
     "iopub.execute_input": "2022-08-20T12:26:04.120666Z",
     "iopub.status.busy": "2022-08-20T12:26:04.120289Z",
     "iopub.status.idle": "2022-08-20T12:26:04.131429Z",
     "shell.execute_reply": "2022-08-20T12:26:04.130170Z"
    },
    "papermill": {
     "duration": 0.030878,
     "end_time": "2022-08-20T12:26:04.133643",
     "exception": false,
     "start_time": "2022-08-20T12:26:04.102765",
     "status": "completed"
    },
    "tags": []
   },
   "outputs": [
    {
     "data": {
      "text/plain": [
       "Age         263\n",
       "Embarked      2\n",
       "Fare          1\n",
       "dtype: int64"
      ]
     },
     "execution_count": 9,
     "metadata": {},
     "output_type": "execute_result"
    }
   ],
   "source": [
    "null_vals = all_data.isna().sum().sort_values(ascending=False)\n",
    "null_vals[null_vals > 0 ]"
   ]
  },
  {
   "cell_type": "markdown",
   "metadata": {
    "papermill": {
     "duration": 0.015695,
     "end_time": "2022-08-20T12:26:04.165377",
     "exception": false,
     "start_time": "2022-08-20T12:26:04.149682",
     "status": "completed"
    },
    "tags": []
   },
   "source": [
    "# Removing Null values"
   ]
  },
  {
   "cell_type": "markdown",
   "metadata": {
    "papermill": {
     "duration": 0.015811,
     "end_time": "2022-08-20T12:26:04.197176",
     "exception": false,
     "start_time": "2022-08-20T12:26:04.181365",
     "status": "completed"
    },
    "tags": []
   },
   "source": [
    "### For colls with small amounts of missing data <5"
   ]
  },
  {
   "cell_type": "code",
   "execution_count": 10,
   "metadata": {
    "execution": {
     "iopub.execute_input": "2022-08-20T12:26:04.231557Z",
     "iopub.status.busy": "2022-08-20T12:26:04.231141Z",
     "iopub.status.idle": "2022-08-20T12:26:04.237499Z",
     "shell.execute_reply": "2022-08-20T12:26:04.236080Z"
    },
    "papermill": {
     "duration": 0.026446,
     "end_time": "2022-08-20T12:26:04.239877",
     "exception": false,
     "start_time": "2022-08-20T12:26:04.213431",
     "status": "completed"
    },
    "tags": []
   },
   "outputs": [],
   "source": [
    "#all_data['Lifeboat'] = all_data['Lifeboat'].fillna('None')"
   ]
  },
  {
   "cell_type": "code",
   "execution_count": 11,
   "metadata": {
    "execution": {
     "iopub.execute_input": "2022-08-20T12:26:04.274197Z",
     "iopub.status.busy": "2022-08-20T12:26:04.273802Z",
     "iopub.status.idle": "2022-08-20T12:26:04.304443Z",
     "shell.execute_reply": "2022-08-20T12:26:04.303333Z"
    },
    "papermill": {
     "duration": 0.050905,
     "end_time": "2022-08-20T12:26:04.307113",
     "exception": false,
     "start_time": "2022-08-20T12:26:04.256208",
     "status": "completed"
    },
    "tags": []
   },
   "outputs": [],
   "source": [
    "for col in null_vals[(null_vals <10) &( null_vals > 0)  ].index : \n",
    "    all_data[col] = all_data.groupby([\"Pclass\",\"Sex\"])[col].transform(\n",
    "        lambda x: x.fillna(x.mode()[0]))"
   ]
  },
  {
   "cell_type": "markdown",
   "metadata": {
    "papermill": {
     "duration": 0.016033,
     "end_time": "2022-08-20T12:26:04.339485",
     "exception": false,
     "start_time": "2022-08-20T12:26:04.323452",
     "status": "completed"
    },
    "tags": []
   },
   "source": [
    "### For categorical data : "
   ]
  },
  {
   "cell_type": "code",
   "execution_count": 12,
   "metadata": {
    "execution": {
     "iopub.execute_input": "2022-08-20T12:26:04.374742Z",
     "iopub.status.busy": "2022-08-20T12:26:04.374351Z",
     "iopub.status.idle": "2022-08-20T12:26:04.384546Z",
     "shell.execute_reply": "2022-08-20T12:26:04.383587Z"
    },
    "papermill": {
     "duration": 0.031086,
     "end_time": "2022-08-20T12:26:04.386828",
     "exception": false,
     "start_time": "2022-08-20T12:26:04.355742",
     "status": "completed"
    },
    "tags": []
   },
   "outputs": [
    {
     "data": {
      "text/plain": [
       "['Sex', 'Embarked']"
      ]
     },
     "execution_count": 12,
     "metadata": {},
     "output_type": "execute_result"
    }
   ],
   "source": [
    "categorical_col = []\n",
    "for col in all_data.columns:\n",
    "    if all_data[col].dtype in [object , bool] and len(all_data[col].unique()) <= 50:\n",
    "        categorical_col.append(col)\n",
    "categorical_col"
   ]
  },
  {
   "cell_type": "code",
   "execution_count": 13,
   "metadata": {
    "execution": {
     "iopub.execute_input": "2022-08-20T12:26:04.421344Z",
     "iopub.status.busy": "2022-08-20T12:26:04.420920Z",
     "iopub.status.idle": "2022-08-20T12:26:04.433012Z",
     "shell.execute_reply": "2022-08-20T12:26:04.432193Z"
    },
    "papermill": {
     "duration": 0.032394,
     "end_time": "2022-08-20T12:26:04.435609",
     "exception": false,
     "start_time": "2022-08-20T12:26:04.403215",
     "status": "completed"
    },
    "tags": []
   },
   "outputs": [
    {
     "name": "stdout",
     "output_type": "stream",
     "text": [
      "Sex\n",
      "number of null entries in col : 0\n",
      "male      843\n",
      "female    466\n",
      "Name: Sex, dtype: int64\n",
      "****************************************************************************************************\n",
      "Embarked\n",
      "number of null entries in col : 0\n",
      "S    914\n",
      "C    272\n",
      "Q    123\n",
      "Name: Embarked, dtype: int64\n",
      "****************************************************************************************************\n"
     ]
    }
   ],
   "source": [
    "for col in categorical_col: \n",
    "    print(col)\n",
    "    print(f'number of null entries in col : {all_data[col].isnull().sum()}')\n",
    "    print(all_data[col].value_counts())\n",
    "    print('*'*100)"
   ]
  },
  {
   "cell_type": "markdown",
   "metadata": {
    "papermill": {
     "duration": 0.016283,
     "end_time": "2022-08-20T12:26:04.468722",
     "exception": false,
     "start_time": "2022-08-20T12:26:04.452439",
     "status": "completed"
    },
    "tags": []
   },
   "source": [
    "Our data looks fairly distributed with mostly one category in each holding most entries, so it would be acceptable to change our null values to the mode of each feature"
   ]
  },
  {
   "cell_type": "code",
   "execution_count": 14,
   "metadata": {
    "execution": {
     "iopub.execute_input": "2022-08-20T12:26:04.503531Z",
     "iopub.status.busy": "2022-08-20T12:26:04.502805Z",
     "iopub.status.idle": "2022-08-20T12:26:04.513513Z",
     "shell.execute_reply": "2022-08-20T12:26:04.512229Z"
    },
    "papermill": {
     "duration": 0.030843,
     "end_time": "2022-08-20T12:26:04.515886",
     "exception": false,
     "start_time": "2022-08-20T12:26:04.485043",
     "status": "completed"
    },
    "tags": []
   },
   "outputs": [
    {
     "name": "stdout",
     "output_type": "stream",
     "text": [
      "Sex mode : male\n",
      "Embarked mode : S\n"
     ]
    }
   ],
   "source": [
    "for col in categorical_col:\n",
    "    print(f\"{col} mode : {all_data[col].mode()[0]}\")\n",
    "    all_data[col] = all_data[col].fillna(all_data[col].mode()[0])"
   ]
  },
  {
   "cell_type": "markdown",
   "metadata": {
    "papermill": {
     "duration": 0.016269,
     "end_time": "2022-08-20T12:26:04.548747",
     "exception": false,
     "start_time": "2022-08-20T12:26:04.532478",
     "status": "completed"
    },
    "tags": []
   },
   "source": [
    "### for our numerical features : "
   ]
  },
  {
   "cell_type": "code",
   "execution_count": 15,
   "metadata": {
    "execution": {
     "iopub.execute_input": "2022-08-20T12:26:04.584049Z",
     "iopub.status.busy": "2022-08-20T12:26:04.583324Z",
     "iopub.status.idle": "2022-08-20T12:26:04.590028Z",
     "shell.execute_reply": "2022-08-20T12:26:04.589296Z"
    },
    "papermill": {
     "duration": 0.026705,
     "end_time": "2022-08-20T12:26:04.592073",
     "exception": false,
     "start_time": "2022-08-20T12:26:04.565368",
     "status": "completed"
    },
    "tags": []
   },
   "outputs": [
    {
     "data": {
      "text/plain": [
       "263"
      ]
     },
     "execution_count": 15,
     "metadata": {},
     "output_type": "execute_result"
    }
   ],
   "source": [
    "all_data['Age'].isnull().sum()"
   ]
  },
  {
   "cell_type": "code",
   "execution_count": 16,
   "metadata": {
    "execution": {
     "iopub.execute_input": "2022-08-20T12:26:04.627538Z",
     "iopub.status.busy": "2022-08-20T12:26:04.626785Z",
     "iopub.status.idle": "2022-08-20T12:26:04.643167Z",
     "shell.execute_reply": "2022-08-20T12:26:04.641979Z"
    },
    "papermill": {
     "duration": 0.036906,
     "end_time": "2022-08-20T12:26:04.645633",
     "exception": false,
     "start_time": "2022-08-20T12:26:04.608727",
     "status": "completed"
    },
    "tags": []
   },
   "outputs": [
    {
     "data": {
      "text/html": [
       "<div>\n",
       "<style scoped>\n",
       "    .dataframe tbody tr th:only-of-type {\n",
       "        vertical-align: middle;\n",
       "    }\n",
       "\n",
       "    .dataframe tbody tr th {\n",
       "        vertical-align: top;\n",
       "    }\n",
       "\n",
       "    .dataframe thead th {\n",
       "        text-align: right;\n",
       "    }\n",
       "</style>\n",
       "<table border=\"1\" class=\"dataframe\">\n",
       "  <thead>\n",
       "    <tr style=\"text-align: right;\">\n",
       "      <th></th>\n",
       "      <th>Pclass</th>\n",
       "      <th>Name</th>\n",
       "      <th>Sex</th>\n",
       "      <th>Age</th>\n",
       "      <th>SibSp</th>\n",
       "      <th>Parch</th>\n",
       "      <th>Fare</th>\n",
       "      <th>Embarked</th>\n",
       "    </tr>\n",
       "  </thead>\n",
       "  <tbody>\n",
       "    <tr>\n",
       "      <th>0</th>\n",
       "      <td>3</td>\n",
       "      <td>Braund, Mr. Owen Harris</td>\n",
       "      <td>male</td>\n",
       "      <td>22.0</td>\n",
       "      <td>1</td>\n",
       "      <td>0</td>\n",
       "      <td>7.2500</td>\n",
       "      <td>S</td>\n",
       "    </tr>\n",
       "    <tr>\n",
       "      <th>1</th>\n",
       "      <td>1</td>\n",
       "      <td>Cumings, Mrs. John Bradley (Florence Briggs Th...</td>\n",
       "      <td>female</td>\n",
       "      <td>38.0</td>\n",
       "      <td>1</td>\n",
       "      <td>0</td>\n",
       "      <td>71.2833</td>\n",
       "      <td>C</td>\n",
       "    </tr>\n",
       "    <tr>\n",
       "      <th>2</th>\n",
       "      <td>3</td>\n",
       "      <td>Heikkinen, Miss. Laina</td>\n",
       "      <td>female</td>\n",
       "      <td>26.0</td>\n",
       "      <td>0</td>\n",
       "      <td>0</td>\n",
       "      <td>7.9250</td>\n",
       "      <td>S</td>\n",
       "    </tr>\n",
       "    <tr>\n",
       "      <th>3</th>\n",
       "      <td>1</td>\n",
       "      <td>Futrelle, Mrs. Jacques Heath (Lily May Peel)</td>\n",
       "      <td>female</td>\n",
       "      <td>35.0</td>\n",
       "      <td>1</td>\n",
       "      <td>0</td>\n",
       "      <td>53.1000</td>\n",
       "      <td>S</td>\n",
       "    </tr>\n",
       "    <tr>\n",
       "      <th>4</th>\n",
       "      <td>3</td>\n",
       "      <td>Allen, Mr. William Henry</td>\n",
       "      <td>male</td>\n",
       "      <td>35.0</td>\n",
       "      <td>0</td>\n",
       "      <td>0</td>\n",
       "      <td>8.0500</td>\n",
       "      <td>S</td>\n",
       "    </tr>\n",
       "  </tbody>\n",
       "</table>\n",
       "</div>"
      ],
      "text/plain": [
       "   Pclass                                               Name     Sex   Age  \\\n",
       "0       3                            Braund, Mr. Owen Harris    male  22.0   \n",
       "1       1  Cumings, Mrs. John Bradley (Florence Briggs Th...  female  38.0   \n",
       "2       3                             Heikkinen, Miss. Laina  female  26.0   \n",
       "3       1       Futrelle, Mrs. Jacques Heath (Lily May Peel)  female  35.0   \n",
       "4       3                           Allen, Mr. William Henry    male  35.0   \n",
       "\n",
       "   SibSp  Parch     Fare Embarked  \n",
       "0      1      0   7.2500        S  \n",
       "1      1      0  71.2833        C  \n",
       "2      0      0   7.9250        S  \n",
       "3      1      0  53.1000        S  \n",
       "4      0      0   8.0500        S  "
      ]
     },
     "execution_count": 16,
     "metadata": {},
     "output_type": "execute_result"
    }
   ],
   "source": [
    "all_data.head()"
   ]
  },
  {
   "cell_type": "markdown",
   "metadata": {
    "papermill": {
     "duration": 0.01668,
     "end_time": "2022-08-20T12:26:04.679189",
     "exception": false,
     "start_time": "2022-08-20T12:26:04.662509",
     "status": "completed"
    },
    "tags": []
   },
   "source": [
    "# Feature Engeneering"
   ]
  },
  {
   "cell_type": "code",
   "execution_count": 17,
   "metadata": {
    "execution": {
     "iopub.execute_input": "2022-08-20T12:26:04.715172Z",
     "iopub.status.busy": "2022-08-20T12:26:04.714415Z",
     "iopub.status.idle": "2022-08-20T12:26:04.721644Z",
     "shell.execute_reply": "2022-08-20T12:26:04.720756Z"
    },
    "papermill": {
     "duration": 0.027851,
     "end_time": "2022-08-20T12:26:04.723968",
     "exception": false,
     "start_time": "2022-08-20T12:26:04.696117",
     "status": "completed"
    },
    "tags": []
   },
   "outputs": [],
   "source": [
    "# FamilySize\n",
    "all_data['FamilySize'] = all_data['SibSp'] + all_data['Parch'] + 1\n",
    "\n",
    "# IsAlone\n",
    "all_data['IsAlone'] = all_data['FamilySize'] <= 1\n"
   ]
  },
  {
   "cell_type": "code",
   "execution_count": 18,
   "metadata": {
    "execution": {
     "iopub.execute_input": "2022-08-20T12:26:04.759934Z",
     "iopub.status.busy": "2022-08-20T12:26:04.759363Z",
     "iopub.status.idle": "2022-08-20T12:26:04.774585Z",
     "shell.execute_reply": "2022-08-20T12:26:04.773809Z"
    },
    "papermill": {
     "duration": 0.035661,
     "end_time": "2022-08-20T12:26:04.776551",
     "exception": false,
     "start_time": "2022-08-20T12:26:04.740890",
     "status": "completed"
    },
    "tags": []
   },
   "outputs": [
    {
     "data": {
      "text/plain": [
       "Mr         736\n",
       "Miss       256\n",
       "Mrs        191\n",
       "NoTitle     67\n",
       "Master      59\n",
       "Name: Title, dtype: int64"
      ]
     },
     "execution_count": 18,
     "metadata": {},
     "output_type": "execute_result"
    }
   ],
   "source": [
    "all_data['Title'] = all_data['Name'].apply(lambda x : x.split(' ')[1].strip('123,./!?'))\n",
    "all_data.drop('Name', axis = 1 , inplace = True)\n",
    "all_data['Title'] = all_data['Title'].apply(lambda x : x if x in ['Mr','Miss','Mrs','Master'] else 'NoTitle')\n",
    "all_data['Title'].value_counts()"
   ]
  },
  {
   "cell_type": "code",
   "execution_count": 19,
   "metadata": {
    "execution": {
     "iopub.execute_input": "2022-08-20T12:26:04.812895Z",
     "iopub.status.busy": "2022-08-20T12:26:04.811826Z",
     "iopub.status.idle": "2022-08-20T12:26:04.821428Z",
     "shell.execute_reply": "2022-08-20T12:26:04.820655Z"
    },
    "papermill": {
     "duration": 0.029638,
     "end_time": "2022-08-20T12:26:04.823463",
     "exception": false,
     "start_time": "2022-08-20T12:26:04.793825",
     "status": "completed"
    },
    "tags": []
   },
   "outputs": [
    {
     "data": {
      "text/plain": [
       "3    736\n",
       "1    256\n",
       "2    191\n",
       "0     67\n",
       "4     59\n",
       "Name: Title, dtype: int64"
      ]
     },
     "execution_count": 19,
     "metadata": {},
     "output_type": "execute_result"
    }
   ],
   "source": [
    "all_data['Title'] = all_data['Title'].map({'NoTitle' : 0 , 'Miss': 1, 'Mrs' : 2,'Mr' :3 ,'Master' : 4})\n",
    "all_data['Title'].value_counts()"
   ]
  },
  {
   "cell_type": "code",
   "execution_count": 20,
   "metadata": {
    "execution": {
     "iopub.execute_input": "2022-08-20T12:26:04.860466Z",
     "iopub.status.busy": "2022-08-20T12:26:04.860072Z",
     "iopub.status.idle": "2022-08-20T12:26:04.868595Z",
     "shell.execute_reply": "2022-08-20T12:26:04.867484Z"
    },
    "papermill": {
     "duration": 0.030315,
     "end_time": "2022-08-20T12:26:04.870813",
     "exception": false,
     "start_time": "2022-08-20T12:26:04.840498",
     "status": "completed"
    },
    "tags": []
   },
   "outputs": [
    {
     "data": {
      "text/plain": [
       "24.00    47\n",
       "22.00    43\n",
       "21.00    41\n",
       "30.00    40\n",
       "18.00    39\n",
       "         ..\n",
       "20.50     1\n",
       "11.50     1\n",
       "22.50     1\n",
       "0.33      1\n",
       "60.50     1\n",
       "Name: Age, Length: 98, dtype: int64"
      ]
     },
     "execution_count": 20,
     "metadata": {},
     "output_type": "execute_result"
    }
   ],
   "source": [
    "all_data[\"Age\"].value_counts()"
   ]
  },
  {
   "cell_type": "code",
   "execution_count": 21,
   "metadata": {
    "execution": {
     "iopub.execute_input": "2022-08-20T12:26:04.907807Z",
     "iopub.status.busy": "2022-08-20T12:26:04.906708Z",
     "iopub.status.idle": "2022-08-20T12:26:04.926404Z",
     "shell.execute_reply": "2022-08-20T12:26:04.925413Z"
    },
    "papermill": {
     "duration": 0.041324,
     "end_time": "2022-08-20T12:26:04.929121",
     "exception": false,
     "start_time": "2022-08-20T12:26:04.887797",
     "status": "completed"
    },
    "tags": []
   },
   "outputs": [],
   "source": [
    "all_data['Age'] = all_data.groupby(['Pclass', 'Sex','Title']).Age.apply(lambda x: x.fillna(x.median()))\n"
   ]
  },
  {
   "cell_type": "code",
   "execution_count": 22,
   "metadata": {
    "execution": {
     "iopub.execute_input": "2022-08-20T12:26:04.965817Z",
     "iopub.status.busy": "2022-08-20T12:26:04.964892Z",
     "iopub.status.idle": "2022-08-20T12:26:04.974926Z",
     "shell.execute_reply": "2022-08-20T12:26:04.973804Z"
    },
    "papermill": {
     "duration": 0.031057,
     "end_time": "2022-08-20T12:26:04.977294",
     "exception": false,
     "start_time": "2022-08-20T12:26:04.946237",
     "status": "completed"
    },
    "tags": []
   },
   "outputs": [
    {
     "data": {
      "text/plain": [
       "26.00    165\n",
       "18.00     86\n",
       "30.00     55\n",
       "24.00     47\n",
       "42.00     45\n",
       "        ... \n",
       "26.50      1\n",
       "11.50      1\n",
       "76.00      1\n",
       "0.33       1\n",
       "60.50      1\n",
       "Name: Age, Length: 98, dtype: int64"
      ]
     },
     "execution_count": 22,
     "metadata": {},
     "output_type": "execute_result"
    }
   ],
   "source": [
    "all_data[\"Age\"].value_counts()"
   ]
  },
  {
   "cell_type": "markdown",
   "metadata": {
    "papermill": {
     "duration": 0.017455,
     "end_time": "2022-08-20T12:26:05.012042",
     "exception": false,
     "start_time": "2022-08-20T12:26:04.994587",
     "status": "completed"
    },
    "tags": []
   },
   "source": [
    "## Label encoding our categorical data"
   ]
  },
  {
   "cell_type": "code",
   "execution_count": 23,
   "metadata": {
    "execution": {
     "iopub.execute_input": "2022-08-20T12:26:05.048992Z",
     "iopub.status.busy": "2022-08-20T12:26:05.047869Z",
     "iopub.status.idle": "2022-08-20T12:26:05.059455Z",
     "shell.execute_reply": "2022-08-20T12:26:05.058472Z"
    },
    "papermill": {
     "duration": 0.031985,
     "end_time": "2022-08-20T12:26:05.061520",
     "exception": false,
     "start_time": "2022-08-20T12:26:05.029535",
     "status": "completed"
    },
    "tags": []
   },
   "outputs": [
    {
     "data": {
      "text/plain": [
       "['Sex', 'Embarked', 'IsAlone']"
      ]
     },
     "execution_count": 23,
     "metadata": {},
     "output_type": "execute_result"
    }
   ],
   "source": [
    "categorical_col = []\n",
    "for col in all_data.columns:\n",
    "    if all_data[col].dtype in [object, bool] and len(all_data[col].unique()) <= 50:\n",
    "        categorical_col.append(col)\n",
    "categorical_col"
   ]
  },
  {
   "cell_type": "code",
   "execution_count": 24,
   "metadata": {
    "execution": {
     "iopub.execute_input": "2022-08-20T12:26:05.098223Z",
     "iopub.status.busy": "2022-08-20T12:26:05.097573Z",
     "iopub.status.idle": "2022-08-20T12:26:05.114509Z",
     "shell.execute_reply": "2022-08-20T12:26:05.113444Z"
    },
    "papermill": {
     "duration": 0.03781,
     "end_time": "2022-08-20T12:26:05.116626",
     "exception": false,
     "start_time": "2022-08-20T12:26:05.078816",
     "status": "completed"
    },
    "tags": []
   },
   "outputs": [
    {
     "data": {
      "text/html": [
       "<div>\n",
       "<style scoped>\n",
       "    .dataframe tbody tr th:only-of-type {\n",
       "        vertical-align: middle;\n",
       "    }\n",
       "\n",
       "    .dataframe tbody tr th {\n",
       "        vertical-align: top;\n",
       "    }\n",
       "\n",
       "    .dataframe thead th {\n",
       "        text-align: right;\n",
       "    }\n",
       "</style>\n",
       "<table border=\"1\" class=\"dataframe\">\n",
       "  <thead>\n",
       "    <tr style=\"text-align: right;\">\n",
       "      <th></th>\n",
       "      <th>Sex</th>\n",
       "      <th>Embarked</th>\n",
       "      <th>IsAlone</th>\n",
       "    </tr>\n",
       "  </thead>\n",
       "  <tbody>\n",
       "    <tr>\n",
       "      <th>0</th>\n",
       "      <td>1</td>\n",
       "      <td>2</td>\n",
       "      <td>0</td>\n",
       "    </tr>\n",
       "    <tr>\n",
       "      <th>1</th>\n",
       "      <td>0</td>\n",
       "      <td>0</td>\n",
       "      <td>0</td>\n",
       "    </tr>\n",
       "    <tr>\n",
       "      <th>2</th>\n",
       "      <td>0</td>\n",
       "      <td>2</td>\n",
       "      <td>1</td>\n",
       "    </tr>\n",
       "    <tr>\n",
       "      <th>3</th>\n",
       "      <td>0</td>\n",
       "      <td>2</td>\n",
       "      <td>0</td>\n",
       "    </tr>\n",
       "    <tr>\n",
       "      <th>4</th>\n",
       "      <td>1</td>\n",
       "      <td>2</td>\n",
       "      <td>1</td>\n",
       "    </tr>\n",
       "  </tbody>\n",
       "</table>\n",
       "</div>"
      ],
      "text/plain": [
       "   Sex  Embarked  IsAlone\n",
       "0    1         2        0\n",
       "1    0         0        0\n",
       "2    0         2        1\n",
       "3    0         2        0\n",
       "4    1         2        1"
      ]
     },
     "execution_count": 24,
     "metadata": {},
     "output_type": "execute_result"
    }
   ],
   "source": [
    "for col in categorical_col:\n",
    "    all_data[col] = all_data[col].astype(\"category\").cat.codes\n",
    "all_data[categorical_col].head()"
   ]
  },
  {
   "cell_type": "code",
   "execution_count": 25,
   "metadata": {
    "execution": {
     "iopub.execute_input": "2022-08-20T12:26:05.153547Z",
     "iopub.status.busy": "2022-08-20T12:26:05.152831Z",
     "iopub.status.idle": "2022-08-20T12:26:05.167818Z",
     "shell.execute_reply": "2022-08-20T12:26:05.166571Z"
    },
    "papermill": {
     "duration": 0.035683,
     "end_time": "2022-08-20T12:26:05.169997",
     "exception": false,
     "start_time": "2022-08-20T12:26:05.134314",
     "status": "completed"
    },
    "tags": []
   },
   "outputs": [
    {
     "data": {
      "text/html": [
       "<div>\n",
       "<style scoped>\n",
       "    .dataframe tbody tr th:only-of-type {\n",
       "        vertical-align: middle;\n",
       "    }\n",
       "\n",
       "    .dataframe tbody tr th {\n",
       "        vertical-align: top;\n",
       "    }\n",
       "\n",
       "    .dataframe thead th {\n",
       "        text-align: right;\n",
       "    }\n",
       "</style>\n",
       "<table border=\"1\" class=\"dataframe\">\n",
       "  <thead>\n",
       "    <tr style=\"text-align: right;\">\n",
       "      <th></th>\n",
       "      <th>Pclass</th>\n",
       "      <th>Sex</th>\n",
       "      <th>Age</th>\n",
       "      <th>SibSp</th>\n",
       "      <th>Parch</th>\n",
       "      <th>Fare</th>\n",
       "      <th>Embarked</th>\n",
       "      <th>FamilySize</th>\n",
       "      <th>IsAlone</th>\n",
       "      <th>Title</th>\n",
       "    </tr>\n",
       "  </thead>\n",
       "  <tbody>\n",
       "    <tr>\n",
       "      <th>0</th>\n",
       "      <td>3</td>\n",
       "      <td>1</td>\n",
       "      <td>22.0</td>\n",
       "      <td>1</td>\n",
       "      <td>0</td>\n",
       "      <td>7.2500</td>\n",
       "      <td>2</td>\n",
       "      <td>2</td>\n",
       "      <td>0</td>\n",
       "      <td>3</td>\n",
       "    </tr>\n",
       "    <tr>\n",
       "      <th>1</th>\n",
       "      <td>1</td>\n",
       "      <td>0</td>\n",
       "      <td>38.0</td>\n",
       "      <td>1</td>\n",
       "      <td>0</td>\n",
       "      <td>71.2833</td>\n",
       "      <td>0</td>\n",
       "      <td>2</td>\n",
       "      <td>0</td>\n",
       "      <td>2</td>\n",
       "    </tr>\n",
       "    <tr>\n",
       "      <th>2</th>\n",
       "      <td>3</td>\n",
       "      <td>0</td>\n",
       "      <td>26.0</td>\n",
       "      <td>0</td>\n",
       "      <td>0</td>\n",
       "      <td>7.9250</td>\n",
       "      <td>2</td>\n",
       "      <td>1</td>\n",
       "      <td>1</td>\n",
       "      <td>1</td>\n",
       "    </tr>\n",
       "    <tr>\n",
       "      <th>3</th>\n",
       "      <td>1</td>\n",
       "      <td>0</td>\n",
       "      <td>35.0</td>\n",
       "      <td>1</td>\n",
       "      <td>0</td>\n",
       "      <td>53.1000</td>\n",
       "      <td>2</td>\n",
       "      <td>2</td>\n",
       "      <td>0</td>\n",
       "      <td>2</td>\n",
       "    </tr>\n",
       "    <tr>\n",
       "      <th>4</th>\n",
       "      <td>3</td>\n",
       "      <td>1</td>\n",
       "      <td>35.0</td>\n",
       "      <td>0</td>\n",
       "      <td>0</td>\n",
       "      <td>8.0500</td>\n",
       "      <td>2</td>\n",
       "      <td>1</td>\n",
       "      <td>1</td>\n",
       "      <td>3</td>\n",
       "    </tr>\n",
       "  </tbody>\n",
       "</table>\n",
       "</div>"
      ],
      "text/plain": [
       "   Pclass  Sex   Age  SibSp  Parch     Fare  Embarked  FamilySize  IsAlone  \\\n",
       "0       3    1  22.0      1      0   7.2500         2           2        0   \n",
       "1       1    0  38.0      1      0  71.2833         0           2        0   \n",
       "2       3    0  26.0      0      0   7.9250         2           1        1   \n",
       "3       1    0  35.0      1      0  53.1000         2           2        0   \n",
       "4       3    1  35.0      0      0   8.0500         2           1        1   \n",
       "\n",
       "   Title  \n",
       "0      3  \n",
       "1      2  \n",
       "2      1  \n",
       "3      2  \n",
       "4      3  "
      ]
     },
     "execution_count": 25,
     "metadata": {},
     "output_type": "execute_result"
    }
   ],
   "source": [
    "all_data.head()"
   ]
  },
  {
   "cell_type": "code",
   "execution_count": 26,
   "metadata": {
    "execution": {
     "iopub.execute_input": "2022-08-20T12:26:05.207390Z",
     "iopub.status.busy": "2022-08-20T12:26:05.206753Z",
     "iopub.status.idle": "2022-08-20T12:26:05.213641Z",
     "shell.execute_reply": "2022-08-20T12:26:05.212644Z"
    },
    "papermill": {
     "duration": 0.027914,
     "end_time": "2022-08-20T12:26:05.215677",
     "exception": false,
     "start_time": "2022-08-20T12:26:05.187763",
     "status": "completed"
    },
    "tags": []
   },
   "outputs": [
    {
     "data": {
      "text/plain": [
       "'from scipy.stats import norm, skew #for some statistics\\n\\nnumeric_feats = all_data.dtypes[all_data.dtypes != \"object\"].index\\n\\n# Check the skew of all numerical features\\nskewed_feats = all_data[numeric_feats].apply(lambda x: skew(x.dropna())).sort_values(ascending=False)\\nprint(\"\\nSkew in numerical features: \\n\")\\nskewness = pd.DataFrame({\\'Skew\\' :skewed_feats})\\nskewness.head(10) , skewness.shape'"
      ]
     },
     "execution_count": 26,
     "metadata": {},
     "output_type": "execute_result"
    }
   ],
   "source": [
    "\"\"\"from scipy.stats import norm, skew #for some statistics\n",
    "\n",
    "numeric_feats = all_data.dtypes[all_data.dtypes != \"object\"].index\n",
    "\n",
    "# Check the skew of all numerical features\n",
    "skewed_feats = all_data[numeric_feats].apply(lambda x: skew(x.dropna())).sort_values(ascending=False)\n",
    "print(\"\\nSkew in numerical features: \\n\")\n",
    "skewness = pd.DataFrame({'Skew' :skewed_feats})\n",
    "skewness.head(10) , skewness.shape\"\"\""
   ]
  },
  {
   "cell_type": "code",
   "execution_count": 27,
   "metadata": {
    "execution": {
     "iopub.execute_input": "2022-08-20T12:26:05.253655Z",
     "iopub.status.busy": "2022-08-20T12:26:05.252980Z",
     "iopub.status.idle": "2022-08-20T12:26:05.259748Z",
     "shell.execute_reply": "2022-08-20T12:26:05.258498Z"
    },
    "papermill": {
     "duration": 0.028488,
     "end_time": "2022-08-20T12:26:05.262000",
     "exception": false,
     "start_time": "2022-08-20T12:26:05.233512",
     "status": "completed"
    },
    "tags": []
   },
   "outputs": [
    {
     "data": {
      "text/plain": [
       "'skewness = skewness[abs(skewness[\\'Skew\\']) > 4 ]\\nprint(\"There are {} skewed numerical features to Box Cox transform\".format(skewness.shape[0]))\\n\\nskewed_features = skewness.index\\n    \\nall_data[skewed_features] = np.log1p(all_data[skewed_features])'"
      ]
     },
     "execution_count": 27,
     "metadata": {},
     "output_type": "execute_result"
    }
   ],
   "source": [
    "\"\"\"skewness = skewness[abs(skewness['Skew']) > 4 ]\n",
    "print(\"There are {} skewed numerical features to Box Cox transform\".format(skewness.shape[0]))\n",
    "\n",
    "skewed_features = skewness.index\n",
    "    \n",
    "all_data[skewed_features] = np.log1p(all_data[skewed_features])\"\"\""
   ]
  },
  {
   "cell_type": "markdown",
   "metadata": {
    "papermill": {
     "duration": 0.017549,
     "end_time": "2022-08-20T12:26:05.297427",
     "exception": false,
     "start_time": "2022-08-20T12:26:05.279878",
     "status": "completed"
    },
    "tags": []
   },
   "source": [
    "# One Hot Encoding"
   ]
  },
  {
   "cell_type": "code",
   "execution_count": 28,
   "metadata": {
    "execution": {
     "iopub.execute_input": "2022-08-20T12:26:05.335945Z",
     "iopub.status.busy": "2022-08-20T12:26:05.335147Z",
     "iopub.status.idle": "2022-08-20T12:26:05.482668Z",
     "shell.execute_reply": "2022-08-20T12:26:05.481613Z"
    },
    "papermill": {
     "duration": 0.169996,
     "end_time": "2022-08-20T12:26:05.485480",
     "exception": false,
     "start_time": "2022-08-20T12:26:05.315484",
     "status": "completed"
    },
    "tags": []
   },
   "outputs": [],
   "source": [
    "from sklearn.preprocessing import OneHotEncoder\n",
    "ohe = OneHotEncoder(categories='auto')\n",
    "\n",
    "#One-hot-encode the categorical columns.\n",
    "#Unfortunately outputs an array instead of dataframe.\n",
    "array_hot_encoded = ohe.fit_transform(all_data[categorical_col]).toarray()\n",
    "\n",
    "#Convert it to df\n",
    "data_hot_encoded = pd.DataFrame(array_hot_encoded, index=all_data.index)\n",
    "\n",
    "#Extract only the columns that didnt need to be encoded\n",
    "data_other_cols = all_data.drop(columns=categorical_col)\n",
    "\n",
    "#Concatenate the two dataframes : \n",
    "all_data = pd.concat([data_hot_encoded, data_other_cols], axis=1)"
   ]
  },
  {
   "cell_type": "code",
   "execution_count": 29,
   "metadata": {
    "execution": {
     "iopub.execute_input": "2022-08-20T12:26:05.523105Z",
     "iopub.status.busy": "2022-08-20T12:26:05.522727Z",
     "iopub.status.idle": "2022-08-20T12:26:05.551444Z",
     "shell.execute_reply": "2022-08-20T12:26:05.550105Z"
    },
    "papermill": {
     "duration": 0.050432,
     "end_time": "2022-08-20T12:26:05.553883",
     "exception": false,
     "start_time": "2022-08-20T12:26:05.503451",
     "status": "completed"
    },
    "tags": []
   },
   "outputs": [
    {
     "data": {
      "text/html": [
       "<div>\n",
       "<style scoped>\n",
       "    .dataframe tbody tr th:only-of-type {\n",
       "        vertical-align: middle;\n",
       "    }\n",
       "\n",
       "    .dataframe tbody tr th {\n",
       "        vertical-align: top;\n",
       "    }\n",
       "\n",
       "    .dataframe thead th {\n",
       "        text-align: right;\n",
       "    }\n",
       "</style>\n",
       "<table border=\"1\" class=\"dataframe\">\n",
       "  <thead>\n",
       "    <tr style=\"text-align: right;\">\n",
       "      <th></th>\n",
       "      <th>0</th>\n",
       "      <th>1</th>\n",
       "      <th>2</th>\n",
       "      <th>3</th>\n",
       "      <th>4</th>\n",
       "      <th>5</th>\n",
       "      <th>6</th>\n",
       "      <th>Pclass</th>\n",
       "      <th>Age</th>\n",
       "      <th>SibSp</th>\n",
       "      <th>Parch</th>\n",
       "      <th>Fare</th>\n",
       "      <th>FamilySize</th>\n",
       "      <th>Title</th>\n",
       "    </tr>\n",
       "  </thead>\n",
       "  <tbody>\n",
       "    <tr>\n",
       "      <th>0</th>\n",
       "      <td>0.0</td>\n",
       "      <td>1.0</td>\n",
       "      <td>0.0</td>\n",
       "      <td>0.0</td>\n",
       "      <td>1.0</td>\n",
       "      <td>1.0</td>\n",
       "      <td>0.0</td>\n",
       "      <td>3</td>\n",
       "      <td>22.0</td>\n",
       "      <td>1</td>\n",
       "      <td>0</td>\n",
       "      <td>7.2500</td>\n",
       "      <td>2</td>\n",
       "      <td>3</td>\n",
       "    </tr>\n",
       "    <tr>\n",
       "      <th>1</th>\n",
       "      <td>1.0</td>\n",
       "      <td>0.0</td>\n",
       "      <td>1.0</td>\n",
       "      <td>0.0</td>\n",
       "      <td>0.0</td>\n",
       "      <td>1.0</td>\n",
       "      <td>0.0</td>\n",
       "      <td>1</td>\n",
       "      <td>38.0</td>\n",
       "      <td>1</td>\n",
       "      <td>0</td>\n",
       "      <td>71.2833</td>\n",
       "      <td>2</td>\n",
       "      <td>2</td>\n",
       "    </tr>\n",
       "    <tr>\n",
       "      <th>2</th>\n",
       "      <td>1.0</td>\n",
       "      <td>0.0</td>\n",
       "      <td>0.0</td>\n",
       "      <td>0.0</td>\n",
       "      <td>1.0</td>\n",
       "      <td>0.0</td>\n",
       "      <td>1.0</td>\n",
       "      <td>3</td>\n",
       "      <td>26.0</td>\n",
       "      <td>0</td>\n",
       "      <td>0</td>\n",
       "      <td>7.9250</td>\n",
       "      <td>1</td>\n",
       "      <td>1</td>\n",
       "    </tr>\n",
       "    <tr>\n",
       "      <th>3</th>\n",
       "      <td>1.0</td>\n",
       "      <td>0.0</td>\n",
       "      <td>0.0</td>\n",
       "      <td>0.0</td>\n",
       "      <td>1.0</td>\n",
       "      <td>1.0</td>\n",
       "      <td>0.0</td>\n",
       "      <td>1</td>\n",
       "      <td>35.0</td>\n",
       "      <td>1</td>\n",
       "      <td>0</td>\n",
       "      <td>53.1000</td>\n",
       "      <td>2</td>\n",
       "      <td>2</td>\n",
       "    </tr>\n",
       "    <tr>\n",
       "      <th>4</th>\n",
       "      <td>0.0</td>\n",
       "      <td>1.0</td>\n",
       "      <td>0.0</td>\n",
       "      <td>0.0</td>\n",
       "      <td>1.0</td>\n",
       "      <td>0.0</td>\n",
       "      <td>1.0</td>\n",
       "      <td>3</td>\n",
       "      <td>35.0</td>\n",
       "      <td>0</td>\n",
       "      <td>0</td>\n",
       "      <td>8.0500</td>\n",
       "      <td>1</td>\n",
       "      <td>3</td>\n",
       "    </tr>\n",
       "  </tbody>\n",
       "</table>\n",
       "</div>"
      ],
      "text/plain": [
       "     0    1    2    3    4    5    6  Pclass   Age  SibSp  Parch     Fare  \\\n",
       "0  0.0  1.0  0.0  0.0  1.0  1.0  0.0       3  22.0      1      0   7.2500   \n",
       "1  1.0  0.0  1.0  0.0  0.0  1.0  0.0       1  38.0      1      0  71.2833   \n",
       "2  1.0  0.0  0.0  0.0  1.0  0.0  1.0       3  26.0      0      0   7.9250   \n",
       "3  1.0  0.0  0.0  0.0  1.0  1.0  0.0       1  35.0      1      0  53.1000   \n",
       "4  0.0  1.0  0.0  0.0  1.0  0.0  1.0       3  35.0      0      0   8.0500   \n",
       "\n",
       "   FamilySize  Title  \n",
       "0           2      3  \n",
       "1           2      2  \n",
       "2           1      1  \n",
       "3           2      2  \n",
       "4           1      3  "
      ]
     },
     "execution_count": 29,
     "metadata": {},
     "output_type": "execute_result"
    }
   ],
   "source": [
    "all_data.head()"
   ]
  },
  {
   "cell_type": "code",
   "execution_count": 30,
   "metadata": {
    "execution": {
     "iopub.execute_input": "2022-08-20T12:26:05.593158Z",
     "iopub.status.busy": "2022-08-20T12:26:05.592355Z",
     "iopub.status.idle": "2022-08-20T12:26:05.599598Z",
     "shell.execute_reply": "2022-08-20T12:26:05.598486Z"
    },
    "papermill": {
     "duration": 0.029707,
     "end_time": "2022-08-20T12:26:05.601929",
     "exception": false,
     "start_time": "2022-08-20T12:26:05.572222",
     "status": "completed"
    },
    "tags": []
   },
   "outputs": [
    {
     "data": {
      "text/plain": [
       "(1309, 14)"
      ]
     },
     "execution_count": 30,
     "metadata": {},
     "output_type": "execute_result"
    }
   ],
   "source": [
    "all_data.shape"
   ]
  },
  {
   "cell_type": "code",
   "execution_count": 31,
   "metadata": {
    "execution": {
     "iopub.execute_input": "2022-08-20T12:26:05.642496Z",
     "iopub.status.busy": "2022-08-20T12:26:05.642074Z",
     "iopub.status.idle": "2022-08-20T12:26:05.650702Z",
     "shell.execute_reply": "2022-08-20T12:26:05.649334Z"
    },
    "papermill": {
     "duration": 0.031178,
     "end_time": "2022-08-20T12:26:05.653116",
     "exception": false,
     "start_time": "2022-08-20T12:26:05.621938",
     "status": "completed"
    },
    "tags": []
   },
   "outputs": [
    {
     "name": "stdout",
     "output_type": "stream",
     "text": [
      "in Index([<class 'int'>, <class 'int'>, <class 'int'>, <class 'int'>,\n",
      "       <class 'int'>, <class 'int'>, <class 'int'>, <class 'str'>,\n",
      "       <class 'str'>, <class 'str'>, <class 'str'>, <class 'str'>,\n",
      "       <class 'str'>, <class 'str'>],\n",
      "      dtype='object')\n",
      "out Index([<class 'str'>, <class 'str'>, <class 'str'>, <class 'str'>,\n",
      "       <class 'str'>, <class 'str'>, <class 'str'>, <class 'str'>,\n",
      "       <class 'str'>, <class 'str'>, <class 'str'>, <class 'str'>,\n",
      "       <class 'str'>, <class 'str'>],\n",
      "      dtype='object')\n"
     ]
    }
   ],
   "source": [
    "print('in',all_data.columns.map(type))\n",
    "all_data.columns = all_data.columns.astype(str)\n",
    "print('out',all_data.columns.map(type))"
   ]
  },
  {
   "cell_type": "markdown",
   "metadata": {
    "papermill": {
     "duration": 0.018223,
     "end_time": "2022-08-20T12:26:05.689888",
     "exception": false,
     "start_time": "2022-08-20T12:26:05.671665",
     "status": "completed"
    },
    "tags": []
   },
   "source": [
    "# Spliting test and train data"
   ]
  },
  {
   "cell_type": "code",
   "execution_count": 32,
   "metadata": {
    "execution": {
     "iopub.execute_input": "2022-08-20T12:26:05.729545Z",
     "iopub.status.busy": "2022-08-20T12:26:05.728715Z",
     "iopub.status.idle": "2022-08-20T12:26:05.739202Z",
     "shell.execute_reply": "2022-08-20T12:26:05.738318Z"
    },
    "papermill": {
     "duration": 0.032727,
     "end_time": "2022-08-20T12:26:05.741435",
     "exception": false,
     "start_time": "2022-08-20T12:26:05.708708",
     "status": "completed"
    },
    "tags": []
   },
   "outputs": [
    {
     "data": {
      "text/plain": [
       "((891, 15), (418, 14))"
      ]
     },
     "execution_count": 32,
     "metadata": {},
     "output_type": "execute_result"
    }
   ],
   "source": [
    "train_data = all_data[:ntrain].copy()\n",
    "test_data = all_data[ntrain:]\n",
    "\n",
    "train_data['Survived'] = y_train\n",
    "\n",
    "train_data.shape , test_data.shape"
   ]
  },
  {
   "cell_type": "code",
   "execution_count": 33,
   "metadata": {
    "execution": {
     "iopub.execute_input": "2022-08-20T12:26:05.781401Z",
     "iopub.status.busy": "2022-08-20T12:26:05.780587Z",
     "iopub.status.idle": "2022-08-20T12:26:05.787450Z",
     "shell.execute_reply": "2022-08-20T12:26:05.786577Z"
    },
    "papermill": {
     "duration": 0.029562,
     "end_time": "2022-08-20T12:26:05.789842",
     "exception": false,
     "start_time": "2022-08-20T12:26:05.760280",
     "status": "completed"
    },
    "tags": []
   },
   "outputs": [],
   "source": [
    "train_data['Survived'] = train_data['Survived'].astype(\"category\").cat.codes"
   ]
  },
  {
   "cell_type": "code",
   "execution_count": 34,
   "metadata": {
    "execution": {
     "iopub.execute_input": "2022-08-20T12:26:05.829402Z",
     "iopub.status.busy": "2022-08-20T12:26:05.828975Z",
     "iopub.status.idle": "2022-08-20T12:26:05.858013Z",
     "shell.execute_reply": "2022-08-20T12:26:05.856823Z"
    },
    "papermill": {
     "duration": 0.052021,
     "end_time": "2022-08-20T12:26:05.860414",
     "exception": false,
     "start_time": "2022-08-20T12:26:05.808393",
     "status": "completed"
    },
    "tags": []
   },
   "outputs": [
    {
     "data": {
      "text/html": [
       "<div>\n",
       "<style scoped>\n",
       "    .dataframe tbody tr th:only-of-type {\n",
       "        vertical-align: middle;\n",
       "    }\n",
       "\n",
       "    .dataframe tbody tr th {\n",
       "        vertical-align: top;\n",
       "    }\n",
       "\n",
       "    .dataframe thead th {\n",
       "        text-align: right;\n",
       "    }\n",
       "</style>\n",
       "<table border=\"1\" class=\"dataframe\">\n",
       "  <thead>\n",
       "    <tr style=\"text-align: right;\">\n",
       "      <th></th>\n",
       "      <th>0</th>\n",
       "      <th>1</th>\n",
       "      <th>2</th>\n",
       "      <th>3</th>\n",
       "      <th>4</th>\n",
       "      <th>5</th>\n",
       "      <th>6</th>\n",
       "      <th>Pclass</th>\n",
       "      <th>Age</th>\n",
       "      <th>SibSp</th>\n",
       "      <th>Parch</th>\n",
       "      <th>Fare</th>\n",
       "      <th>FamilySize</th>\n",
       "      <th>Title</th>\n",
       "      <th>Survived</th>\n",
       "    </tr>\n",
       "  </thead>\n",
       "  <tbody>\n",
       "    <tr>\n",
       "      <th>0</th>\n",
       "      <td>0.0</td>\n",
       "      <td>1.0</td>\n",
       "      <td>0.0</td>\n",
       "      <td>0.0</td>\n",
       "      <td>1.0</td>\n",
       "      <td>1.0</td>\n",
       "      <td>0.0</td>\n",
       "      <td>3</td>\n",
       "      <td>22.0</td>\n",
       "      <td>1</td>\n",
       "      <td>0</td>\n",
       "      <td>7.2500</td>\n",
       "      <td>2</td>\n",
       "      <td>3</td>\n",
       "      <td>0</td>\n",
       "    </tr>\n",
       "    <tr>\n",
       "      <th>1</th>\n",
       "      <td>1.0</td>\n",
       "      <td>0.0</td>\n",
       "      <td>1.0</td>\n",
       "      <td>0.0</td>\n",
       "      <td>0.0</td>\n",
       "      <td>1.0</td>\n",
       "      <td>0.0</td>\n",
       "      <td>1</td>\n",
       "      <td>38.0</td>\n",
       "      <td>1</td>\n",
       "      <td>0</td>\n",
       "      <td>71.2833</td>\n",
       "      <td>2</td>\n",
       "      <td>2</td>\n",
       "      <td>1</td>\n",
       "    </tr>\n",
       "    <tr>\n",
       "      <th>2</th>\n",
       "      <td>1.0</td>\n",
       "      <td>0.0</td>\n",
       "      <td>0.0</td>\n",
       "      <td>0.0</td>\n",
       "      <td>1.0</td>\n",
       "      <td>0.0</td>\n",
       "      <td>1.0</td>\n",
       "      <td>3</td>\n",
       "      <td>26.0</td>\n",
       "      <td>0</td>\n",
       "      <td>0</td>\n",
       "      <td>7.9250</td>\n",
       "      <td>1</td>\n",
       "      <td>1</td>\n",
       "      <td>1</td>\n",
       "    </tr>\n",
       "    <tr>\n",
       "      <th>3</th>\n",
       "      <td>1.0</td>\n",
       "      <td>0.0</td>\n",
       "      <td>0.0</td>\n",
       "      <td>0.0</td>\n",
       "      <td>1.0</td>\n",
       "      <td>1.0</td>\n",
       "      <td>0.0</td>\n",
       "      <td>1</td>\n",
       "      <td>35.0</td>\n",
       "      <td>1</td>\n",
       "      <td>0</td>\n",
       "      <td>53.1000</td>\n",
       "      <td>2</td>\n",
       "      <td>2</td>\n",
       "      <td>1</td>\n",
       "    </tr>\n",
       "    <tr>\n",
       "      <th>4</th>\n",
       "      <td>0.0</td>\n",
       "      <td>1.0</td>\n",
       "      <td>0.0</td>\n",
       "      <td>0.0</td>\n",
       "      <td>1.0</td>\n",
       "      <td>0.0</td>\n",
       "      <td>1.0</td>\n",
       "      <td>3</td>\n",
       "      <td>35.0</td>\n",
       "      <td>0</td>\n",
       "      <td>0</td>\n",
       "      <td>8.0500</td>\n",
       "      <td>1</td>\n",
       "      <td>3</td>\n",
       "      <td>0</td>\n",
       "    </tr>\n",
       "  </tbody>\n",
       "</table>\n",
       "</div>"
      ],
      "text/plain": [
       "     0    1    2    3    4    5    6  Pclass   Age  SibSp  Parch     Fare  \\\n",
       "0  0.0  1.0  0.0  0.0  1.0  1.0  0.0       3  22.0      1      0   7.2500   \n",
       "1  1.0  0.0  1.0  0.0  0.0  1.0  0.0       1  38.0      1      0  71.2833   \n",
       "2  1.0  0.0  0.0  0.0  1.0  0.0  1.0       3  26.0      0      0   7.9250   \n",
       "3  1.0  0.0  0.0  0.0  1.0  1.0  0.0       1  35.0      1      0  53.1000   \n",
       "4  0.0  1.0  0.0  0.0  1.0  0.0  1.0       3  35.0      0      0   8.0500   \n",
       "\n",
       "   FamilySize  Title  Survived  \n",
       "0           2      3         0  \n",
       "1           2      2         1  \n",
       "2           1      1         1  \n",
       "3           2      2         1  \n",
       "4           1      3         0  "
      ]
     },
     "execution_count": 34,
     "metadata": {},
     "output_type": "execute_result"
    }
   ],
   "source": [
    "train_data.head()"
   ]
  },
  {
   "cell_type": "markdown",
   "metadata": {
    "papermill": {
     "duration": 0.018777,
     "end_time": "2022-08-20T12:26:05.898413",
     "exception": false,
     "start_time": "2022-08-20T12:26:05.879636",
     "status": "completed"
    },
    "tags": []
   },
   "source": [
    "# Selecting best features"
   ]
  },
  {
   "cell_type": "code",
   "execution_count": 35,
   "metadata": {
    "execution": {
     "iopub.execute_input": "2022-08-20T12:26:05.939430Z",
     "iopub.status.busy": "2022-08-20T12:26:05.938541Z",
     "iopub.status.idle": "2022-08-20T12:26:05.955182Z",
     "shell.execute_reply": "2022-08-20T12:26:05.954051Z"
    },
    "papermill": {
     "duration": 0.040268,
     "end_time": "2022-08-20T12:26:05.957686",
     "exception": false,
     "start_time": "2022-08-20T12:26:05.917418",
     "status": "completed"
    },
    "tags": []
   },
   "outputs": [
    {
     "data": {
      "text/plain": [
       "Index(['Survived', '0', '1', 'Title', 'Pclass', 'Fare', '5', '6', '2', '4',\n",
       "       'Parch', 'Age'],\n",
       "      dtype='object')"
      ]
     },
     "execution_count": 35,
     "metadata": {},
     "output_type": "execute_result"
    }
   ],
   "source": [
    "k = 12 #number of variables for heatmap\n",
    "cols = train_data.corr().abs().nlargest(k, 'Survived')['Survived'].index\n",
    "\"\"\"f,ax = plt.subplots(figsize=(11, 11))\n",
    "cm = np.corrcoef(train_data[cols].values.T)\n",
    "sns.set(font_scale=1.25)\n",
    "hm = sns.heatmap(cm, cbar=True, annot=True, square=True, fmt='.2f', annot_kws={'size': 10}, yticklabels=cols.values, xticklabels=cols.values)\n",
    "plt.show()\"\"\"\n",
    "cols\n"
   ]
  },
  {
   "cell_type": "code",
   "execution_count": 36,
   "metadata": {
    "execution": {
     "iopub.execute_input": "2022-08-20T12:26:06.000276Z",
     "iopub.status.busy": "2022-08-20T12:26:05.999006Z",
     "iopub.status.idle": "2022-08-20T12:26:06.006292Z",
     "shell.execute_reply": "2022-08-20T12:26:06.004841Z"
    },
    "papermill": {
     "duration": 0.031833,
     "end_time": "2022-08-20T12:26:06.009634",
     "exception": false,
     "start_time": "2022-08-20T12:26:05.977801",
     "status": "completed"
    },
    "tags": []
   },
   "outputs": [
    {
     "name": "stdout",
     "output_type": "stream",
     "text": [
      "<class 'pandas.core.indexes.base.Index'>\n"
     ]
    }
   ],
   "source": [
    "print(type(cols))"
   ]
  },
  {
   "cell_type": "code",
   "execution_count": 37,
   "metadata": {
    "execution": {
     "iopub.execute_input": "2022-08-20T12:26:06.050673Z",
     "iopub.status.busy": "2022-08-20T12:26:06.050269Z",
     "iopub.status.idle": "2022-08-20T12:26:06.059873Z",
     "shell.execute_reply": "2022-08-20T12:26:06.058805Z"
    },
    "papermill": {
     "duration": 0.032377,
     "end_time": "2022-08-20T12:26:06.061880",
     "exception": false,
     "start_time": "2022-08-20T12:26:06.029503",
     "status": "completed"
    },
    "tags": []
   },
   "outputs": [
    {
     "data": {
      "text/plain": [
       "((891, 12), (418, 11))"
      ]
     },
     "execution_count": 37,
     "metadata": {},
     "output_type": "execute_result"
    }
   ],
   "source": [
    "train_data = train_data[cols]\n",
    "test_data = test_data[cols.drop('Survived')]\n",
    "train_data.shape , test_data.shape"
   ]
  },
  {
   "cell_type": "markdown",
   "metadata": {
    "papermill": {
     "duration": 0.018655,
     "end_time": "2022-08-20T12:26:06.099553",
     "exception": false,
     "start_time": "2022-08-20T12:26:06.080898",
     "status": "completed"
    },
    "tags": []
   },
   "source": [
    "# Clearing outliers"
   ]
  },
  {
   "cell_type": "code",
   "execution_count": 38,
   "metadata": {
    "execution": {
     "iopub.execute_input": "2022-08-20T12:26:06.139336Z",
     "iopub.status.busy": "2022-08-20T12:26:06.138610Z",
     "iopub.status.idle": "2022-08-20T12:26:06.342335Z",
     "shell.execute_reply": "2022-08-20T12:26:06.341021Z"
    },
    "papermill": {
     "duration": 0.226554,
     "end_time": "2022-08-20T12:26:06.344829",
     "exception": false,
     "start_time": "2022-08-20T12:26:06.118275",
     "status": "completed"
    },
    "tags": []
   },
   "outputs": [
    {
     "data": {
      "text/plain": [
       "(873, 12)"
      ]
     },
     "execution_count": 38,
     "metadata": {},
     "output_type": "execute_result"
    }
   ],
   "source": [
    "from sklearn.neighbors import LocalOutlierFactor\n",
    "\n",
    "clf = LocalOutlierFactor(contamination = 0.02)\n",
    "#identify outliers:\n",
    "outliers = clf.fit_predict(train_data)\n",
    "#Remove outliers where 1 represent inliers and -1 represent outliers:\n",
    "train_data_cleaned = train_data[np.where(outliers == 1, True, False)]\n",
    "train_data_cleaned.shape"
   ]
  },
  {
   "cell_type": "code",
   "execution_count": 39,
   "metadata": {
    "execution": {
     "iopub.execute_input": "2022-08-20T12:26:06.387202Z",
     "iopub.status.busy": "2022-08-20T12:26:06.386573Z",
     "iopub.status.idle": "2022-08-20T12:26:06.503486Z",
     "shell.execute_reply": "2022-08-20T12:26:06.501841Z"
    },
    "papermill": {
     "duration": 0.142943,
     "end_time": "2022-08-20T12:26:06.507678",
     "exception": false,
     "start_time": "2022-08-20T12:26:06.364735",
     "status": "completed"
    },
    "tags": []
   },
   "outputs": [
    {
     "data": {
      "text/plain": [
       "<matplotlib.axes._subplots.AxesSubplot at 0x7f7ceae82310>"
      ]
     },
     "execution_count": 39,
     "metadata": {},
     "output_type": "execute_result"
    },
    {
     "data": {
      "image/png": "[encoded data removed]",
      "text/plain": [
       "<Figure size 432x288 with 1 Axes>"
      ]
     },
     "metadata": {
      "needs_background": "light"
     },
     "output_type": "display_data"
    }
   ],
   "source": [
    "sns.countplot( x =train_data['Survived'], label = \"Original\", color = 'red' , alpha = 0.5)\n",
    "sns.countplot(x = train_data_cleaned['Survived'], label = \"Modified\" , color = 'blue',alpha = 0.5)"
   ]
  },
  {
   "cell_type": "code",
   "execution_count": 40,
   "metadata": {
    "execution": {
     "iopub.execute_input": "2022-08-20T12:26:06.572761Z",
     "iopub.status.busy": "2022-08-20T12:26:06.572084Z",
     "iopub.status.idle": "2022-08-20T12:26:06.579385Z",
     "shell.execute_reply": "2022-08-20T12:26:06.578430Z"
    },
    "papermill": {
     "duration": 0.030942,
     "end_time": "2022-08-20T12:26:06.581400",
     "exception": false,
     "start_time": "2022-08-20T12:26:06.550458",
     "status": "completed"
    },
    "tags": []
   },
   "outputs": [
    {
     "data": {
      "text/plain": [
       "((873, 11), (873,))"
      ]
     },
     "execution_count": 40,
     "metadata": {},
     "output_type": "execute_result"
    }
   ],
   "source": [
    "X_train = train_data_cleaned.drop('Survived', axis = 1)\n",
    "y_train = train_data_cleaned.Survived\n",
    "X_train.shape , y_train.shape"
   ]
  },
  {
   "cell_type": "code",
   "execution_count": 41,
   "metadata": {
    "execution": {
     "iopub.execute_input": "2022-08-20T12:26:06.622890Z",
     "iopub.status.busy": "2022-08-20T12:26:06.621936Z",
     "iopub.status.idle": "2022-08-20T12:26:07.100365Z",
     "shell.execute_reply": "2022-08-20T12:26:07.099152Z"
    },
    "papermill": {
     "duration": 0.50159,
     "end_time": "2022-08-20T12:26:07.102522",
     "exception": false,
     "start_time": "2022-08-20T12:26:06.600932",
     "status": "completed"
    },
    "tags": []
   },
   "outputs": [
    {
     "name": "stdout",
     "output_type": "stream",
     "text": [
      "0    539\n",
      "1    334\n",
      "Name: Survived, dtype: int64\n",
      "0    539\n",
      "1    539\n",
      "Name: Survived, dtype: int64\n"
     ]
    },
    {
     "data": {
      "image/png": "[encoded data removed]",
      "text/plain": [
       "<Figure size 432x288 with 1 Axes>"
      ]
     },
     "metadata": {
      "needs_background": "light"
     },
     "output_type": "display_data"
    }
   ],
   "source": [
    "from imblearn.over_sampling import SMOTE\n",
    "smote = SMOTE( random_state=42)\n",
    "\n",
    "print(y_train.value_counts())\n",
    "X_resampled, y_resampled = smote.fit_resample(X_train,y_train)\n",
    "print(y_resampled.value_counts())\n",
    "\n",
    "sns.kdeplot(y_train, label = \"Original\" , color = 'red')\n",
    "sns.kdeplot(y_resampled, label = \"Modified\")\n",
    "X_train = X_resampled\n",
    "y_train = y_resampled"
   ]
  },
  {
   "cell_type": "markdown",
   "metadata": {
    "papermill": {
     "duration": 0.019659,
     "end_time": "2022-08-20T12:26:07.142951",
     "exception": false,
     "start_time": "2022-08-20T12:26:07.123292",
     "status": "completed"
    },
    "tags": []
   },
   "source": [
    "## Model Selection"
   ]
  },
  {
   "cell_type": "code",
   "execution_count": 42,
   "metadata": {
    "execution": {
     "iopub.execute_input": "2022-08-20T12:26:07.184850Z",
     "iopub.status.busy": "2022-08-20T12:26:07.184418Z",
     "iopub.status.idle": "2022-08-20T12:26:08.381375Z",
     "shell.execute_reply": "2022-08-20T12:26:08.380487Z"
    },
    "papermill": {
     "duration": 1.220813,
     "end_time": "2022-08-20T12:26:08.383809",
     "exception": false,
     "start_time": "2022-08-20T12:26:07.162996",
     "status": "completed"
    },
    "tags": []
   },
   "outputs": [],
   "source": [
    "from sklearn.naive_bayes import GaussianNB\n",
    "from sklearn.neighbors import KNeighborsClassifier\n",
    "from sklearn.ensemble import RandomForestClassifier\n",
    "from sklearn.linear_model import LogisticRegression\n",
    "from sklearn.tree import DecisionTreeClassifier\n",
    "from xgboost import XGBClassifier\n",
    "from lightgbm import LGBMClassifier\n",
    "from catboost import CatBoostClassifier\n",
    "from sklearn.ensemble import AdaBoostClassifier\n",
    "\n",
    "from sklearn.model_selection import GridSearchCV , cross_val_score\n",
    "from sklearn.metrics import mean_absolute_error as MAE\n",
    "from sklearn.metrics import mean_squared_error as MSE\n",
    "from sklearn.ensemble import GradientBoostingClassifier"
   ]
  },
  {
   "cell_type": "code",
   "execution_count": 43,
   "metadata": {
    "execution": {
     "iopub.execute_input": "2022-08-20T12:26:08.427049Z",
     "iopub.status.busy": "2022-08-20T12:26:08.426231Z",
     "iopub.status.idle": "2022-08-20T12:26:08.442389Z",
     "shell.execute_reply": "2022-08-20T12:26:08.440871Z"
    },
    "papermill": {
     "duration": 0.040785,
     "end_time": "2022-08-20T12:26:08.445175",
     "exception": false,
     "start_time": "2022-08-20T12:26:08.404390",
     "status": "completed"
    },
    "tags": []
   },
   "outputs": [],
   "source": [
    "from sklearn.pipeline import Pipeline\n",
    "\n",
    "pipeline_dt=Pipeline([('GaussianNB',GaussianNB())])\n",
    "pipeline_knn=Pipeline([('KNeighborsClassifier',KNeighborsClassifier())])\n",
    "pipeline_rf=Pipeline([ ('RandomForestClassifier',RandomForestClassifier())])\n",
    "pipeline_dt=Pipeline([ ('DecisionTreeClassifier',DecisionTreeClassifier())])\n",
    "pipeline_xgb=Pipeline([ ('XGBClassifier',XGBClassifier())])\n",
    "pipeline_lgr=Pipeline([ ('LogisticRegression',LogisticRegression(solver='lbfgs', max_iter=3000))])\n",
    "pipeline_lgbm=Pipeline([ ('LGBMClassifier',LGBMClassifier(objective='binary'))])\n",
    "pipeline_catB=Pipeline([ ('CatBoostClassifier',CatBoostClassifier(verbose = 0 ))])\n",
    "#pipeline_adaB=Pipeline([ ('AdaBoostClassifier',AdaBoostClassifier())])\n",
    "pipeline_adaB=Pipeline([ ('AdaBoostClassifier',GradientBoostingClassifier())])\n",
    "\n",
    "pipelines = [pipeline_dt, pipeline_knn, pipeline_rf,pipeline_dt,pipeline_xgb , pipeline_lgr , pipeline_lgbm , pipeline_catB , pipeline_adaB]\n",
    "pipe_dict = {0: 'GaussianNB', 1: 'KNeighborsClassifier', 2: 'RandomForestClassifier',\n",
    "             3: 'DecisionTreeClassifier',4: 'XGBClassifier' , 5 : 'LogisticRegression' ,\n",
    "             6 : 'LGBMClassifier' , 7 : 'CatBoostClassifier' ,8 : 'AdaBoostClassifier'}"
   ]
  },
  {
   "cell_type": "code",
   "execution_count": 44,
   "metadata": {
    "execution": {
     "iopub.execute_input": "2022-08-20T12:26:08.487617Z",
     "iopub.status.busy": "2022-08-20T12:26:08.487170Z",
     "iopub.status.idle": "2022-08-20T12:26:08.493911Z",
     "shell.execute_reply": "2022-08-20T12:26:08.492831Z"
    },
    "papermill": {
     "duration": 0.030432,
     "end_time": "2022-08-20T12:26:08.496159",
     "exception": false,
     "start_time": "2022-08-20T12:26:08.465727",
     "status": "completed"
    },
    "tags": []
   },
   "outputs": [
    {
     "data": {
      "text/plain": [
       "'for pipe in pipelines:\\n    pipe.fit(X_train, y_train)'"
      ]
     },
     "execution_count": 44,
     "metadata": {},
     "output_type": "execute_result"
    }
   ],
   "source": [
    "#uncomment if gonna use  pipelines[x]\n",
    "\"\"\"for pipe in pipelines:\n",
    "    pipe.fit(X_train, y_train)\"\"\""
   ]
  },
  {
   "cell_type": "code",
   "execution_count": 45,
   "metadata": {
    "execution": {
     "iopub.execute_input": "2022-08-20T12:26:08.538538Z",
     "iopub.status.busy": "2022-08-20T12:26:08.538116Z",
     "iopub.status.idle": "2022-08-20T12:26:14.051615Z",
     "shell.execute_reply": "2022-08-20T12:26:14.050618Z"
    },
    "papermill": {
     "duration": 5.538113,
     "end_time": "2022-08-20T12:26:14.054597",
     "exception": false,
     "start_time": "2022-08-20T12:26:08.516484",
     "status": "completed"
    },
    "tags": []
   },
   "outputs": [
    {
     "name": "stderr",
     "output_type": "stream",
     "text": [
      "/Users/randyllpandohie/opt/anaconda3/envs/renvironment/lib/python3.8/site-packages/xgboost/sklearn.py:1224: UserWarning: The use of label encoder in XGBClassifier is deprecated and will be removed in a future release. To remove this warning, do the following: 1) Pass option use_label_encoder=False when constructing XGBClassifier object; and 2) Encode your labels (y) as integers starting with 0, i.e. 0, 1, 2, ..., [num_class - 1].\n",
      "  warnings.warn(label_encoder_deprecation_msg, UserWarning)\n"
     ]
    },
    {
     "name": "stdout",
     "output_type": "stream",
     "text": [
      "[07:04:34] WARNING: /var/folders/sy/f16zz6x50xz3113nwtb9bvq00000gp/T/abs_44tbtwf8c1/croots/recipe/xgboost-split_1659548960882/work/src/learner.cc:1115: Starting in XGBoost 1.3.0, the default evaluation metric used with the objective 'binary:logistic' was changed from 'error' to 'logloss'. Explicitly set eval_metric if you'd like to restore the old behavior.\n",
      "[07:04:34] WARNING: /var/folders/sy/f16zz6x50xz3113nwtb9bvq00000gp/T/abs_44tbtwf8c1/croots/recipe/xgboost-split_1659548960882/work/src/learner.cc:1115: Starting in XGBoost 1.3.0, the default evaluation metric used with the objective 'binary:logistic' was changed from 'error' to 'logloss'. Explicitly set eval_metric if you'd like to restore the old behavior.\n",
      "[07:04:34] WARNING: /var/folders/sy/f16zz6x50xz3113nwtb9bvq00000gp/T/abs_44tbtwf8c1/croots/recipe/xgboost-split_1659548960882/work/src/learner.cc:1115: Starting in XGBoost 1.3.0, the default evaluation metric used with the objective 'binary:logistic' was changed from 'error' to 'logloss'. Explicitly set eval_metric if you'd like to restore the old behavior.\n"
     ]
    }
   ],
   "source": [
    "from sklearn.metrics import accuracy_score\n",
    "original_results = dict()\n",
    "for i, model in enumerate(pipelines):\n",
    "    cv_score = cross_val_score(model, X_train.values,y_train.values.ravel(), cv=3 ,scoring='accuracy').mean()\n",
    "    #print(model.get_params())\n",
    "    original_results[pipe_dict[i]] = cv_score"
   ]
  },
  {
   "cell_type": "code",
   "execution_count": 46,
   "metadata": {
    "execution": {
     "iopub.execute_input": "2022-08-20T12:26:14.100489Z",
     "iopub.status.busy": "2022-08-20T12:26:14.099478Z",
     "iopub.status.idle": "2022-08-20T12:26:14.106064Z",
     "shell.execute_reply": "2022-08-20T12:26:14.104570Z"
    },
    "papermill": {
     "duration": 0.032377,
     "end_time": "2022-08-20T12:26:14.109317",
     "exception": false,
     "start_time": "2022-08-20T12:26:14.076940",
     "status": "completed"
    },
    "tags": []
   },
   "outputs": [
    {
     "name": "stdout",
     "output_type": "stream",
     "text": [
      "KNeighborsClassifier 0.7542246982358402\n",
      "LogisticRegression 0.8033580934695141\n",
      "GaussianNB 0.8107990302279996\n",
      "DecisionTreeClassifier 0.8145078922934076\n",
      "XGBClassifier 0.8367636438667079\n",
      "AdaBoostClassifier 0.8376895697926338\n",
      "LGBMClassifier 0.8395465800061901\n",
      "RandomForestClassifier 0.8404802434746724\n",
      "CatBoostClassifier 0.8451021355617455\n"
     ]
    }
   ],
   "source": [
    "for key , value in sorted(original_results.items(),key=lambda item : item[1]):\n",
    "    print(key , value) "
   ]
  },
  {
   "cell_type": "code",
   "execution_count": 47,
   "metadata": {
    "execution": {
     "iopub.execute_input": "2022-08-20T12:26:14.152547Z",
     "iopub.status.busy": "2022-08-20T12:26:14.152099Z",
     "iopub.status.idle": "2022-08-20T12:26:14.166120Z",
     "shell.execute_reply": "2022-08-20T12:26:14.165251Z"
    },
    "papermill": {
     "duration": 0.03827,
     "end_time": "2022-08-20T12:26:14.168592",
     "exception": false,
     "start_time": "2022-08-20T12:26:14.130322",
     "status": "completed"
    },
    "tags": []
   },
   "outputs": [],
   "source": [
    "from sklearn.model_selection import train_test_split, GridSearchCV, KFold, StratifiedKFold, RepeatedStratifiedKFold\n",
    "from sklearn.preprocessing import MinMaxScaler, StandardScaler, RobustScaler, Normalizer, PowerTransformer\n",
    "scaler = StandardScaler().fit(X_train)\n",
    "X_train_scaled = scaler.transform(X_train)\n",
    "test_data_scaled = scaler.transform(test_data)"
   ]
  },
  {
   "cell_type": "code",
   "execution_count": 48,
   "metadata": {
    "execution": {
     "iopub.execute_input": "2022-08-20T12:26:14.211736Z",
     "iopub.status.busy": "2022-08-20T12:26:14.211006Z",
     "iopub.status.idle": "2022-08-20T12:26:19.597779Z",
     "shell.execute_reply": "2022-08-20T12:26:19.596933Z"
    },
    "papermill": {
     "duration": 5.411041,
     "end_time": "2022-08-20T12:26:19.600390",
     "exception": false,
     "start_time": "2022-08-20T12:26:14.189349",
     "status": "completed"
    },
    "tags": []
   },
   "outputs": [
    {
     "name": "stderr",
     "output_type": "stream",
     "text": [
      "/Users/randyllpandohie/opt/anaconda3/envs/renvironment/lib/python3.8/site-packages/xgboost/sklearn.py:1224: UserWarning: The use of label encoder in XGBClassifier is deprecated and will be removed in a future release. To remove this warning, do the following: 1) Pass option use_label_encoder=False when constructing XGBClassifier object; and 2) Encode your labels (y) as integers starting with 0, i.e. 0, 1, 2, ..., [num_class - 1].\n",
      "  warnings.warn(label_encoder_deprecation_msg, UserWarning)\n"
     ]
    },
    {
     "name": "stdout",
     "output_type": "stream",
     "text": [
      "[07:04:39] WARNING: /var/folders/sy/f16zz6x50xz3113nwtb9bvq00000gp/T/abs_44tbtwf8c1/croots/recipe/xgboost-split_1659548960882/work/src/learner.cc:1115: Starting in XGBoost 1.3.0, the default evaluation metric used with the objective 'binary:logistic' was changed from 'error' to 'logloss'. Explicitly set eval_metric if you'd like to restore the old behavior.\n",
      "[07:04:39] WARNING: /var/folders/sy/f16zz6x50xz3113nwtb9bvq00000gp/T/abs_44tbtwf8c1/croots/recipe/xgboost-split_1659548960882/work/src/learner.cc:1115: Starting in XGBoost 1.3.0, the default evaluation metric used with the objective 'binary:logistic' was changed from 'error' to 'logloss'. Explicitly set eval_metric if you'd like to restore the old behavior.\n",
      "[07:04:39] WARNING: /var/folders/sy/f16zz6x50xz3113nwtb9bvq00000gp/T/abs_44tbtwf8c1/croots/recipe/xgboost-split_1659548960882/work/src/learner.cc:1115: Starting in XGBoost 1.3.0, the default evaluation metric used with the objective 'binary:logistic' was changed from 'error' to 'logloss'. Explicitly set eval_metric if you'd like to restore the old behavior.\n"
     ]
    }
   ],
   "source": [
    "from sklearn.metrics import accuracy_score\n",
    "original_results = dict()\n",
    "for i, model in enumerate(pipelines):\n",
    "    cv_score = cross_val_score(model, X_train_scaled,y_train.values.ravel(), cv=3 ,scoring='accuracy').mean()\n",
    "    #print(model.get_params())\n",
    "    original_results[pipe_dict[i]] = cv_score"
   ]
  },
  {
   "cell_type": "code",
   "execution_count": 49,
   "metadata": {
    "execution": {
     "iopub.execute_input": "2022-08-20T12:26:19.643331Z",
     "iopub.status.busy": "2022-08-20T12:26:19.642705Z",
     "iopub.status.idle": "2022-08-20T12:26:19.649144Z",
     "shell.execute_reply": "2022-08-20T12:26:19.648001Z"
    },
    "papermill": {
     "duration": 0.030934,
     "end_time": "2022-08-20T12:26:19.652034",
     "exception": false,
     "start_time": "2022-08-20T12:26:19.621100",
     "status": "completed"
    },
    "tags": []
   },
   "outputs": [
    {
     "name": "stdout",
     "output_type": "stream",
     "text": [
      "LogisticRegression 0.802432167543588\n",
      "GaussianNB 0.8117275353347777\n",
      "KNeighborsClassifier 0.8126225110904777\n",
      "DecisionTreeClassifier 0.815438976581038\n",
      "RandomForestClassifier 0.8358480346641907\n",
      "XGBClassifier 0.8367636438667079\n",
      "AdaBoostClassifier 0.838618074899412\n",
      "LGBMClassifier 0.8423320953265243\n",
      "CatBoostClassifier 0.8451021355617455\n"
     ]
    }
   ],
   "source": [
    "for key , value in sorted(original_results.items(),key=lambda item : item[1]):\n",
    "    print(key , value) "
   ]
  },
  {
   "cell_type": "markdown",
   "metadata": {
    "papermill": {
     "duration": 0.019941,
     "end_time": "2022-08-20T12:26:19.693600",
     "exception": false,
     "start_time": "2022-08-20T12:26:19.673659",
     "status": "completed"
    },
    "tags": []
   },
   "source": [
    "## Let's apply some Grid search for the top 4 performing models "
   ]
  },
  {
   "cell_type": "code",
   "execution_count": 50,
   "metadata": {
    "execution": {
     "iopub.execute_input": "2022-08-20T12:26:19.735475Z",
     "iopub.status.busy": "2022-08-20T12:26:19.735071Z",
     "iopub.status.idle": "2022-08-20T12:26:19.745056Z",
     "shell.execute_reply": "2022-08-20T12:26:19.743846Z"
    },
    "papermill": {
     "duration": 0.033721,
     "end_time": "2022-08-20T12:26:19.747419",
     "exception": false,
     "start_time": "2022-08-20T12:26:19.713698",
     "status": "completed"
    },
    "tags": []
   },
   "outputs": [
    {
     "data": {
      "text/plain": [
       "0         0\n",
       "1         0\n",
       "Title     0\n",
       "Pclass    0\n",
       "Fare      0\n",
       "5         0\n",
       "6         0\n",
       "2         0\n",
       "4         0\n",
       "Parch     0\n",
       "Age       0\n",
       "dtype: int64"
      ]
     },
     "execution_count": 50,
     "metadata": {},
     "output_type": "execute_result"
    }
   ],
   "source": [
    "test_data.isnull().sum()"
   ]
  },
  {
   "cell_type": "code",
   "execution_count": 51,
   "metadata": {
    "execution": {
     "iopub.execute_input": "2022-08-20T12:26:19.791093Z",
     "iopub.status.busy": "2022-08-20T12:26:19.790342Z",
     "iopub.status.idle": "2022-08-20T12:26:19.797456Z",
     "shell.execute_reply": "2022-08-20T12:26:19.796542Z"
    },
    "papermill": {
     "duration": 0.031312,
     "end_time": "2022-08-20T12:26:19.799500",
     "exception": false,
     "start_time": "2022-08-20T12:26:19.768188",
     "status": "completed"
    },
    "tags": []
   },
   "outputs": [
    {
     "data": {
      "text/plain": [
       "\"from sklearn.model_selection import train_test_split, GridSearchCV, KFold, StratifiedKFold, RepeatedStratifiedKFold\\nfrom sklearn.preprocessing import MinMaxScaler, StandardScaler, RobustScaler, Normalizer, PowerTransformer\\n\\nskf = RepeatedStratifiedKFold(n_splits=3, n_repeats=3, random_state=42)\\n\\nX = train_data.drop(columns='Survived', axis=1)\\ny = train_data['Survived']\\nX_submission = test_data\\n\\nX_train, X_test, y_train, y_test = train_test_split(X, y, test_size=0.25, stratify=y, random_state=42)\\n\\nscaler = StandardScaler().fit(X_train)\\nX_train_scaled = scaler.transform(X_train)\\nX_test_scaled = scaler.transform(X_test)\\n\\nparam_grid = {'max_depth': range(0,5), \\n              'n_estimators': range(0,10), \\n              'max_features': ['sqrt', 'auto'], \\n              'random_state': [42], \\n              'warm_start': [True]}\\n\\ngrid = GridSearchCV(GradientBoostingClassifier(), param_grid=param_grid, n_jobs=-1, cv=skf, verbose=1).fit(X_train_scaled, y_train)\\n\\nprint('Test score:', grid.score(X_test_scaled, y_test))\\nprint('Best params:\\n{}'.format(grid.best_params_))\\n\""
      ]
     },
     "execution_count": 51,
     "metadata": {},
     "output_type": "execute_result"
    }
   ],
   "source": [
    "\"\"\"from sklearn.model_selection import train_test_split, GridSearchCV, KFold, StratifiedKFold, RepeatedStratifiedKFold\n",
    "from sklearn.preprocessing import MinMaxScaler, StandardScaler, RobustScaler, Normalizer, PowerTransformer\n",
    "\n",
    "skf = RepeatedStratifiedKFold(n_splits=3, n_repeats=3, random_state=42)\n",
    "\n",
    "X = train_data.drop(columns='Survived', axis=1)\n",
    "y = train_data['Survived']\n",
    "X_submission = test_data\n",
    "\n",
    "X_train, X_test, y_train, y_test = train_test_split(X, y, test_size=0.25, stratify=y, random_state=42)\n",
    "\n",
    "scaler = StandardScaler().fit(X_train)\n",
    "X_train_scaled = scaler.transform(X_train)\n",
    "X_test_scaled = scaler.transform(X_test)\n",
    "\n",
    "param_grid = {'max_depth': range(0,5), \n",
    "              'n_estimators': range(0,10), \n",
    "              'max_features': ['sqrt', 'auto'], \n",
    "              'random_state': [42], \n",
    "              'warm_start': [True]}\n",
    "\n",
    "grid = GridSearchCV(GradientBoostingClassifier(), param_grid=param_grid, n_jobs=-1, cv=skf, verbose=1).fit(X_train_scaled, y_train)\n",
    "\n",
    "print('Test score:', grid.score(X_test_scaled, y_test))\n",
    "print('Best params:\\n{}'.format(grid.best_params_))\n",
    "\"\"\""
   ]
  },
  {
   "cell_type": "code",
   "execution_count": 52,
   "metadata": {
    "execution": {
     "iopub.execute_input": "2022-08-20T12:26:19.844452Z",
     "iopub.status.busy": "2022-08-20T12:26:19.843997Z",
     "iopub.status.idle": "2022-08-20T12:26:58.490816Z",
     "shell.execute_reply": "2022-08-20T12:26:58.489285Z"
    },
    "papermill": {
     "duration": 38.672941,
     "end_time": "2022-08-20T12:26:58.493941",
     "exception": false,
     "start_time": "2022-08-20T12:26:19.821000",
     "status": "completed"
    },
    "tags": []
   },
   "outputs": [
    {
     "name": "stdout",
     "output_type": "stream",
     "text": [
      "Fitting 3 folds for each of 12 candidates, totalling 36 fits\n"
     ]
    },
    {
     "name": "stderr",
     "output_type": "stream",
     "text": [
      "[Parallel(n_jobs=-1)]: Using backend LokyBackend with 8 concurrent workers.\n",
      "[Parallel(n_jobs=-1)]: Done  36 out of  36 | elapsed:    8.3s finished\n"
     ]
    },
    {
     "name": "stdout",
     "output_type": "stream",
     "text": [
      "CatBoost Best Score 0.8488187351697102\n",
      "CatBoost Best Parmas {'depth': 6, 'iterations': 450, 'learning_rate': 0.03}\n",
      "CatBoost Accuracy 0.8488187351697102\n"
     ]
    },
    {
     "data": {
      "text/plain": [
       "\"#Random Forest Regressor\\nrfc = RandomForestClassifier()\\n\\n#USING GRID SEARCH\\nparams_rf = {'n_estimators': [100,200,300,],\\n             'max_depth': [10]}\\n\\ngrid_search_rfc = GridSearchCV(estimator=rfc,verbose = 1, param_grid=params_rf, cv = 3,scoring='accuracy',n_jobs=-1).fit(X_train.values, y_train.values.ravel())\\nrfc_best = grid_search_rfc.best_estimator_\\nprint('Random Forest Best Score',grid_search_rfc.best_score_)\\nprint('Random Forest Best Parmas',grid_search_rfc.best_params_)\\nprint('Random Forest Accuracy',cross_val_score(rfc_best,X_train.values, y_train.values.ravel(), cv=5).mean())\""
      ]
     },
     "execution_count": 52,
     "metadata": {},
     "output_type": "execute_result"
    }
   ],
   "source": [
    "#Cat Boost Classifier\n",
    "cat = CatBoostClassifier(eval_metric='Accuracy',\n",
    "                        verbose = 0)\n",
    "\n",
    "#USING GRID SEARCH\n",
    "params_catB = {\n",
    "    'learning_rate' : [0.01,0.02,0.03,],\n",
    "          'depth': [6,7,],\n",
    "    'iterations' : [450,1000,]\n",
    "         }\n",
    "\n",
    "grid_search_cat = GridSearchCV(estimator=cat,verbose = 1, param_grid=params_catB, cv = 3,scoring='accuracy',n_jobs=-1).fit(X_train.values, y_train.values.ravel())\n",
    "cat_best = grid_search_cat.best_estimator_\n",
    "print('CatBoost Best Score',grid_search_cat.best_score_)\n",
    "print('CatBoost Best Parmas',grid_search_cat.best_params_)\n",
    "print('CatBoost Accuracy',cross_val_score(cat_best,X_train.values, y_train.values.ravel(), cv=3).mean())\n",
    "\n",
    "\"\"\"#Random Forest Regressor\n",
    "rfc = RandomForestClassifier()\n",
    "\n",
    "#USING GRID SEARCH\n",
    "params_rf = {'n_estimators': [100,200,300,],\n",
    "             'max_depth': [10]}\n",
    "\n",
    "grid_search_rfc = GridSearchCV(estimator=rfc,verbose = 1, param_grid=params_rf, cv = 3,scoring='accuracy',n_jobs=-1).fit(X_train.values, y_train.values.ravel())\n",
    "rfc_best = grid_search_rfc.best_estimator_\n",
    "print('Random Forest Best Score',grid_search_rfc.best_score_)\n",
    "print('Random Forest Best Parmas',grid_search_rfc.best_params_)\n",
    "print('Random Forest Accuracy',cross_val_score(rfc_best,X_train.values, y_train.values.ravel(), cv=5).mean())\"\"\"\n",
    "\n",
    "\n"
   ]
  },
  {
   "cell_type": "code",
   "execution_count": null,
   "metadata": {
    "execution": {
     "iopub.execute_input": "2022-08-20T12:26:58.539769Z",
     "iopub.status.busy": "2022-08-20T12:26:58.539224Z",
     "iopub.status.idle": "2022-08-20T12:29:15.268547Z",
     "shell.execute_reply": "2022-08-20T12:29:15.267532Z"
    },
    "papermill": {
     "duration": 136.754646,
     "end_time": "2022-08-20T12:29:15.270881",
     "exception": false,
     "start_time": "2022-08-20T12:26:58.516235",
     "status": "completed"
    },
    "tags": []
   },
   "outputs": [
    {
     "name": "stdout",
     "output_type": "stream",
     "text": [
      "Fitting 3 folds for each of 40 candidates, totalling 120 fits\n"
     ]
    },
    {
     "name": "stderr",
     "output_type": "stream",
     "text": [
      "[Parallel(n_jobs=-1)]: Using backend LokyBackend with 8 concurrent workers.\n",
      "[Parallel(n_jobs=-1)]: Done  34 tasks      | elapsed:   55.6s\n",
      "[Parallel(n_jobs=-1)]: Done 120 out of 120 | elapsed:  3.0min finished\n",
      "/Users/randyllpandohie/opt/anaconda3/envs/renvironment/lib/python3.8/site-packages/xgboost/sklearn.py:1224: UserWarning: The use of label encoder in XGBClassifier is deprecated and will be removed in a future release. To remove this warning, do the following: 1) Pass option use_label_encoder=False when constructing XGBClassifier object; and 2) Encode your labels (y) as integers starting with 0, i.e. 0, 1, 2, ..., [num_class - 1].\n",
      "  warnings.warn(label_encoder_deprecation_msg, UserWarning)\n"
     ]
    },
    {
     "name": "stdout",
     "output_type": "stream",
     "text": [
      "[07:07:55] WARNING: /var/folders/sy/f16zz6x50xz3113nwtb9bvq00000gp/T/abs_44tbtwf8c1/croots/recipe/xgboost-split_1659548960882/work/src/learner.cc:1115: Starting in XGBoost 1.3.0, the default evaluation metric used with the objective 'binary:logistic' was changed from 'error' to 'logloss'. Explicitly set eval_metric if you'd like to restore the old behavior.\n",
      "xgbr_best Best Score 0.8534715774270092\n",
      "xgbr_best Best Parmas {'booster': 'gbtree', 'gamma': 0, 'learning_rate': 0.01, 'max_depth': 7, 'n_estimators': 500, 'reg_alpha': 0, 'reg_lambda': 1}\n",
      "[07:07:55] WARNING: /var/folders/sy/f16zz6x50xz3113nwtb9bvq00000gp/T/abs_44tbtwf8c1/croots/recipe/xgboost-split_1659548960882/work/src/learner.cc:1115: Starting in XGBoost 1.3.0, the default evaluation metric used with the objective 'binary:logistic' was changed from 'error' to 'logloss'. Explicitly set eval_metric if you'd like to restore the old behavior.\n"
     ]
    },
    {
     "name": "stderr",
     "output_type": "stream",
     "text": [
      "/Users/randyllpandohie/opt/anaconda3/envs/renvironment/lib/python3.8/site-packages/xgboost/sklearn.py:1224: UserWarning: The use of label encoder in XGBClassifier is deprecated and will be removed in a future release. To remove this warning, do the following: 1) Pass option use_label_encoder=False when constructing XGBClassifier object; and 2) Encode your labels (y) as integers starting with 0, i.e. 0, 1, 2, ..., [num_class - 1].\n",
      "  warnings.warn(label_encoder_deprecation_msg, UserWarning)\n"
     ]
    },
    {
     "name": "stdout",
     "output_type": "stream",
     "text": [
      "[07:07:56] WARNING: /var/folders/sy/f16zz6x50xz3113nwtb9bvq00000gp/T/abs_44tbtwf8c1/croots/recipe/xgboost-split_1659548960882/work/src/learner.cc:1115: Starting in XGBoost 1.3.0, the default evaluation metric used with the objective 'binary:logistic' was changed from 'error' to 'logloss'. Explicitly set eval_metric if you'd like to restore the old behavior.\n",
      "[07:07:57] WARNING: /var/folders/sy/f16zz6x50xz3113nwtb9bvq00000gp/T/abs_44tbtwf8c1/croots/recipe/xgboost-split_1659548960882/work/src/learner.cc:1115: Starting in XGBoost 1.3.0, the default evaluation metric used with the objective 'binary:logistic' was changed from 'error' to 'logloss'. Explicitly set eval_metric if you'd like to restore the old behavior.\n",
      "xgbr_best Accuracy 0.8534715774270092\n",
      "Fitting 3 folds for each of 48 candidates, totalling 144 fits\n"
     ]
    },
    {
     "name": "stderr",
     "output_type": "stream",
     "text": [
      "[Parallel(n_jobs=-1)]: Using backend LokyBackend with 8 concurrent workers.\n",
      "[Parallel(n_jobs=-1)]: Done  34 tasks      | elapsed:   24.8s\n"
     ]
    }
   ],
   "source": [
    "#XGBR Forest Classifier\n",
    "xgbr = XGBClassifier(objective='binary:logistic')\n",
    "                     \n",
    "#USING GRID SEARCH\n",
    "params_xgb = {'booster' : ['gbtree',],\n",
    "    'gamma': [0],\n",
    "              'learning_rate': [0.01,0.02,0.03,0.1],\n",
    "              'max_depth': [3,4,5,6,7],\n",
    "              'n_estimators': [500,1000],\n",
    "              'reg_alpha': [0,],\n",
    "              'reg_lambda': [1,],}\n",
    "\n",
    "grid_search_xgb = GridSearchCV(estimator=xgbr,verbose = 1, param_grid=params_xgb, cv = 3,scoring='accuracy',n_jobs=-1).fit(X_train.values, y_train.values.ravel())\n",
    "xgbr_best = grid_search_xgb.best_estimator_\n",
    "print('xgbr_best Best Score',grid_search_xgb.best_score_)\n",
    "print('xgbr_best Best Parmas',grid_search_xgb.best_params_)\n",
    "print('xgbr_best Accuracy',cross_val_score(xgbr_best,X_train.values, y_train.values.ravel(), cv=3).mean())\n",
    "\n",
    "\n",
    "#LGBM Forest Classifier\n",
    "lgbm = LGBMClassifier(objective='binary')\n",
    "\n",
    "#USING GRID SEARCH\n",
    "params_lgbm = {\n",
    "    'learning_rate': [0.01,0.03,0.1,],\n",
    "    'num_leaves': [31,41], # large num_leaves helps improve accuracy but might lead to over-fitting\n",
    "    'boosting_type' : ['gbdt', 'dart'], # for better accuracy -> try dart\n",
    "    'max_bin':[510], # large max_bin helps improve accuracy but might slow down training progress\n",
    "    'colsample_bytree' : [0.64,0.7],\n",
    "    'subsample' : [0.7,],\n",
    "    'reg_alpha' : [0,],\n",
    "    'reg_lambda' : [0,1],\n",
    "    }\n",
    "\n",
    "grid_search_lgbm = GridSearchCV(estimator=lgbm,verbose =1, param_grid=params_lgbm, cv = 3,scoring='accuracy',n_jobs=-1).fit(X_train.values, y_train.values.ravel())\n",
    "lgbm_best = grid_search_lgbm.best_estimator_\n",
    "print('lgbm_best Best Score',grid_search_lgbm.best_score_)\n",
    "print('lgbm_best Best Parmas',grid_search_lgbm.best_params_)\n",
    "print('lgbm_best Accuracy',cross_val_score(lgbm_best,X_train.values, y_train.values.ravel(), cv=3).mean())"
   ]
  },
  {
   "cell_type": "code",
   "execution_count": null,
   "metadata": {
    "execution": {
     "iopub.execute_input": "2022-08-20T12:29:15.317758Z",
     "iopub.status.busy": "2022-08-20T12:29:15.316768Z",
     "iopub.status.idle": "2022-08-20T12:29:15.324259Z",
     "shell.execute_reply": "2022-08-20T12:29:15.323093Z"
    },
    "papermill": {
     "duration": 0.0323,
     "end_time": "2022-08-20T12:29:15.326597",
     "exception": false,
     "start_time": "2022-08-20T12:29:15.294297",
     "status": "completed"
    },
    "tags": []
   },
   "outputs": [],
   "source": [
    "test_data.shape"
   ]
  },
  {
   "cell_type": "code",
   "execution_count": null,
   "metadata": {
    "execution": {
     "iopub.execute_input": "2022-08-20T12:29:15.372700Z",
     "iopub.status.busy": "2022-08-20T12:29:15.372039Z",
     "iopub.status.idle": "2022-08-20T12:29:15.384475Z",
     "shell.execute_reply": "2022-08-20T12:29:15.383542Z"
    },
    "papermill": {
     "duration": 0.038836,
     "end_time": "2022-08-20T12:29:15.387466",
     "exception": false,
     "start_time": "2022-08-20T12:29:15.348630",
     "status": "completed"
    },
    "tags": []
   },
   "outputs": [],
   "source": [
    "predictions = xgbr_best.predict(test_data.values)"
   ]
  },
  {
   "cell_type": "code",
   "execution_count": null,
   "metadata": {
    "execution": {
     "iopub.execute_input": "2022-08-20T12:29:15.434670Z",
     "iopub.status.busy": "2022-08-20T12:29:15.434021Z",
     "iopub.status.idle": "2022-08-20T12:29:15.447632Z",
     "shell.execute_reply": "2022-08-20T12:29:15.446511Z"
    },
    "papermill": {
     "duration": 0.039184,
     "end_time": "2022-08-20T12:29:15.450175",
     "exception": false,
     "start_time": "2022-08-20T12:29:15.410991",
     "status": "completed"
    },
    "tags": []
   },
   "outputs": [],
   "source": [
    "sub = pd.DataFrame()\n",
    "sub['PassengerId'] = test_IDs\n",
    "sub['Survived'] = predictions\n",
    "sub['Survived'] = sub['Survived']\n",
    "sub.to_csv('submission.csv',index=False)"
   ]
  },
  {
   "cell_type": "code",
   "execution_count": null,
   "metadata": {
    "execution": {
     "iopub.execute_input": "2022-08-20T12:29:15.496886Z",
     "iopub.status.busy": "2022-08-20T12:29:15.495879Z",
     "iopub.status.idle": "2022-08-20T12:29:15.506663Z",
     "shell.execute_reply": "2022-08-20T12:29:15.505692Z"
    },
    "papermill": {
     "duration": 0.036176,
     "end_time": "2022-08-20T12:29:15.508931",
     "exception": false,
     "start_time": "2022-08-20T12:29:15.472755",
     "status": "completed"
    },
    "tags": []
   },
   "outputs": [],
   "source": [
    "sub.head()"
   ]
  },
  {
   "cell_type": "code",
   "execution_count": null,
   "metadata": {
    "papermill": {
     "duration": 0.021642,
     "end_time": "2022-08-20T12:29:15.552301",
     "exception": false,
     "start_time": "2022-08-20T12:29:15.530659",
     "status": "completed"
    },
    "tags": []
   },
   "outputs": [],
   "source": []
  },
  {
   "cell_type": "code",
   "execution_count": null,
   "metadata": {
    "papermill": {
     "duration": 0.021811,
     "end_time": "2022-08-20T12:29:15.596025",
     "exception": false,
     "start_time": "2022-08-20T12:29:15.574214",
     "status": "completed"
    },
    "tags": []
   },
   "outputs": [],
   "source": []
  }
 ],
 "metadata": {
  "kernelspec": {
   "display_name": "Python 3",
   "language": "python",
   "name": "python3"
  },
  "language_info": {
   "codemirror_mode": {
    "name": "ipython",
    "version": 3
   },
   "file_extension": ".py",
   "mimetype": "text/x-python",
   "name": "python",
   "nbconvert_exporter": "python",
   "pygments_lexer": "ipython3",
   "version": "3.8.2"
  },
  "papermill": {
   "default_parameters": {},
   "duration": 205.066903,
   "end_time": "2022-08-20T12:29:18.240621",
   "environment_variables": {},
   "exception": null,
   "input_path": "__notebook__.ipynb",
   "output_path": "__notebook__.ipynb",
   "parameters": {},
   "start_time": "2022-08-20T12:25:53.173718",
   "version": "2.3.4"
  }
 },
 "nbformat": 4,
 "nbformat_minor": 5
}
