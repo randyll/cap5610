{
 "cells": [
  {
   "cell_type": "code",
   "execution_count": 1,
   "metadata": {
    "_cell_guid": "b1076dfc-b9ad-4769-8c92-a6c4dae69d19",
    "_uuid": "8f2839f25d086af736a60e9eeb907d3b93b6e0e5",
    "execution": {
     "iopub.execute_input": "2021-11-15T17:44:06.740779Z",
     "iopub.status.busy": "2021-11-15T17:44:06.739688Z",
     "iopub.status.idle": "2021-11-15T17:44:06.756796Z",
     "shell.execute_reply": "2021-11-15T17:44:06.757473Z",
     "shell.execute_reply.started": "2021-11-15T17:41:28.791899Z"
    },
    "papermill": {
     "duration": 0.121994,
     "end_time": "2021-11-15T17:44:06.757775",
     "exception": false,
     "start_time": "2021-11-15T17:44:06.635781",
     "status": "completed"
    },
    "tags": []
   },
   "outputs": [],
   "source": [
    "# This Python 3 environment comes with many helpful analytics libraries installed\n",
    "# It is defined by the kaggle/python Docker image: https://github.com/kaggle/docker-python\n",
    "# For example, here's several helpful packages to load\n",
    "\n",
    "import numpy as np # linear algebra\n",
    "import pandas as pd # data processing, CSV file I/O (e.g. pd.read_csv)\n",
    "\n",
    "# Input data files are available in the read-only \"../input/\" directory\n",
    "# For example, running this (by clicking run or pressing Shift+Enter) will list all files under the input directory\n",
    "\n",
    "import os\n",
    "for dirname, _, filenames in os.walk('/kaggle/input'):\n",
    "    for filename in filenames:\n",
    "        print(os.path.join(dirname, filename))\n",
    "\n",
    "# You can write up to 20GB to the current directory (/kaggle/working/) that gets preserved as output when you create a version using \"Save & Run All\" \n",
    "# You can also write temporary files to /kaggle/temp/, but they won't be saved outside of the current session"
   ]
  },
  {
   "cell_type": "code",
   "execution_count": 2,
   "metadata": {
    "execution": {
     "iopub.execute_input": "2021-11-15T17:44:06.959416Z",
     "iopub.status.busy": "2021-11-15T17:44:06.958726Z",
     "iopub.status.idle": "2021-11-15T17:44:08.609813Z",
     "shell.execute_reply": "2021-11-15T17:44:08.609052Z",
     "shell.execute_reply.started": "2021-11-15T17:41:28.802534Z"
    },
    "papermill": {
     "duration": 1.753722,
     "end_time": "2021-11-15T17:44:08.610047",
     "exception": false,
     "start_time": "2021-11-15T17:44:06.856325",
     "status": "completed"
    },
    "tags": []
   },
   "outputs": [
    {
     "ename": "ModuleNotFoundError",
     "evalue": "No module named 'hyperopt'",
     "output_type": "error",
     "traceback": [
      "\u001b[0;31m---------------------------------------------------------------------------\u001b[0m",
      "\u001b[0;31mModuleNotFoundError\u001b[0m                       Traceback (most recent call last)",
      "\u001b[0;32m<ipython-input-2-8b235ba77bd2>\u001b[0m in \u001b[0;36m<module>\u001b[0;34m\u001b[0m\n\u001b[1;32m      7\u001b[0m \u001b[0;32mfrom\u001b[0m \u001b[0msklearn\u001b[0m\u001b[0;34m.\u001b[0m\u001b[0mpreprocessing\u001b[0m \u001b[0;32mimport\u001b[0m \u001b[0mMinMaxScaler\u001b[0m\u001b[0;34m\u001b[0m\u001b[0;34m\u001b[0m\u001b[0m\n\u001b[1;32m      8\u001b[0m \u001b[0;32mfrom\u001b[0m \u001b[0msklearn\u001b[0m\u001b[0;34m.\u001b[0m\u001b[0mpreprocessing\u001b[0m \u001b[0;32mimport\u001b[0m \u001b[0mLabelEncoder\u001b[0m\u001b[0;34m\u001b[0m\u001b[0;34m\u001b[0m\u001b[0m\n\u001b[0;32m----> 9\u001b[0;31m \u001b[0;32mfrom\u001b[0m \u001b[0mhyperopt\u001b[0m \u001b[0;32mimport\u001b[0m \u001b[0mfmin\u001b[0m\u001b[0;34m,\u001b[0m \u001b[0mtpe\u001b[0m\u001b[0;34m,\u001b[0m \u001b[0mhp\u001b[0m\u001b[0;34m,\u001b[0m \u001b[0mSTATUS_OK\u001b[0m\u001b[0;34m,\u001b[0m \u001b[0mTrials\u001b[0m \u001b[0;34m,\u001b[0m \u001b[0mspace_eval\u001b[0m\u001b[0;34m\u001b[0m\u001b[0;34m\u001b[0m\u001b[0m\n\u001b[0m\u001b[1;32m     10\u001b[0m \u001b[0;32mfrom\u001b[0m \u001b[0msklearn\u001b[0m\u001b[0;34m.\u001b[0m\u001b[0mmodel_selection\u001b[0m \u001b[0;32mimport\u001b[0m \u001b[0mcross_val_score\u001b[0m\u001b[0;34m\u001b[0m\u001b[0;34m\u001b[0m\u001b[0m\n\u001b[1;32m     11\u001b[0m \u001b[0;32mimport\u001b[0m \u001b[0mwarnings\u001b[0m\u001b[0;34m\u001b[0m\u001b[0;34m\u001b[0m\u001b[0m\n",
      "\u001b[0;31mModuleNotFoundError\u001b[0m: No module named 'hyperopt'"
     ]
    }
   ],
   "source": [
    "import seaborn as sns\n",
    "import matplotlib.pyplot as plt\n",
    "from sklearn.ensemble import RandomForestClassifier\n",
    "from sklearn.model_selection import KFold\n",
    "from sklearn.model_selection import train_test_split\n",
    "from sklearn.metrics import accuracy_score\n",
    "from sklearn.preprocessing import MinMaxScaler\n",
    "from sklearn.preprocessing import LabelEncoder\n",
    "from hyperopt import fmin, tpe, hp, STATUS_OK, Trials , space_eval\n",
    "from sklearn.model_selection import cross_val_score\n",
    "import warnings\n",
    "warnings.filterwarnings('ignore')"
   ]
  },
  {
   "cell_type": "markdown",
   "metadata": {
    "papermill": {
     "duration": 0.096088,
     "end_time": "2021-11-15T17:44:08.824459",
     "exception": false,
     "start_time": "2021-11-15T17:44:08.728371",
     "status": "completed"
    },
    "tags": []
   },
   "source": [
    "# About the dataset :"
   ]
  },
  {
   "cell_type": "code",
   "execution_count": null,
   "metadata": {
    "execution": {
     "iopub.execute_input": "2021-11-15T17:44:09.025424Z",
     "iopub.status.busy": "2021-11-15T17:44:09.024734Z",
     "iopub.status.idle": "2021-11-15T17:44:09.061323Z",
     "shell.execute_reply": "2021-11-15T17:44:09.061748Z",
     "shell.execute_reply.started": "2021-11-15T17:41:28.814841Z"
    },
    "papermill": {
     "duration": 0.140869,
     "end_time": "2021-11-15T17:44:09.061917",
     "exception": false,
     "start_time": "2021-11-15T17:44:08.921048",
     "status": "completed"
    },
    "tags": []
   },
   "outputs": [],
   "source": [
    "#Read data\n",
    "data = pd.read_csv('train.csv')\n",
    "\n",
    "#Printing first 5 rows\n",
    "data[:5]"
   ]
  },
  {
   "cell_type": "code",
   "execution_count": null,
   "metadata": {
    "execution": {
     "iopub.execute_input": "2021-11-15T17:44:09.262221Z",
     "iopub.status.busy": "2021-11-15T17:44:09.261325Z",
     "iopub.status.idle": "2021-11-15T17:44:09.283688Z",
     "shell.execute_reply": "2021-11-15T17:44:09.282912Z",
     "shell.execute_reply.started": "2021-11-15T17:41:28.845697Z"
    },
    "papermill": {
     "duration": 0.123087,
     "end_time": "2021-11-15T17:44:09.283926",
     "exception": false,
     "start_time": "2021-11-15T17:44:09.160839",
     "status": "completed"
    },
    "tags": []
   },
   "outputs": [],
   "source": [
    "data.info()"
   ]
  },
  {
   "cell_type": "markdown",
   "metadata": {
    "papermill": {
     "duration": 0.098198,
     "end_time": "2021-11-15T17:44:09.480376",
     "exception": false,
     "start_time": "2021-11-15T17:44:09.382178",
     "status": "completed"
    },
    "tags": []
   },
   "source": [
    "About the features : \n",
    "- **PassengerId** : Id of each passsenger (in int)\n",
    "- **Survived** : If survived or no (0 = No, 1 = Yes)\n",
    "- **Pclass** : Ticket class (1 = 1st, 2 = 2nd, 3 = 3rd)\n",
    "- **Name** : name (string)\n",
    "- **Sex** : sex (string : 'male' 'female')\n",
    "- **Age** : age in years\n",
    "- **SibSp** : # of siblings / spouses aboard the Titanic\n",
    "- **Parch** : # of parents / children aboard the Titanic\n",
    "- **Ticket** : Ticket number (string)\n",
    "- **Fare** : Passenger fare\n",
    "- **Cabin** : Cabin number (string)\n",
    "- **Embarked** : Port of Embarkation (C = Cherbourg, Q = Queenstown, S = Southampton) "
   ]
  },
  {
   "cell_type": "markdown",
   "metadata": {
    "papermill": {
     "duration": 0.097278,
     "end_time": "2021-11-15T17:44:09.675577",
     "exception": false,
     "start_time": "2021-11-15T17:44:09.578299",
     "status": "completed"
    },
    "tags": []
   },
   "source": [
    "## Is the data imbalanced?"
   ]
  },
  {
   "cell_type": "code",
   "execution_count": null,
   "metadata": {
    "execution": {
     "iopub.execute_input": "2021-11-15T17:44:09.874746Z",
     "iopub.status.busy": "2021-11-15T17:44:09.873738Z",
     "iopub.status.idle": "2021-11-15T17:44:09.880503Z",
     "shell.execute_reply": "2021-11-15T17:44:09.881054Z",
     "shell.execute_reply.started": "2021-11-15T17:41:28.862377Z"
    },
    "papermill": {
     "duration": 0.108107,
     "end_time": "2021-11-15T17:44:09.881225",
     "exception": false,
     "start_time": "2021-11-15T17:44:09.773118",
     "status": "completed"
    },
    "tags": []
   },
   "outputs": [],
   "source": [
    "data['Survived'].value_counts()"
   ]
  },
  {
   "cell_type": "code",
   "execution_count": null,
   "metadata": {
    "execution": {
     "iopub.execute_input": "2021-11-15T17:44:10.120235Z",
     "iopub.status.busy": "2021-11-15T17:44:10.119302Z",
     "iopub.status.idle": "2021-11-15T17:44:10.344379Z",
     "shell.execute_reply": "2021-11-15T17:44:10.343860Z",
     "shell.execute_reply.started": "2021-11-15T17:41:28.871584Z"
    },
    "papermill": {
     "duration": 0.35629,
     "end_time": "2021-11-15T17:44:10.344515",
     "exception": false,
     "start_time": "2021-11-15T17:44:09.988225",
     "status": "completed"
    },
    "tags": []
   },
   "outputs": [],
   "source": [
    "sns.set()\n",
    "sns.set(rc = {'figure.figsize':(9,5)})\n",
    "sns.countplot(x=\"Survived\",data=data)"
   ]
  },
  {
   "cell_type": "markdown",
   "metadata": {
    "papermill": {
     "duration": 0.098324,
     "end_time": "2021-11-15T17:44:10.543231",
     "exception": false,
     "start_time": "2021-11-15T17:44:10.444907",
     "status": "completed"
    },
    "tags": []
   },
   "source": [
    "- **Data is clearly imbalanced**, the count of people who survived **is almost close to half** the count of people who didn't survive "
   ]
  },
  {
   "cell_type": "markdown",
   "metadata": {
    "papermill": {
     "duration": 0.098154,
     "end_time": "2021-11-15T17:44:10.741328",
     "exception": false,
     "start_time": "2021-11-15T17:44:10.643174",
     "status": "completed"
    },
    "tags": []
   },
   "source": [
    "## Correlation with target variables"
   ]
  },
  {
   "cell_type": "code",
   "execution_count": null,
   "metadata": {
    "execution": {
     "iopub.execute_input": "2021-11-15T17:44:10.944343Z",
     "iopub.status.busy": "2021-11-15T17:44:10.943409Z",
     "iopub.status.idle": "2021-11-15T17:44:10.953100Z",
     "shell.execute_reply": "2021-11-15T17:44:10.953501Z",
     "shell.execute_reply.started": "2021-11-15T17:41:29.084359Z"
    },
    "papermill": {
     "duration": 0.112003,
     "end_time": "2021-11-15T17:44:10.953663",
     "exception": false,
     "start_time": "2021-11-15T17:44:10.841660",
     "status": "completed"
    },
    "tags": []
   },
   "outputs": [],
   "source": [
    "data.corrwith(data[\"Survived\"])"
   ]
  },
  {
   "cell_type": "code",
   "execution_count": null,
   "metadata": {
    "execution": {
     "iopub.execute_input": "2021-11-15T17:44:11.206572Z",
     "iopub.status.busy": "2021-11-15T17:44:11.205674Z",
     "iopub.status.idle": "2021-11-15T17:44:11.451762Z",
     "shell.execute_reply": "2021-11-15T17:44:11.452231Z",
     "shell.execute_reply.started": "2021-11-15T17:41:29.098805Z"
    },
    "papermill": {
     "duration": 0.349242,
     "end_time": "2021-11-15T17:44:11.452398",
     "exception": false,
     "start_time": "2021-11-15T17:44:11.103156",
     "status": "completed"
    },
    "tags": []
   },
   "outputs": [],
   "source": [
    "plt.bar(dict(data.corrwith(data[\"Survived\"])).keys(), dict(data.corrwith(data[\"Survived\"])).values())"
   ]
  },
  {
   "cell_type": "markdown",
   "metadata": {
    "papermill": {
     "duration": 0.100048,
     "end_time": "2021-11-15T17:44:11.652436",
     "exception": false,
     "start_time": "2021-11-15T17:44:11.552388",
     "status": "completed"
    },
    "tags": []
   },
   "source": [
    "# Missing values?"
   ]
  },
  {
   "cell_type": "code",
   "execution_count": null,
   "metadata": {
    "execution": {
     "iopub.execute_input": "2021-11-15T17:44:11.858728Z",
     "iopub.status.busy": "2021-11-15T17:44:11.858162Z",
     "iopub.status.idle": "2021-11-15T17:44:11.872548Z",
     "shell.execute_reply": "2021-11-15T17:44:11.873022Z",
     "shell.execute_reply.started": "2021-11-15T17:41:29.367106Z"
    },
    "papermill": {
     "duration": 0.120041,
     "end_time": "2021-11-15T17:44:11.873188",
     "exception": false,
     "start_time": "2021-11-15T17:44:11.753147",
     "status": "completed"
    },
    "tags": []
   },
   "outputs": [],
   "source": [
    "#Checking for Nan values in features excluding PassengerId, Name\n",
    "print('Nan values exist in')\n",
    "for col in [data.columns[i] for i in range(0, len(data.columns))]: #[1,2,4,5,6,7,8,9,10,11]]:\n",
    "    print(col,':', any(data[col].isna()))"
   ]
  },
  {
   "cell_type": "markdown",
   "metadata": {
    "papermill": {
     "duration": 0.102017,
     "end_time": "2021-11-15T17:44:12.077284",
     "exception": false,
     "start_time": "2021-11-15T17:44:11.975267",
     "status": "completed"
    },
    "tags": []
   },
   "source": [
    "- 'Age', 'Cabin' and 'Embarked' have Nan values. Lets check them further.."
   ]
  },
  {
   "cell_type": "markdown",
   "metadata": {
    "papermill": {
     "duration": 0.101491,
     "end_time": "2021-11-15T17:44:12.281632",
     "exception": false,
     "start_time": "2021-11-15T17:44:12.180141",
     "status": "completed"
    },
    "tags": []
   },
   "source": [
    "## Age "
   ]
  },
  {
   "cell_type": "code",
   "execution_count": null,
   "metadata": {
    "execution": {
     "iopub.execute_input": "2021-11-15T17:44:12.487426Z",
     "iopub.status.busy": "2021-11-15T17:44:12.486871Z",
     "iopub.status.idle": "2021-11-15T17:44:12.496445Z",
     "shell.execute_reply": "2021-11-15T17:44:12.496981Z",
     "shell.execute_reply.started": "2021-11-15T17:41:29.385223Z"
    },
    "papermill": {
     "duration": 0.112452,
     "end_time": "2021-11-15T17:44:12.497147",
     "exception": false,
     "start_time": "2021-11-15T17:44:12.384695",
     "status": "completed"
    },
    "tags": []
   },
   "outputs": [],
   "source": [
    "data['Age'] = data['Age'].fillna('nan')\n",
    "\n",
    "print(data[data['Age'] == 'nan']['Age'])"
   ]
  },
  {
   "cell_type": "markdown",
   "metadata": {
    "papermill": {
     "duration": 0.100386,
     "end_time": "2021-11-15T17:44:12.697686",
     "exception": false,
     "start_time": "2021-11-15T17:44:12.597300",
     "status": "completed"
    },
    "tags": []
   },
   "source": [
    "- There are 177 Nan values in the Age column\n",
    "\n",
    "- Now, we impute the missing values with a central tendency measure (median performed the best in this case)"
   ]
  },
  {
   "cell_type": "code",
   "execution_count": null,
   "metadata": {
    "execution": {
     "iopub.execute_input": "2021-11-15T17:44:12.907556Z",
     "iopub.status.busy": "2021-11-15T17:44:12.906785Z",
     "iopub.status.idle": "2021-11-15T17:44:12.909553Z",
     "shell.execute_reply": "2021-11-15T17:44:12.909116Z",
     "shell.execute_reply.started": "2021-11-15T17:41:29.397909Z"
    },
    "papermill": {
     "duration": 0.111607,
     "end_time": "2021-11-15T17:44:12.909682",
     "exception": false,
     "start_time": "2021-11-15T17:44:12.798075",
     "status": "completed"
    },
    "tags": []
   },
   "outputs": [],
   "source": [
    "def impute_missing_data(test, col, median, mode):\n",
    "    if col in test :\n",
    "        test[col] = test[col].fillna('nan')\n",
    "\n",
    "        test_feature = test.drop(test[test[col]== 'nan'].index, axis= 0)[col]\n",
    "\n",
    "        nan_index = test[test[col]== 'nan'].index\n",
    "\n",
    "        for i in nan_index:\n",
    "            if median == True:\n",
    "                test[col].iloc[i] = test_feature.median()\n",
    "            elif mode == True:\n",
    "                test[col].iloc[i] = test_feature.value_counts().index[0]\n",
    "        \n",
    "    return test"
   ]
  },
  {
   "cell_type": "code",
   "execution_count": null,
   "metadata": {
    "execution": {
     "iopub.execute_input": "2021-11-15T17:44:13.118479Z",
     "iopub.status.busy": "2021-11-15T17:44:13.117836Z",
     "iopub.status.idle": "2021-11-15T17:44:13.234607Z",
     "shell.execute_reply": "2021-11-15T17:44:13.234093Z",
     "shell.execute_reply.started": "2021-11-15T17:41:29.406458Z"
    },
    "papermill": {
     "duration": 0.224596,
     "end_time": "2021-11-15T17:44:13.234749",
     "exception": false,
     "start_time": "2021-11-15T17:44:13.010153",
     "status": "completed"
    },
    "tags": []
   },
   "outputs": [],
   "source": [
    "#Imputing mean values for missing data\n",
    "data = impute_missing_data(data, 'Age', median =True, mode=False)"
   ]
  },
  {
   "cell_type": "code",
   "execution_count": null,
   "metadata": {
    "execution": {
     "iopub.execute_input": "2021-11-15T17:44:13.440425Z",
     "iopub.status.busy": "2021-11-15T17:44:13.439863Z",
     "iopub.status.idle": "2021-11-15T17:44:13.445581Z",
     "shell.execute_reply": "2021-11-15T17:44:13.444967Z",
     "shell.execute_reply.started": "2021-11-15T17:41:29.535836Z"
    },
    "papermill": {
     "duration": 0.109509,
     "end_time": "2021-11-15T17:44:13.445711",
     "exception": false,
     "start_time": "2021-11-15T17:44:13.336202",
     "status": "completed"
    },
    "tags": []
   },
   "outputs": [],
   "source": [
    "any(data['Age'].isna())"
   ]
  },
  {
   "cell_type": "code",
   "execution_count": null,
   "metadata": {
    "execution": {
     "iopub.execute_input": "2021-11-15T17:44:13.660780Z",
     "iopub.status.busy": "2021-11-15T17:44:13.659849Z",
     "iopub.status.idle": "2021-11-15T17:44:13.662676Z",
     "shell.execute_reply": "2021-11-15T17:44:13.662221Z",
     "shell.execute_reply.started": "2021-11-15T17:41:29.544662Z"
    },
    "papermill": {
     "duration": 0.114908,
     "end_time": "2021-11-15T17:44:13.662815",
     "exception": false,
     "start_time": "2021-11-15T17:44:13.547907",
     "status": "completed"
    },
    "tags": []
   },
   "outputs": [],
   "source": [
    "data['Age'] = data['Age'].map(lambda x: int(x))"
   ]
  },
  {
   "cell_type": "code",
   "execution_count": null,
   "metadata": {
    "execution": {
     "iopub.execute_input": "2021-11-15T17:44:13.870506Z",
     "iopub.status.busy": "2021-11-15T17:44:13.869839Z",
     "iopub.status.idle": "2021-11-15T17:44:13.872610Z",
     "shell.execute_reply": "2021-11-15T17:44:13.872168Z",
     "shell.execute_reply.started": "2021-11-15T17:41:29.558858Z"
    },
    "papermill": {
     "duration": 0.108274,
     "end_time": "2021-11-15T17:44:13.872733",
     "exception": false,
     "start_time": "2021-11-15T17:44:13.764459",
     "status": "completed"
    },
    "tags": []
   },
   "outputs": [],
   "source": [
    "'''data = data.drop(data[data['Age']== 'nan'].index, axis= 0)\n",
    "data.info()'''"
   ]
  },
  {
   "cell_type": "code",
   "execution_count": null,
   "metadata": {
    "execution": {
     "iopub.execute_input": "2021-11-15T17:44:14.084904Z",
     "iopub.status.busy": "2021-11-15T17:44:14.084313Z",
     "iopub.status.idle": "2021-11-15T17:44:14.091543Z",
     "shell.execute_reply": "2021-11-15T17:44:14.091009Z",
     "shell.execute_reply.started": "2021-11-15T17:41:29.571320Z"
    },
    "papermill": {
     "duration": 0.11782,
     "end_time": "2021-11-15T17:44:14.091681",
     "exception": false,
     "start_time": "2021-11-15T17:44:13.973861",
     "status": "completed"
    },
    "tags": []
   },
   "outputs": [],
   "source": [
    "data.corrwith(data[\"Survived\"])"
   ]
  },
  {
   "cell_type": "markdown",
   "metadata": {
    "papermill": {
     "duration": 0.10265,
     "end_time": "2021-11-15T17:44:14.296138",
     "exception": false,
     "start_time": "2021-11-15T17:44:14.193488",
     "status": "completed"
    },
    "tags": []
   },
   "source": [
    "## Cabin"
   ]
  },
  {
   "cell_type": "code",
   "execution_count": null,
   "metadata": {
    "execution": {
     "iopub.execute_input": "2021-11-15T17:44:14.506686Z",
     "iopub.status.busy": "2021-11-15T17:44:14.505729Z",
     "iopub.status.idle": "2021-11-15T17:44:14.511419Z",
     "shell.execute_reply": "2021-11-15T17:44:14.511870Z",
     "shell.execute_reply.started": "2021-11-15T17:41:29.588746Z"
    },
    "papermill": {
     "duration": 0.113027,
     "end_time": "2021-11-15T17:44:14.512085",
     "exception": false,
     "start_time": "2021-11-15T17:44:14.399058",
     "status": "completed"
    },
    "tags": []
   },
   "outputs": [],
   "source": [
    "data['Cabin'] = data['Cabin'].fillna('nan')\n",
    "\n",
    "print(data[data['Cabin'] == 'nan']['Cabin'])"
   ]
  },
  {
   "cell_type": "markdown",
   "metadata": {
    "papermill": {
     "duration": 0.103866,
     "end_time": "2021-11-15T17:44:14.718113",
     "exception": false,
     "start_time": "2021-11-15T17:44:14.614247",
     "status": "completed"
    },
    "tags": []
   },
   "source": [
    "- Since 'Cabin' has around 529 nan values which is more than 50 percent of the total data, we drop this feature"
   ]
  },
  {
   "cell_type": "code",
   "execution_count": null,
   "metadata": {
    "execution": {
     "iopub.execute_input": "2021-11-15T17:44:14.925209Z",
     "iopub.status.busy": "2021-11-15T17:44:14.924300Z",
     "iopub.status.idle": "2021-11-15T17:44:14.936718Z",
     "shell.execute_reply": "2021-11-15T17:44:14.937140Z",
     "shell.execute_reply.started": "2021-11-15T17:41:29.598538Z"
    },
    "papermill": {
     "duration": 0.11719,
     "end_time": "2021-11-15T17:44:14.937307",
     "exception": false,
     "start_time": "2021-11-15T17:44:14.820117",
     "status": "completed"
    },
    "tags": []
   },
   "outputs": [],
   "source": [
    "data['cabin_nan'] = [1 if data['Cabin'].iloc[i] =='nan' else 0 for i in range(len(data))]\n",
    "#data['cabin_val'] = [0 if data['Cabin'].iloc[i] =='nan' else 1 for i in range(len(data))]\n"
   ]
  },
  {
   "cell_type": "markdown",
   "metadata": {
    "papermill": {
     "duration": 0.10417,
     "end_time": "2021-11-15T17:44:15.143143",
     "exception": false,
     "start_time": "2021-11-15T17:44:15.038973",
     "status": "completed"
    },
    "tags": []
   },
   "source": [
    "## Embarked"
   ]
  },
  {
   "cell_type": "code",
   "execution_count": null,
   "metadata": {
    "execution": {
     "iopub.execute_input": "2021-11-15T17:44:15.351096Z",
     "iopub.status.busy": "2021-11-15T17:44:15.350153Z",
     "iopub.status.idle": "2021-11-15T17:44:15.358279Z",
     "shell.execute_reply": "2021-11-15T17:44:15.358716Z",
     "shell.execute_reply.started": "2021-11-15T17:41:29.619367Z"
    },
    "papermill": {
     "duration": 0.113804,
     "end_time": "2021-11-15T17:44:15.358873",
     "exception": false,
     "start_time": "2021-11-15T17:44:15.245069",
     "status": "completed"
    },
    "tags": []
   },
   "outputs": [],
   "source": [
    "data['Embarked'] = data['Embarked'].fillna('nan')\n",
    "\n",
    "print(data[data['Embarked'] == 'nan']['Embarked'])"
   ]
  },
  {
   "cell_type": "markdown",
   "metadata": {
    "papermill": {
     "duration": 0.102278,
     "end_time": "2021-11-15T17:44:15.565515",
     "exception": false,
     "start_time": "2021-11-15T17:44:15.463237",
     "status": "completed"
    },
    "tags": []
   },
   "source": [
    "- Only two nan values, we impute them with the maximum occuring category for the feature or the mode"
   ]
  },
  {
   "cell_type": "code",
   "execution_count": null,
   "metadata": {
    "execution": {
     "iopub.execute_input": "2021-11-15T17:44:15.776205Z",
     "iopub.status.busy": "2021-11-15T17:44:15.775570Z",
     "iopub.status.idle": "2021-11-15T17:44:15.783568Z",
     "shell.execute_reply": "2021-11-15T17:44:15.784068Z",
     "shell.execute_reply.started": "2021-11-15T17:41:29.630168Z"
    },
    "papermill": {
     "duration": 0.11525,
     "end_time": "2021-11-15T17:44:15.784242",
     "exception": false,
     "start_time": "2021-11-15T17:44:15.668992",
     "status": "completed"
    },
    "tags": []
   },
   "outputs": [],
   "source": [
    "#Imputing the mode values for missing data\n",
    "data = impute_missing_data(data, 'Embarked', median = False, mode = True)"
   ]
  },
  {
   "cell_type": "code",
   "execution_count": null,
   "metadata": {
    "execution": {
     "iopub.execute_input": "2021-11-15T17:44:15.995400Z",
     "iopub.status.busy": "2021-11-15T17:44:15.994776Z",
     "iopub.status.idle": "2021-11-15T17:44:15.998181Z",
     "shell.execute_reply": "2021-11-15T17:44:15.998573Z",
     "shell.execute_reply.started": "2021-11-15T17:41:29.648739Z"
    },
    "papermill": {
     "duration": 0.112402,
     "end_time": "2021-11-15T17:44:15.998739",
     "exception": false,
     "start_time": "2021-11-15T17:44:15.886337",
     "status": "completed"
    },
    "tags": []
   },
   "outputs": [],
   "source": [
    "any(data['Embarked'].isna())"
   ]
  },
  {
   "cell_type": "code",
   "execution_count": null,
   "metadata": {
    "execution": {
     "iopub.execute_input": "2021-11-15T17:44:16.210230Z",
     "iopub.status.busy": "2021-11-15T17:44:16.209644Z",
     "iopub.status.idle": "2021-11-15T17:44:16.225326Z",
     "shell.execute_reply": "2021-11-15T17:44:16.225733Z",
     "shell.execute_reply.started": "2021-11-15T17:41:29.657884Z"
    },
    "papermill": {
     "duration": 0.123878,
     "end_time": "2021-11-15T17:44:16.225918",
     "exception": false,
     "start_time": "2021-11-15T17:44:16.102040",
     "status": "completed"
    },
    "tags": []
   },
   "outputs": [],
   "source": [
    "data"
   ]
  },
  {
   "cell_type": "code",
   "execution_count": null,
   "metadata": {
    "execution": {
     "iopub.execute_input": "2021-11-15T17:44:16.442165Z",
     "iopub.status.busy": "2021-11-15T17:44:16.441534Z",
     "iopub.status.idle": "2021-11-15T17:44:16.449671Z",
     "shell.execute_reply": "2021-11-15T17:44:16.450116Z",
     "shell.execute_reply.started": "2021-11-15T17:41:29.687508Z"
    },
    "papermill": {
     "duration": 0.119514,
     "end_time": "2021-11-15T17:44:16.450276",
     "exception": false,
     "start_time": "2021-11-15T17:44:16.330762",
     "status": "completed"
    },
    "tags": []
   },
   "outputs": [],
   "source": [
    "data.corrwith(data[\"Survived\"])"
   ]
  },
  {
   "cell_type": "code",
   "execution_count": null,
   "metadata": {
    "execution": {
     "iopub.execute_input": "2021-11-15T17:44:16.659110Z",
     "iopub.status.busy": "2021-11-15T17:44:16.658559Z",
     "iopub.status.idle": "2021-11-15T17:44:16.919415Z",
     "shell.execute_reply": "2021-11-15T17:44:16.918683Z",
     "shell.execute_reply.started": "2021-11-15T17:41:29.700815Z"
    },
    "papermill": {
     "duration": 0.366012,
     "end_time": "2021-11-15T17:44:16.919591",
     "exception": false,
     "start_time": "2021-11-15T17:44:16.553579",
     "status": "completed"
    },
    "tags": []
   },
   "outputs": [],
   "source": [
    "plt.bar(dict(data.corrwith(data[\"Survived\"])).keys(), dict(data.corrwith(data[\"Survived\"])).values())"
   ]
  },
  {
   "cell_type": "markdown",
   "metadata": {
    "papermill": {
     "duration": 0.109706,
     "end_time": "2021-11-15T17:44:17.134274",
     "exception": false,
     "start_time": "2021-11-15T17:44:17.024568",
     "status": "completed"
    },
    "tags": []
   },
   "source": [
    "# EDA"
   ]
  },
  {
   "cell_type": "markdown",
   "metadata": {
    "papermill": {
     "duration": 0.105001,
     "end_time": "2021-11-15T17:44:17.346860",
     "exception": false,
     "start_time": "2021-11-15T17:44:17.241859",
     "status": "completed"
    },
    "tags": []
   },
   "source": [
    "## Age of the people who survived?"
   ]
  },
  {
   "cell_type": "markdown",
   "metadata": {
    "papermill": {
     "duration": 0.10567,
     "end_time": "2021-11-15T17:44:17.559233",
     "exception": false,
     "start_time": "2021-11-15T17:44:17.453563",
     "status": "completed"
    },
    "tags": []
   },
   "source": [
    "Three visualizations :\n",
    "1. Boxplots : To tell us about the distribution of the feature for each output class and give us an idea about the outliers in the data\n",
    "2. Density plots : To tell us about the distribution and more about the shape of the distribution (resembling normal or any other disb) of the feature\n",
    "3. Stacked countplots : Tells us more about count of each category of the feature with information about the percentage belonging to which output class"
   ]
  },
  {
   "cell_type": "code",
   "execution_count": null,
   "metadata": {
    "execution": {
     "iopub.execute_input": "2021-11-15T17:44:17.819509Z",
     "iopub.status.busy": "2021-11-15T17:44:17.816689Z",
     "iopub.status.idle": "2021-11-15T17:44:18.264678Z",
     "shell.execute_reply": "2021-11-15T17:44:18.264208Z",
     "shell.execute_reply.started": "2021-11-15T17:41:29.969609Z"
    },
    "papermill": {
     "duration": 0.601158,
     "end_time": "2021-11-15T17:44:18.264808",
     "exception": false,
     "start_time": "2021-11-15T17:44:17.663650",
     "status": "completed"
    },
    "tags": []
   },
   "outputs": [],
   "source": [
    "sns.set(rc = {'figure.figsize':(16,6)})\n",
    "plt.plot(figure_size = (1,2))\n",
    "\n",
    "#Boxplots\n",
    "plt.subplot(1,2,1)\n",
    "bp_ax = sns.boxplot(x = \"Survived\",y=\"Age\", data = data)\n",
    "bp_ax.set_title('Box plot', fontsize = 20)\n",
    "\n",
    "#Density plots\n",
    "plt.subplot(1,2,2)\n",
    "dp_ax = sns.kdeplot(x = 'Age', hue = 'Survived', data = data)\n",
    "dp_ax.set_title('Density plot', fontsize = 20)"
   ]
  },
  {
   "cell_type": "markdown",
   "metadata": {
    "papermill": {
     "duration": 0.106739,
     "end_time": "2021-11-15T17:44:18.477116",
     "exception": false,
     "start_time": "2021-11-15T17:44:18.370377",
     "status": "completed"
    },
    "tags": []
   },
   "source": [
    "- Distribution of people who didn't survive is slightly right skewed, or the mean of the people who did not survive > median of the distribution which is around ~27, i.e. **mean age of the people who did not survive is higher than 27**\n",
    "- People of ages > ~67 are considered outliers in the disb of people who did not survive. owing to the fact **people above the age of ~67 are very less** and people of age ~60 above are outliers in the disb of people who did survive, i.e. **very few people above 60 actually did survive**"
   ]
  },
  {
   "cell_type": "code",
   "execution_count": null,
   "metadata": {
    "execution": {
     "iopub.execute_input": "2021-11-15T17:44:18.698367Z",
     "iopub.status.busy": "2021-11-15T17:44:18.697682Z",
     "iopub.status.idle": "2021-11-15T17:44:18.700465Z",
     "shell.execute_reply": "2021-11-15T17:44:18.699718Z",
     "shell.execute_reply.started": "2021-11-15T17:41:30.449802Z"
    },
    "papermill": {
     "duration": 0.116954,
     "end_time": "2021-11-15T17:44:18.700623",
     "exception": false,
     "start_time": "2021-11-15T17:44:18.583669",
     "status": "completed"
    },
    "tags": []
   },
   "outputs": [],
   "source": [
    "def plot_stacked_plot_percentages(class_list, df_p, add_x_val):\n",
    "    \n",
    "    '''This function adds the percentage in each stacked plot\n",
    "    class_list : contains three params, count of each rect/class, total for that rect/class, ax object of that rect/class\n",
    "    df_p : df.axes.patches object for each rectange\n",
    "    add_x_val : x axis value to center the text\n",
    "    '''\n",
    "    \n",
    "    for class_val in class_list:\n",
    "        \n",
    "        percentage = (class_val[0]/class_val[1])*100\n",
    "        height = class_val[2].get_height() \n",
    "        df_p.axes.text(class_val[2].get_x()+add_x_val, height,\"{:1.1f}%\".format(percentage))"
   ]
  },
  {
   "cell_type": "code",
   "execution_count": null,
   "metadata": {
    "execution": {
     "iopub.execute_input": "2021-11-15T17:44:18.922183Z",
     "iopub.status.busy": "2021-11-15T17:44:18.921579Z",
     "iopub.status.idle": "2021-11-15T17:44:18.926874Z",
     "shell.execute_reply": "2021-11-15T17:44:18.927377Z",
     "shell.execute_reply.started": "2021-11-15T17:41:30.458103Z"
    },
    "papermill": {
     "duration": 0.114865,
     "end_time": "2021-11-15T17:44:18.927546",
     "exception": false,
     "start_time": "2021-11-15T17:44:18.812681",
     "status": "completed"
    },
    "tags": []
   },
   "outputs": [],
   "source": [
    "def calculate_stacked_plot_percentages(df_plot, df_p):\n",
    "    #Find the counts for each age bin for calcualting percentage\n",
    "    df_plot_sum = df_plot.sum(axis=1)\n",
    "    class_sum = np.array([df_plot_sum.iloc[int(i/2)] if i%2==0 else df_plot_sum.iloc[int((i-1)/2)] for i in range(2*len(df_plot_sum)) ]).reshape((len(df_plot_sum),2)).T.flatten()\n",
    "    class_list = zip(np.roll(df_plot.to_numpy().T.flatten(), len(df_plot)), class_sum, list(df_p.axes.patches))\n",
    "\n",
    "    return class_list"
   ]
  },
  {
   "cell_type": "code",
   "execution_count": null,
   "metadata": {
    "execution": {
     "iopub.execute_input": "2021-11-15T17:44:19.143674Z",
     "iopub.status.busy": "2021-11-15T17:44:19.143100Z",
     "iopub.status.idle": "2021-11-15T17:44:19.402503Z",
     "shell.execute_reply": "2021-11-15T17:44:19.402972Z",
     "shell.execute_reply.started": "2021-11-15T17:41:30.469120Z"
    },
    "papermill": {
     "duration": 0.369005,
     "end_time": "2021-11-15T17:44:19.403144",
     "exception": false,
     "start_time": "2021-11-15T17:44:19.034139",
     "status": "completed"
    },
    "tags": []
   },
   "outputs": [],
   "source": [
    "#Stacked countplot : https://stackoverflow.com/questions/50319614/count-plot-with-stacked-bars-per-hue #Add percentages on stacked countplots : https://stackoverflow.com/questions/31749448/how-to-add-percentages-on-top-of-bars-in-seaborn\n",
    "sns.set(rc = {'figure.figsize':(15,8)})\n",
    "\n",
    "#Find the bins\n",
    "data['age_bin'] = pd.cut(data['Age'], 3, precision = 0)\n",
    "\n",
    "#Calculate the counts of categorical variable Survived for different age bins\n",
    "df_plot = data.groupby([ 'Survived', 'age_bin']).size().reset_index().pivot(columns='Survived', index='age_bin', values=0)\n",
    "print(df_plot)\n",
    "\n",
    "#Plot the stacked bar plot\n",
    "df_p = df_plot.plot(kind='bar', stacked=True)\n",
    "\n",
    "#Set labels\n",
    "df_p.set_xlabel(\"Age groups\", fontsize = 20)\n",
    "df_p.set_ylabel(\"Count\", fontsize = 20)\n",
    "\n",
    "class_list = calculate_stacked_plot_percentages(df_plot, df_p)\n",
    "\n",
    "plot_stacked_plot_percentages(class_list, df_p, 0.12)"
   ]
  },
  {
   "cell_type": "markdown",
   "metadata": {
    "papermill": {
     "duration": 0.106547,
     "end_time": "2021-11-15T17:44:19.616708",
     "exception": false,
     "start_time": "2021-11-15T17:44:19.510161",
     "status": "completed"
    },
    "tags": []
   },
   "source": [
    "- In the above stacked plots, the age has been binned into 3 age bins, Bin1 or the younger people in age group 0-27 years, Bin 2 or the iddle aged in age group 27-53 years, and Bin3 or the older people in age group 53 -80 years\n",
    "- Majority of people fall in age bin Bin 1 [0-27], and Bin 2 [27 - 53] while a minority fall in Bin3 [53-80]\n",
    "- The percentage of people who survived is **slightly lower in Bin 1 and Bin 2** (40.8 and 37.5 % respectively), while the **percentage of people who survived is much lower in Bin 3 (32%)**"
   ]
  },
  {
   "cell_type": "markdown",
   "metadata": {
    "papermill": {
     "duration": 0.106101,
     "end_time": "2021-11-15T17:44:19.829152",
     "exception": false,
     "start_time": "2021-11-15T17:44:19.723051",
     "status": "completed"
    },
    "tags": []
   },
   "source": [
    "Note : Countplots vs box plots"
   ]
  },
  {
   "cell_type": "code",
   "execution_count": null,
   "metadata": {
    "execution": {
     "iopub.execute_input": "2021-11-15T17:44:20.048229Z",
     "iopub.status.busy": "2021-11-15T17:44:20.047567Z",
     "iopub.status.idle": "2021-11-15T17:44:20.052502Z",
     "shell.execute_reply": "2021-11-15T17:44:20.052999Z",
     "shell.execute_reply.started": "2021-11-15T17:41:30.764772Z"
    },
    "papermill": {
     "duration": 0.11757,
     "end_time": "2021-11-15T17:44:20.053161",
     "exception": false,
     "start_time": "2021-11-15T17:44:19.935591",
     "status": "completed"
    },
    "tags": []
   },
   "outputs": [],
   "source": [
    "#how to drop outliers from data after analysing with boxplot : https://datascience.stackexchange.com/questions/54808/how-to-remove-outliers-using-box-plot\n",
    "def drop_outliers(data , col):\n",
    "    Q1 = data['Age'].quantile(0.25)\n",
    "    Q3 = data['Age'].quantile(0.75)\n",
    "    IQR = Q3 - Q1    #IQR is interquartile range. \n",
    "\n",
    "    filter = (data['Age'] >= Q1 - 1.5 * IQR) & (data['Age'] <= Q3 + 1.5 *IQR) #filter filters out data within Q1 - 1.5*IQR to Q3 + 1.5*IQR\n",
    "    data = data.loc[filter]\n",
    "    return data"
   ]
  },
  {
   "cell_type": "code",
   "execution_count": null,
   "metadata": {
    "execution": {
     "iopub.execute_input": "2021-11-15T17:44:20.270021Z",
     "iopub.status.busy": "2021-11-15T17:44:20.269433Z",
     "iopub.status.idle": "2021-11-15T17:44:20.272063Z",
     "shell.execute_reply": "2021-11-15T17:44:20.272493Z",
     "shell.execute_reply.started": "2021-11-15T17:41:30.772037Z"
    },
    "papermill": {
     "duration": 0.112151,
     "end_time": "2021-11-15T17:44:20.272646",
     "exception": false,
     "start_time": "2021-11-15T17:44:20.160495",
     "status": "completed"
    },
    "tags": []
   },
   "outputs": [],
   "source": [
    "#data = drop_outliers(data , 'Age')\n",
    "#data"
   ]
  },
  {
   "cell_type": "markdown",
   "metadata": {
    "papermill": {
     "duration": 0.107844,
     "end_time": "2021-11-15T17:44:20.486940",
     "exception": false,
     "start_time": "2021-11-15T17:44:20.379096",
     "status": "completed"
    },
    "tags": []
   },
   "source": [
    "- We have 825 rows now that 66 rows containing age outliers were removed"
   ]
  },
  {
   "cell_type": "markdown",
   "metadata": {
    "papermill": {
     "duration": 0.107372,
     "end_time": "2021-11-15T17:44:20.701662",
     "exception": false,
     "start_time": "2021-11-15T17:44:20.594290",
     "status": "completed"
    },
    "tags": []
   },
   "source": [
    "## Sex of the surviors ?"
   ]
  },
  {
   "cell_type": "code",
   "execution_count": null,
   "metadata": {
    "execution": {
     "iopub.execute_input": "2021-11-15T17:44:20.920092Z",
     "iopub.status.busy": "2021-11-15T17:44:20.919441Z",
     "iopub.status.idle": "2021-11-15T17:44:21.187758Z",
     "shell.execute_reply": "2021-11-15T17:44:21.188261Z",
     "shell.execute_reply.started": "2021-11-15T17:41:30.783286Z"
    },
    "papermill": {
     "duration": 0.379858,
     "end_time": "2021-11-15T17:44:21.188447",
     "exception": false,
     "start_time": "2021-11-15T17:44:20.808589",
     "status": "completed"
    },
    "tags": []
   },
   "outputs": [],
   "source": [
    "#Stacked countplot : https://stackoverflow.com/questions/50319614/count-plot-with-stacked-bars-per-hue #Add percentages on stacked countplots : https://stackoverflow.com/questions/31749448/how-to-add-percentages-on-top-of-bars-in-seaborn\n",
    "sns.set(rc = {'figure.figsize':(15,8)})\n",
    "\n",
    "#Calculate the counts of categorical variable Survived for different age bins\n",
    "df_plot = data.groupby([ 'Survived', 'Sex']).size().reset_index().pivot(columns='Survived', index='Sex', values=0)\n",
    "print(df_plot)\n",
    "\n",
    "#Plot the stacked bar plot\n",
    "df_p = df_plot.plot(kind='bar', stacked=True)\n",
    "\n",
    "#Set labels\n",
    "df_p.set_xlabel(\"Sex\", fontsize = 20)\n",
    "df_p.set_ylabel(\"Count\", fontsize = 20)\n",
    "\n",
    "class_list = calculate_stacked_plot_percentages(df_plot, df_p)\n",
    "\n",
    "plot_stacked_plot_percentages(class_list, df_p, 0.2)"
   ]
  },
  {
   "cell_type": "markdown",
   "metadata": {
    "papermill": {
     "duration": 0.110001,
     "end_time": "2021-11-15T17:44:21.406685",
     "exception": false,
     "start_time": "2021-11-15T17:44:21.296684",
     "status": "completed"
    },
    "tags": []
   },
   "source": [
    "- From the above stacked plots, it is clear **more percentage of female passengers survived** i.e. 74.2 % while only 18.9 % of male passengers survived, even though more male passesngers were aboard"
   ]
  },
  {
   "cell_type": "code",
   "execution_count": null,
   "metadata": {
    "execution": {
     "iopub.execute_input": "2021-11-15T17:44:21.629073Z",
     "iopub.status.busy": "2021-11-15T17:44:21.628510Z",
     "iopub.status.idle": "2021-11-15T17:44:21.631934Z",
     "shell.execute_reply": "2021-11-15T17:44:21.631508Z",
     "shell.execute_reply.started": "2021-11-15T17:41:31.063246Z"
    },
    "papermill": {
     "duration": 0.115026,
     "end_time": "2021-11-15T17:44:21.632069",
     "exception": false,
     "start_time": "2021-11-15T17:44:21.517043",
     "status": "completed"
    },
    "tags": []
   },
   "outputs": [],
   "source": [
    "#data = drop_outliers(data , 'Sex')\n",
    "#data"
   ]
  },
  {
   "cell_type": "markdown",
   "metadata": {
    "papermill": {
     "duration": 0.108635,
     "end_time": "2021-11-15T17:44:21.848605",
     "exception": false,
     "start_time": "2021-11-15T17:44:21.739970",
     "status": "completed"
    },
    "tags": []
   },
   "source": [
    "## Fares of the survivors?"
   ]
  },
  {
   "cell_type": "code",
   "execution_count": null,
   "metadata": {
    "execution": {
     "iopub.execute_input": "2021-11-15T17:44:22.071008Z",
     "iopub.status.busy": "2021-11-15T17:44:22.070347Z",
     "iopub.status.idle": "2021-11-15T17:44:22.549822Z",
     "shell.execute_reply": "2021-11-15T17:44:22.550322Z",
     "shell.execute_reply.started": "2021-11-15T17:41:31.069959Z"
    },
    "papermill": {
     "duration": 0.592271,
     "end_time": "2021-11-15T17:44:22.550485",
     "exception": false,
     "start_time": "2021-11-15T17:44:21.958214",
     "status": "completed"
    },
    "tags": []
   },
   "outputs": [],
   "source": [
    "sns.set(rc = {'figure.figsize':(16,6)})\n",
    "plt.plot(figure_size = (1,2))\n",
    "\n",
    "#Boxplots\n",
    "plt.subplot(1,2,1)\n",
    "bp_ax = sns.boxplot(x = \"Survived\",y=\"Fare\", data = data)\n",
    "bp_ax.set_title('Box plot', fontsize = 20)\n",
    "\n",
    "#Density plots\n",
    "plt.subplot(1,2,2)\n",
    "dp_ax = sns.kdeplot(x = 'Fare', hue = 'Survived', data = data)\n",
    "dp_ax.set_title('Density plot', fontsize = 20)"
   ]
  },
  {
   "cell_type": "markdown",
   "metadata": {
    "papermill": {
     "duration": 0.110152,
     "end_time": "2021-11-15T17:44:22.771851",
     "exception": false,
     "start_time": "2021-11-15T17:44:22.661699",
     "status": "completed"
    },
    "tags": []
   },
   "source": [
    "- Distribution of fares of survivors clearly has a higher median value, hence **passengers who survived had higher average fares**\n",
    "- Lots of outliers in the distribution of both\n",
    "- A huge spike in the pdf of the people who didn't survive, or the probability that the person who didn't survive had a fare of ~10 units of currency is very high"
   ]
  },
  {
   "cell_type": "code",
   "execution_count": null,
   "metadata": {
    "execution": {
     "iopub.execute_input": "2021-11-15T17:44:22.997921Z",
     "iopub.status.busy": "2021-11-15T17:44:22.997316Z",
     "iopub.status.idle": "2021-11-15T17:44:22.999223Z",
     "shell.execute_reply": "2021-11-15T17:44:22.999739Z",
     "shell.execute_reply.started": "2021-11-15T17:41:31.561643Z"
    },
    "papermill": {
     "duration": 0.117106,
     "end_time": "2021-11-15T17:44:22.999923",
     "exception": false,
     "start_time": "2021-11-15T17:44:22.882817",
     "status": "completed"
    },
    "tags": []
   },
   "outputs": [],
   "source": [
    "#data = drop_outliers(data , 'Fare')\n",
    "#data"
   ]
  },
  {
   "cell_type": "markdown",
   "metadata": {
    "papermill": {
     "duration": 0.11021,
     "end_time": "2021-11-15T17:44:23.221905",
     "exception": false,
     "start_time": "2021-11-15T17:44:23.111695",
     "status": "completed"
    },
    "tags": []
   },
   "source": [
    "### Converting fares into categorical variables"
   ]
  },
  {
   "cell_type": "code",
   "execution_count": null,
   "metadata": {
    "execution": {
     "iopub.execute_input": "2021-11-15T17:44:23.446703Z",
     "iopub.status.busy": "2021-11-15T17:44:23.446094Z",
     "iopub.status.idle": "2021-11-15T17:44:23.454559Z",
     "shell.execute_reply": "2021-11-15T17:44:23.455022Z",
     "shell.execute_reply.started": "2021-11-15T17:41:31.565750Z"
    },
    "papermill": {
     "duration": 0.122293,
     "end_time": "2021-11-15T17:44:23.455206",
     "exception": false,
     "start_time": "2021-11-15T17:44:23.332913",
     "status": "completed"
    },
    "tags": []
   },
   "outputs": [],
   "source": [
    "def fares_categorical(data):\n",
    "    data['fare_bin'] = pd.cut(data['Fare'], 3, precision = 0)\n",
    "    return data\n",
    "\n",
    "data = fares_categorical(data)\n",
    "map_obj = {(-1.0, 171.0) : 0, (171.0, 342.0): 1,(342.0, 512.0):2}\n",
    "data['fare_bin'] = data['fare_bin'].map(lambda x: map_obj[(x.left, x.right)])"
   ]
  },
  {
   "cell_type": "code",
   "execution_count": null,
   "metadata": {
    "execution": {
     "iopub.execute_input": "2021-11-15T17:44:23.684227Z",
     "iopub.status.busy": "2021-11-15T17:44:23.683580Z",
     "iopub.status.idle": "2021-11-15T17:44:23.961680Z",
     "shell.execute_reply": "2021-11-15T17:44:23.962128Z",
     "shell.execute_reply.started": "2021-11-15T17:41:31.583766Z"
    },
    "papermill": {
     "duration": 0.393366,
     "end_time": "2021-11-15T17:44:23.962303",
     "exception": false,
     "start_time": "2021-11-15T17:44:23.568937",
     "status": "completed"
    },
    "tags": []
   },
   "outputs": [],
   "source": [
    "sns.set(rc = {'figure.figsize':(16,6)})\n",
    "plt.plot(figure_size = (1,2))\n",
    "\n",
    "#Boxplots\n",
    "plt.subplot(1,2,1)\n",
    "bp_ax = sns.boxplot(x = \"Survived\",y=\"fare_bin\", data = data)\n",
    "bp_ax.set_title('Box plot', fontsize = 20)\n",
    "\n",
    "#Density plots\n",
    "#plt.subplot(1,2,2)\n",
    "#dp_ax = sns.kdeplot(x = 'fare_bin', hue = 'Survived', data = data)\n",
    "#dp_ax.set_title('Density plot', fontsize = 20)"
   ]
  },
  {
   "cell_type": "markdown",
   "metadata": {
    "papermill": {
     "duration": 0.112992,
     "end_time": "2021-11-15T17:44:24.185926",
     "exception": false,
     "start_time": "2021-11-15T17:44:24.072934",
     "status": "completed"
    },
    "tags": []
   },
   "source": [
    "## Port embarked of survivors?"
   ]
  },
  {
   "cell_type": "code",
   "execution_count": null,
   "metadata": {
    "execution": {
     "iopub.execute_input": "2021-11-15T17:44:24.411114Z",
     "iopub.status.busy": "2021-11-15T17:44:24.410511Z",
     "iopub.status.idle": "2021-11-15T17:44:24.688673Z",
     "shell.execute_reply": "2021-11-15T17:44:24.689110Z",
     "shell.execute_reply.started": "2021-11-15T17:41:31.868306Z"
    },
    "papermill": {
     "duration": 0.393084,
     "end_time": "2021-11-15T17:44:24.689276",
     "exception": false,
     "start_time": "2021-11-15T17:44:24.296192",
     "status": "completed"
    },
    "tags": []
   },
   "outputs": [],
   "source": [
    "sns.set(rc = {'figure.figsize':(15,8)})\n",
    "\n",
    "#Calculate the counts of categorical variable Survived for different age bins\n",
    "df_plot = data.groupby([ 'Survived', 'Embarked']).size().reset_index().pivot(columns='Survived', index='Embarked', values=0)\n",
    "print(df_plot)\n",
    "\n",
    "#Plot the stacked bar plot\n",
    "df_p = df_plot.plot(kind='bar', stacked=True)\n",
    "\n",
    "#Set labels\n",
    "df_p.set_xlabel(\"Embarked\", fontsize = 20)\n",
    "df_p.set_ylabel(\"Count\", fontsize = 20)\n",
    "\n",
    "class_list = calculate_stacked_plot_percentages(df_plot, df_p)\n",
    "\n",
    "plot_stacked_plot_percentages(class_list, df_p, 0.2)"
   ]
  },
  {
   "cell_type": "markdown",
   "metadata": {
    "papermill": {
     "duration": 0.110931,
     "end_time": "2021-11-15T17:44:24.910978",
     "exception": false,
     "start_time": "2021-11-15T17:44:24.800047",
     "status": "completed"
    },
    "tags": []
   },
   "source": [
    "## Name of the survivors"
   ]
  },
  {
   "cell_type": "markdown",
   "metadata": {
    "papermill": {
     "duration": 0.114481,
     "end_time": "2021-11-15T17:44:25.136251",
     "exception": false,
     "start_time": "2021-11-15T17:44:25.021770",
     "status": "completed"
    },
    "tags": []
   },
   "source": [
    "### Name title"
   ]
  },
  {
   "cell_type": "code",
   "execution_count": null,
   "metadata": {
    "execution": {
     "iopub.execute_input": "2021-11-15T17:44:25.361877Z",
     "iopub.status.busy": "2021-11-15T17:44:25.361330Z",
     "iopub.status.idle": "2021-11-15T17:44:25.368087Z",
     "shell.execute_reply": "2021-11-15T17:44:25.368619Z",
     "shell.execute_reply.started": "2021-11-15T17:41:32.153473Z"
    },
    "papermill": {
     "duration": 0.12129,
     "end_time": "2021-11-15T17:44:25.368772",
     "exception": false,
     "start_time": "2021-11-15T17:44:25.247482",
     "status": "completed"
    },
    "tags": []
   },
   "outputs": [],
   "source": [
    "data['Name'].value_counts()"
   ]
  },
  {
   "cell_type": "code",
   "execution_count": null,
   "metadata": {
    "execution": {
     "iopub.execute_input": "2021-11-15T17:44:25.624933Z",
     "iopub.status.busy": "2021-11-15T17:44:25.624311Z",
     "iopub.status.idle": "2021-11-15T17:44:25.642634Z",
     "shell.execute_reply": "2021-11-15T17:44:25.643224Z",
     "shell.execute_reply.started": "2021-11-15T17:41:32.163556Z"
    },
    "papermill": {
     "duration": 0.143407,
     "end_time": "2021-11-15T17:44:25.643390",
     "exception": false,
     "start_time": "2021-11-15T17:44:25.499983",
     "status": "completed"
    },
    "tags": []
   },
   "outputs": [],
   "source": [
    "data_name_title_1 = data[data['Name'].str.contains('Miss')]['Name']\n",
    "data_name_title_2 = data[data['Name'].str.contains('Mrs')]['Name']\n",
    "data_name_title_3 = data[data['Name'].str.contains('Master')]['Name']\n",
    "data_name_title_4 = data[data['Name'].str.contains('Mr')]['Name']\n",
    "data_name_title_5 = data[~ (data['Name'].str.contains('Miss') | data['Name'].str.contains('Mrs') | data['Name'].str.contains('Mr') | data['Name'].str.contains('Master'))]['Name']"
   ]
  },
  {
   "cell_type": "code",
   "execution_count": null,
   "metadata": {
    "execution": {
     "iopub.execute_input": "2021-11-15T17:44:25.928756Z",
     "iopub.status.busy": "2021-11-15T17:44:25.927654Z",
     "iopub.status.idle": "2021-11-15T17:44:25.932097Z",
     "shell.execute_reply": "2021-11-15T17:44:25.932625Z",
     "shell.execute_reply.started": "2021-11-15T17:41:32.186326Z"
    },
    "papermill": {
     "duration": 0.123352,
     "end_time": "2021-11-15T17:44:25.932785",
     "exception": false,
     "start_time": "2021-11-15T17:44:25.809433",
     "status": "completed"
    },
    "tags": []
   },
   "outputs": [],
   "source": [
    "data_name_title_5.value_counts()"
   ]
  },
  {
   "cell_type": "code",
   "execution_count": null,
   "metadata": {
    "execution": {
     "iopub.execute_input": "2021-11-15T17:44:26.164138Z",
     "iopub.status.busy": "2021-11-15T17:44:26.163218Z",
     "iopub.status.idle": "2021-11-15T17:44:26.172444Z",
     "shell.execute_reply": "2021-11-15T17:44:26.172969Z",
     "shell.execute_reply.started": "2021-11-15T17:41:32.196302Z"
    },
    "papermill": {
     "duration": 0.126416,
     "end_time": "2021-11-15T17:44:26.173133",
     "exception": false,
     "start_time": "2021-11-15T17:44:26.046717",
     "status": "completed"
    },
    "tags": []
   },
   "outputs": [],
   "source": [
    "def name_encoding(data):\n",
    "    data['name_title'] = [np.nan for i in range(len(data))]\n",
    "\n",
    "    data_name_title_1 = data[data['Name'].str.contains('Miss')]['Name']\n",
    "    data_name_title_2 = data[data['Name'].str.contains('Mrs')]['Name']\n",
    "    data_name_title_3 = data[data['Name'].str.contains('Master')]['Name']\n",
    "    data_name_title_4 = data[data['Name'].str.contains('Mr')]['Name']\n",
    "    data_name_title_5 = data[~ (data['Name'].str.contains('Miss') | data['Name'].str.contains('Mrs') | data['Name'].str.contains('Mr') | data['Name'].str.contains('Master'))]['Name']\n",
    "    \n",
    "    for i in range(len(data)):\n",
    "        if data['Name'].iloc[i] in list(data_name_title_1):\n",
    "            data['name_title'].iloc[i] = 0\n",
    "        elif data['Name'].iloc[i] in list(data_name_title_2):\n",
    "            data['name_title'].iloc[i] = 1\n",
    "        elif data['Name'].iloc[i] in list(data_name_title_3):\n",
    "            data['name_title'].iloc[i] = 2\n",
    "        elif data['Name'].iloc[i] in list(data_name_title_4):\n",
    "            data['name_title'].iloc[i] = 3\n",
    "        elif data['Name'].iloc[i] in list(data_name_title_5):\n",
    "            data['name_title'].iloc[i] = 4\n",
    "        \n",
    "    return data"
   ]
  },
  {
   "cell_type": "code",
   "execution_count": null,
   "metadata": {
    "execution": {
     "iopub.execute_input": "2021-11-15T17:44:26.405521Z",
     "iopub.status.busy": "2021-11-15T17:44:26.404925Z",
     "iopub.status.idle": "2021-11-15T17:44:26.601932Z",
     "shell.execute_reply": "2021-11-15T17:44:26.601405Z",
     "shell.execute_reply.started": "2021-11-15T17:41:32.208492Z"
    },
    "papermill": {
     "duration": 0.314587,
     "end_time": "2021-11-15T17:44:26.602133",
     "exception": false,
     "start_time": "2021-11-15T17:44:26.287546",
     "status": "completed"
    },
    "tags": []
   },
   "outputs": [],
   "source": [
    "data = name_encoding(data)"
   ]
  },
  {
   "cell_type": "code",
   "execution_count": null,
   "metadata": {
    "execution": {
     "iopub.execute_input": "2021-11-15T17:44:26.834258Z",
     "iopub.status.busy": "2021-11-15T17:44:26.833654Z",
     "iopub.status.idle": "2021-11-15T17:44:26.838255Z",
     "shell.execute_reply": "2021-11-15T17:44:26.838757Z",
     "shell.execute_reply.started": "2021-11-15T17:41:32.424834Z"
    },
    "papermill": {
     "duration": 0.123476,
     "end_time": "2021-11-15T17:44:26.838929",
     "exception": false,
     "start_time": "2021-11-15T17:44:26.715453",
     "status": "completed"
    },
    "tags": []
   },
   "outputs": [],
   "source": [
    "data['name_title'].value_counts()"
   ]
  },
  {
   "cell_type": "code",
   "execution_count": null,
   "metadata": {
    "execution": {
     "iopub.execute_input": "2021-11-15T17:44:27.066440Z",
     "iopub.status.busy": "2021-11-15T17:44:27.065776Z",
     "iopub.status.idle": "2021-11-15T17:44:27.368959Z",
     "shell.execute_reply": "2021-11-15T17:44:27.369364Z",
     "shell.execute_reply.started": "2021-11-15T17:41:32.435598Z"
    },
    "papermill": {
     "duration": 0.418716,
     "end_time": "2021-11-15T17:44:27.369524",
     "exception": false,
     "start_time": "2021-11-15T17:44:26.950808",
     "status": "completed"
    },
    "tags": []
   },
   "outputs": [],
   "source": [
    "sns.set(rc = {'figure.figsize':(15,8)})\n",
    "\n",
    "#Calculate the counts of categorical variable Survived for different age bins\n",
    "df_plot = data.groupby([ 'Survived', 'name_title']).size().reset_index().pivot(columns='Survived', index='name_title', values=0)\n",
    "print(df_plot)\n",
    "\n",
    "#Plot the stacked bar plot\n",
    "df_p = df_plot.plot(kind='bar', stacked=True)\n",
    "\n",
    "#Set labels\n",
    "df_p.set_xlabel(\"name_title\", fontsize = 20)\n",
    "df_p.set_ylabel(\"Count\", fontsize = 20)\n",
    "\n",
    "class_list = calculate_stacked_plot_percentages(df_plot, df_p)\n",
    "\n",
    "plot_stacked_plot_percentages(class_list, df_p, 0.2)"
   ]
  },
  {
   "cell_type": "markdown",
   "metadata": {
    "papermill": {
     "duration": 0.11533,
     "end_time": "2021-11-15T17:44:27.598836",
     "exception": false,
     "start_time": "2021-11-15T17:44:27.483506",
     "status": "completed"
    },
    "tags": []
   },
   "source": [
    "### Name title (without m/f)"
   ]
  },
  {
   "cell_type": "code",
   "execution_count": null,
   "metadata": {
    "execution": {
     "iopub.execute_input": "2021-11-15T17:44:27.835251Z",
     "iopub.status.busy": "2021-11-15T17:44:27.834640Z",
     "iopub.status.idle": "2021-11-15T17:44:27.840549Z",
     "shell.execute_reply": "2021-11-15T17:44:27.841105Z",
     "shell.execute_reply.started": "2021-11-15T17:41:32.765870Z"
    },
    "papermill": {
     "duration": 0.129106,
     "end_time": "2021-11-15T17:44:27.841270",
     "exception": false,
     "start_time": "2021-11-15T17:44:27.712164",
     "status": "completed"
    },
    "tags": []
   },
   "outputs": [],
   "source": [
    "data_name_title_1 = data[data['Name'].str.contains('Miss') | data['Name'].str.contains('Mrs') | data['Name'].str.contains('Mr') | data['Name'].str.contains('Master')]['Name']\n",
    "data_name_title_2 = data[~ (data['Name'].str.contains('Miss') | data['Name'].str.contains('Mrs') | data['Name'].str.contains('Mr') | data['Name'].str.contains('Master'))]['Name']"
   ]
  },
  {
   "cell_type": "code",
   "execution_count": null,
   "metadata": {
    "execution": {
     "iopub.execute_input": "2021-11-15T17:44:28.075981Z",
     "iopub.status.busy": "2021-11-15T17:44:28.075371Z",
     "iopub.status.idle": "2021-11-15T17:44:28.081027Z",
     "shell.execute_reply": "2021-11-15T17:44:28.081472Z",
     "shell.execute_reply.started": "2021-11-15T17:41:32.783328Z"
    },
    "papermill": {
     "duration": 0.126224,
     "end_time": "2021-11-15T17:44:28.081627",
     "exception": false,
     "start_time": "2021-11-15T17:44:27.955403",
     "status": "completed"
    },
    "tags": []
   },
   "outputs": [],
   "source": [
    "data_name_title_2.value_counts()"
   ]
  },
  {
   "cell_type": "code",
   "execution_count": null,
   "metadata": {
    "execution": {
     "iopub.execute_input": "2021-11-15T17:44:28.318455Z",
     "iopub.status.busy": "2021-11-15T17:44:28.317725Z",
     "iopub.status.idle": "2021-11-15T17:44:28.320466Z",
     "shell.execute_reply": "2021-11-15T17:44:28.319874Z",
     "shell.execute_reply.started": "2021-11-15T17:41:32.799374Z"
    },
    "papermill": {
     "duration": 0.12468,
     "end_time": "2021-11-15T17:44:28.320605",
     "exception": false,
     "start_time": "2021-11-15T17:44:28.195925",
     "status": "completed"
    },
    "tags": []
   },
   "outputs": [],
   "source": [
    "def name_encoding_1(data):\n",
    "    data['name_title_1'] = [np.nan for i in range(len(data))]\n",
    "    data_name_title_1 = data[data['Name'].str.contains('Miss') | data['Name'].str.contains('Mrs') | data['Name'].str.contains('Mr') | data['Name'].str.contains('Master')]['Name']\n",
    "    data_name_title_2 = data[~ (data['Name'].str.contains('Miss') | data['Name'].str.contains('Mrs') | data['Name'].str.contains('Mr') | data['Name'].str.contains('Master'))]['Name']    \n",
    "    for i in range(len(data)):\n",
    "        if data['Name'].iloc[i] in list(data_name_title_1):\n",
    "            data['name_title_1'].iloc[i] = 0\n",
    "        elif data['Name'].iloc[i] in list(data_name_title_2):\n",
    "            data['name_title_1'].iloc[i] = 1\n",
    "        \n",
    "    return data"
   ]
  },
  {
   "cell_type": "code",
   "execution_count": null,
   "metadata": {
    "execution": {
     "iopub.execute_input": "2021-11-15T17:44:28.554648Z",
     "iopub.status.busy": "2021-11-15T17:44:28.554076Z",
     "iopub.status.idle": "2021-11-15T17:44:28.732935Z",
     "shell.execute_reply": "2021-11-15T17:44:28.733363Z",
     "shell.execute_reply.started": "2021-11-15T17:41:32.810463Z"
    },
    "papermill": {
     "duration": 0.298947,
     "end_time": "2021-11-15T17:44:28.733533",
     "exception": false,
     "start_time": "2021-11-15T17:44:28.434586",
     "status": "completed"
    },
    "tags": []
   },
   "outputs": [],
   "source": [
    "data = name_encoding_1(data)"
   ]
  },
  {
   "cell_type": "code",
   "execution_count": null,
   "metadata": {
    "execution": {
     "iopub.execute_input": "2021-11-15T17:44:28.967149Z",
     "iopub.status.busy": "2021-11-15T17:44:28.966489Z",
     "iopub.status.idle": "2021-11-15T17:44:29.445938Z",
     "shell.execute_reply": "2021-11-15T17:44:29.445443Z",
     "shell.execute_reply.started": "2021-11-15T17:41:33.016928Z"
    },
    "papermill": {
     "duration": 0.598063,
     "end_time": "2021-11-15T17:44:29.446084",
     "exception": false,
     "start_time": "2021-11-15T17:44:28.848021",
     "status": "completed"
    },
    "tags": []
   },
   "outputs": [],
   "source": [
    "sns.set(rc = {'figure.figsize':(16,6)})\n",
    "plt.plot(figure_size = (1,2))\n",
    "\n",
    "#Boxplots\n",
    "plt.subplot(1,2,1)\n",
    "bp_ax = sns.boxplot(x = \"Survived\",y=\"name_title_1\", data = data)\n",
    "bp_ax.set_title('Box plot', fontsize = 20)\n",
    "\n",
    "#Density plots\n",
    "plt.subplot(1,2,2)\n",
    "dp_ax = sns.kdeplot(x = 'name_title_1', hue = 'Survived', data = data)\n",
    "dp_ax.set_title('Density plot', fontsize = 20)"
   ]
  },
  {
   "cell_type": "markdown",
   "metadata": {
    "papermill": {
     "duration": 0.120345,
     "end_time": "2021-11-15T17:44:29.686002",
     "exception": false,
     "start_time": "2021-11-15T17:44:29.565657",
     "status": "completed"
    },
    "tags": []
   },
   "source": [
    "### Name length"
   ]
  },
  {
   "cell_type": "code",
   "execution_count": null,
   "metadata": {
    "execution": {
     "iopub.execute_input": "2021-11-15T17:44:29.925058Z",
     "iopub.status.busy": "2021-11-15T17:44:29.924447Z",
     "iopub.status.idle": "2021-11-15T17:44:29.929322Z",
     "shell.execute_reply": "2021-11-15T17:44:29.929777Z",
     "shell.execute_reply.started": "2021-11-15T17:41:33.472869Z"
    },
    "papermill": {
     "duration": 0.125385,
     "end_time": "2021-11-15T17:44:29.929951",
     "exception": false,
     "start_time": "2021-11-15T17:44:29.804566",
     "status": "completed"
    },
    "tags": []
   },
   "outputs": [],
   "source": [
    "data['name_length'] = data['Name'].map(lambda x: len(str(x)))"
   ]
  },
  {
   "cell_type": "code",
   "execution_count": null,
   "metadata": {
    "execution": {
     "iopub.execute_input": "2021-11-15T17:44:30.165818Z",
     "iopub.status.busy": "2021-11-15T17:44:30.165233Z",
     "iopub.status.idle": "2021-11-15T17:44:30.770616Z",
     "shell.execute_reply": "2021-11-15T17:44:30.770156Z",
     "shell.execute_reply.started": "2021-11-15T17:41:33.481431Z"
    },
    "papermill": {
     "duration": 0.725026,
     "end_time": "2021-11-15T17:44:30.770762",
     "exception": false,
     "start_time": "2021-11-15T17:44:30.045736",
     "status": "completed"
    },
    "tags": []
   },
   "outputs": [],
   "source": [
    "sns.set(rc = {'figure.figsize':(16,6)})\n",
    "plt.plot(figure_size = (1,2))\n",
    "\n",
    "#Boxplots\n",
    "plt.subplot(1,2,1)\n",
    "bp_ax = sns.boxplot(x = \"Survived\",y=\"name_length\", data = data)\n",
    "bp_ax.set_title('Box plot', fontsize = 20)\n",
    "\n",
    "#Density plots\n",
    "plt.subplot(1,2,2)\n",
    "dp_ax = sns.kdeplot(x = 'name_length', hue = 'Survived', data = data)\n",
    "dp_ax.set_title('Density plot', fontsize = 20)"
   ]
  },
  {
   "cell_type": "code",
   "execution_count": null,
   "metadata": {
    "execution": {
     "iopub.execute_input": "2021-11-15T17:44:31.013652Z",
     "iopub.status.busy": "2021-11-15T17:44:31.013107Z",
     "iopub.status.idle": "2021-11-15T17:44:31.016317Z",
     "shell.execute_reply": "2021-11-15T17:44:31.016741Z",
     "shell.execute_reply.started": "2021-11-15T17:41:33.937795Z"
    },
    "papermill": {
     "duration": 0.127756,
     "end_time": "2021-11-15T17:44:31.016927",
     "exception": false,
     "start_time": "2021-11-15T17:44:30.889171",
     "status": "completed"
    },
    "tags": []
   },
   "outputs": [],
   "source": [
    "def name_length_categorical(data):\n",
    "    data['name_length_bin'] = pd.cut(data['name_length'], 3, precision = 0)\n",
    "    return data"
   ]
  },
  {
   "cell_type": "code",
   "execution_count": null,
   "metadata": {
    "execution": {
     "iopub.execute_input": "2021-11-15T17:44:31.258108Z",
     "iopub.status.busy": "2021-11-15T17:44:31.257500Z",
     "iopub.status.idle": "2021-11-15T17:44:31.267685Z",
     "shell.execute_reply": "2021-11-15T17:44:31.268230Z",
     "shell.execute_reply.started": "2021-11-15T17:41:33.943142Z"
    },
    "papermill": {
     "duration": 0.131172,
     "end_time": "2021-11-15T17:44:31.268392",
     "exception": false,
     "start_time": "2021-11-15T17:44:31.137220",
     "status": "completed"
    },
    "tags": []
   },
   "outputs": [],
   "source": [
    "data = name_length_categorical(data)\n",
    "data['name_length_bin'].value_counts().keys()[1]"
   ]
  },
  {
   "cell_type": "code",
   "execution_count": null,
   "metadata": {
    "execution": {
     "iopub.execute_input": "2021-11-15T17:44:31.507701Z",
     "iopub.status.busy": "2021-11-15T17:44:31.507123Z",
     "iopub.status.idle": "2021-11-15T17:44:31.521979Z",
     "shell.execute_reply": "2021-11-15T17:44:31.521488Z",
     "shell.execute_reply.started": "2021-11-15T17:41:33.965412Z"
    },
    "papermill": {
     "duration": 0.136213,
     "end_time": "2021-11-15T17:44:31.522119",
     "exception": false,
     "start_time": "2021-11-15T17:44:31.385906",
     "status": "completed"
    },
    "tags": []
   },
   "outputs": [],
   "source": [
    "map_obj = {(data['name_length_bin'].value_counts().keys()[0].left, data['name_length_bin'].value_counts().keys()[0].right) : 0, (data['name_length_bin'].value_counts().keys()[1].left, data['name_length_bin'].value_counts().keys()[1].right): 1,(data['name_length_bin'].value_counts().keys()[2].left, data['name_length_bin'].value_counts().keys()[2].right):2}\n",
    "data['name_length_bin'] = data['name_length_bin'].map(lambda x: map_obj[(x.left, x.right)])"
   ]
  },
  {
   "cell_type": "markdown",
   "metadata": {
    "papermill": {
     "duration": 0.117898,
     "end_time": "2021-11-15T17:44:31.758021",
     "exception": false,
     "start_time": "2021-11-15T17:44:31.640123",
     "status": "completed"
    },
    "tags": []
   },
   "source": [
    "### Name vectorizer"
   ]
  },
  {
   "cell_type": "code",
   "execution_count": null,
   "metadata": {
    "execution": {
     "iopub.execute_input": "2021-11-15T17:44:32.050806Z",
     "iopub.status.busy": "2021-11-15T17:44:32.049867Z",
     "iopub.status.idle": "2021-11-15T17:44:32.069490Z",
     "shell.execute_reply": "2021-11-15T17:44:32.070013Z",
     "shell.execute_reply.started": "2021-11-15T17:41:33.981240Z"
    },
    "papermill": {
     "duration": 0.194291,
     "end_time": "2021-11-15T17:44:32.070190",
     "exception": false,
     "start_time": "2021-11-15T17:44:31.875899",
     "status": "completed"
    },
    "tags": []
   },
   "outputs": [],
   "source": [
    "from sklearn.feature_extraction.text import CountVectorizer\n",
    "'''\n",
    "vectorizer = CountVectorizer()\n",
    "X1 = vectorizer.fit_transform(data['Name'])\n",
    "data_name_vectorized = pd.DataFrame(data['Name'].map(lambda x : X1.toarray()[list(data['Name']).index(x)]))'''"
   ]
  },
  {
   "cell_type": "code",
   "execution_count": null,
   "metadata": {
    "execution": {
     "iopub.execute_input": "2021-11-15T17:44:32.312147Z",
     "iopub.status.busy": "2021-11-15T17:44:32.311514Z",
     "iopub.status.idle": "2021-11-15T17:44:32.326919Z",
     "shell.execute_reply": "2021-11-15T17:44:32.327381Z",
     "shell.execute_reply.started": "2021-11-15T17:41:33.987118Z"
    },
    "papermill": {
     "duration": 0.136886,
     "end_time": "2021-11-15T17:44:32.327540",
     "exception": false,
     "start_time": "2021-11-15T17:44:32.190654",
     "status": "completed"
    },
    "tags": []
   },
   "outputs": [],
   "source": [
    "test = pd.read_csv('../input/titanic/test.csv')\n",
    "test_name = test['Name']\n",
    "name_list = pd.concat([test_name, data['Name']], axis = 0)"
   ]
  },
  {
   "cell_type": "code",
   "execution_count": null,
   "metadata": {
    "execution": {
     "iopub.execute_input": "2021-11-15T17:44:32.567708Z",
     "iopub.status.busy": "2021-11-15T17:44:32.567115Z",
     "iopub.status.idle": "2021-11-15T17:44:32.585236Z",
     "shell.execute_reply": "2021-11-15T17:44:32.585722Z",
     "shell.execute_reply.started": "2021-11-15T17:41:34.007043Z"
    },
    "papermill": {
     "duration": 0.140651,
     "end_time": "2021-11-15T17:44:32.585903",
     "exception": false,
     "start_time": "2021-11-15T17:44:32.445252",
     "status": "completed"
    },
    "tags": []
   },
   "outputs": [],
   "source": [
    "#Reference : https://www.kaggle.com/slythe/infamous-titanic-80-accuracy\n",
    "vectorizer = CountVectorizer()\n",
    "name_v = vectorizer.fit(name_list)"
   ]
  },
  {
   "cell_type": "code",
   "execution_count": null,
   "metadata": {
    "execution": {
     "iopub.execute_input": "2021-11-15T17:44:32.824706Z",
     "iopub.status.busy": "2021-11-15T17:44:32.824169Z",
     "iopub.status.idle": "2021-11-15T17:44:32.828213Z",
     "shell.execute_reply": "2021-11-15T17:44:32.828723Z",
     "shell.execute_reply.started": "2021-11-15T17:41:34.024882Z"
    },
    "papermill": {
     "duration": 0.124427,
     "end_time": "2021-11-15T17:44:32.828875",
     "exception": false,
     "start_time": "2021-11-15T17:44:32.704448",
     "status": "completed"
    },
    "tags": []
   },
   "outputs": [],
   "source": [
    "def name_vectorizer(data):\n",
    "    if 'Name' in data.columns:\n",
    "        #data['name_vectorized'] = data['Name'].map(lambda x : X1.toarray()[list(data['Name']).index(x)].sum())\n",
    "        name_v = vectorizer.transform(data[\"Name\"])\n",
    "        name_vector_df = pd.DataFrame(data = name_v.todense(), columns = vectorizer.get_feature_names())\n",
    "        data = pd.concat([data,name_vector_df], axis =1 )\n",
    "    return data"
   ]
  },
  {
   "cell_type": "code",
   "execution_count": null,
   "metadata": {
    "execution": {
     "iopub.execute_input": "2021-11-15T17:44:33.070109Z",
     "iopub.status.busy": "2021-11-15T17:44:33.069452Z",
     "iopub.status.idle": "2021-11-15T17:44:33.072083Z",
     "shell.execute_reply": "2021-11-15T17:44:33.072525Z",
     "shell.execute_reply.started": "2021-11-15T17:41:34.033236Z"
    },
    "papermill": {
     "duration": 0.124728,
     "end_time": "2021-11-15T17:44:33.072681",
     "exception": false,
     "start_time": "2021-11-15T17:44:32.947953",
     "status": "completed"
    },
    "tags": []
   },
   "outputs": [],
   "source": [
    "#data = name_vectorizer(data)"
   ]
  },
  {
   "cell_type": "code",
   "execution_count": null,
   "metadata": {
    "execution": {
     "iopub.execute_input": "2021-11-15T17:44:33.315124Z",
     "iopub.status.busy": "2021-11-15T17:44:33.314478Z",
     "iopub.status.idle": "2021-11-15T17:44:33.340391Z",
     "shell.execute_reply": "2021-11-15T17:44:33.339948Z",
     "shell.execute_reply.started": "2021-11-15T17:41:34.043367Z"
    },
    "papermill": {
     "duration": 0.148351,
     "end_time": "2021-11-15T17:44:33.340535",
     "exception": false,
     "start_time": "2021-11-15T17:44:33.192184",
     "status": "completed"
    },
    "tags": []
   },
   "outputs": [],
   "source": [
    "data"
   ]
  },
  {
   "cell_type": "code",
   "execution_count": null,
   "metadata": {
    "execution": {
     "iopub.execute_input": "2021-11-15T17:44:33.583416Z",
     "iopub.status.busy": "2021-11-15T17:44:33.582743Z",
     "iopub.status.idle": "2021-11-15T17:44:33.587144Z",
     "shell.execute_reply": "2021-11-15T17:44:33.587582Z",
     "shell.execute_reply.started": "2021-11-15T17:41:34.079360Z"
    },
    "papermill": {
     "duration": 0.127522,
     "end_time": "2021-11-15T17:44:33.587735",
     "exception": false,
     "start_time": "2021-11-15T17:44:33.460213",
     "status": "completed"
    },
    "tags": []
   },
   "outputs": [],
   "source": [
    "'''sns.set(rc = {'figure.figsize':(16,6)})\n",
    "plt.plot(figure_size = (1,2))\n",
    "\n",
    "#Boxplots\n",
    "plt.subplot(1,2,1)\n",
    "bp_ax = sns.boxplot(x = \"Survived\",y=\"name_vectorized\", data = data)\n",
    "bp_ax.set_title('Box plot', fontsize = 20)\n",
    "\n",
    "#Density plots\n",
    "plt.subplot(1,2,2)\n",
    "dp_ax = sns.kdeplot(x = 'name_vectorized', hue = 'Survived', data = data)\n",
    "dp_ax.set_title('Density plot', fontsize = 20)'''"
   ]
  },
  {
   "cell_type": "markdown",
   "metadata": {
    "papermill": {
     "duration": 0.119834,
     "end_time": "2021-11-15T17:44:33.827368",
     "exception": false,
     "start_time": "2021-11-15T17:44:33.707534",
     "status": "completed"
    },
    "tags": []
   },
   "source": [
    "## Letter of surname"
   ]
  },
  {
   "cell_type": "code",
   "execution_count": null,
   "metadata": {
    "execution": {
     "iopub.execute_input": "2021-11-15T17:44:34.067162Z",
     "iopub.status.busy": "2021-11-15T17:44:34.066580Z",
     "iopub.status.idle": "2021-11-15T17:44:34.073299Z",
     "shell.execute_reply": "2021-11-15T17:44:34.073738Z",
     "shell.execute_reply.started": "2021-11-15T17:41:34.090463Z"
    },
    "papermill": {
     "duration": 0.128254,
     "end_time": "2021-11-15T17:44:34.073912",
     "exception": false,
     "start_time": "2021-11-15T17:44:33.945658",
     "status": "completed"
    },
    "tags": []
   },
   "outputs": [],
   "source": [
    "data['Name'].value_counts()"
   ]
  },
  {
   "cell_type": "code",
   "execution_count": null,
   "metadata": {
    "execution": {
     "iopub.execute_input": "2021-11-15T17:44:34.314600Z",
     "iopub.status.busy": "2021-11-15T17:44:34.313878Z",
     "iopub.status.idle": "2021-11-15T17:44:34.333301Z",
     "shell.execute_reply": "2021-11-15T17:44:34.333720Z",
     "shell.execute_reply.started": "2021-11-15T17:41:34.106153Z"
    },
    "papermill": {
     "duration": 0.141421,
     "end_time": "2021-11-15T17:44:34.333913",
     "exception": false,
     "start_time": "2021-11-15T17:44:34.192492",
     "status": "completed"
    },
    "tags": []
   },
   "outputs": [],
   "source": [
    "highest = {}\n",
    "for letter in [\"A\",\"B\",\"C\",\"D\",\"E\",\"F\",\"G\",\"H\",\"I\",\"J\",\"K\",\"L\",\"M\",\"N\",\"O\",\"P\",\"Q\",\"R\",\"S\",\"T\",\"U\",\"V\",\"W\",\"X\",\"Y\",\"Z\"]:\n",
    "    data_name_1 = data['Name'][data['Name'].str.startswith(letter)]\n",
    "    highest[letter] = len(data_name_1)"
   ]
  },
  {
   "cell_type": "code",
   "execution_count": null,
   "metadata": {
    "execution": {
     "iopub.execute_input": "2021-11-15T17:44:34.577582Z",
     "iopub.status.busy": "2021-11-15T17:44:34.577016Z",
     "iopub.status.idle": "2021-11-15T17:44:34.582409Z",
     "shell.execute_reply": "2021-11-15T17:44:34.582812Z",
     "shell.execute_reply.started": "2021-11-15T17:41:34.133479Z"
    },
    "papermill": {
     "duration": 0.128318,
     "end_time": "2021-11-15T17:44:34.583125",
     "exception": false,
     "start_time": "2021-11-15T17:44:34.454807",
     "status": "completed"
    },
    "tags": []
   },
   "outputs": [],
   "source": [
    "highest = sorted(highest.items(), key = lambda x:x[1], reverse = True)\n",
    "print('Maximum occurence of letters in surname beginning :',highest[:5])"
   ]
  },
  {
   "cell_type": "code",
   "execution_count": null,
   "metadata": {
    "execution": {
     "iopub.execute_input": "2021-11-15T17:44:34.829804Z",
     "iopub.status.busy": "2021-11-15T17:44:34.829227Z",
     "iopub.status.idle": "2021-11-15T17:44:34.834192Z",
     "shell.execute_reply": "2021-11-15T17:44:34.833596Z",
     "shell.execute_reply.started": "2021-11-15T17:41:34.140490Z"
    },
    "papermill": {
     "duration": 0.131855,
     "end_time": "2021-11-15T17:44:34.834329",
     "exception": false,
     "start_time": "2021-11-15T17:44:34.702474",
     "status": "completed"
    },
    "tags": []
   },
   "outputs": [],
   "source": [
    "def surname_encoding(data):\n",
    "    data['surname'] = [np.nan for i in range(len(data))]\n",
    "    \n",
    "    data_surname_1 = data['Name'][data['Name'].str.startswith(\"S\")]\n",
    "    data_surname_2 = data['Name'][data['Name'].str.startswith(\"M\")]\n",
    "    data_surname_3 = data['Name'][data['Name'].str.startswith(\"B\")]\n",
    "    data_surname_4 = data['Name'][data['Name'].str.startswith(\"C\")]\n",
    "    data_surname_5 = data['Name'][data['Name'].str.startswith(\"H\")]\n",
    "    data_surname_6 = data['Name'][~ (data['Name'].str.startswith(\"S\") | data['Name'].str.startswith(\"M\") | data['Name'].str.startswith(\"B\")| data['Name'].str.startswith(\"C\")| data['Name'].str.startswith(\"H\"))]\n",
    "    \n",
    "    for i in range(len(data)):\n",
    "        if data['Name'].iloc[i] in list(data_surname_1):\n",
    "            data['surname'].iloc[i] = 0\n",
    "        elif data['Name'].iloc[i] in list(data_surname_2):\n",
    "            data['surname'].iloc[i] = 1\n",
    "        elif data['Name'].iloc[i] in list(data_surname_3):\n",
    "            data['surname'].iloc[i] = 2\n",
    "        elif data['Name'].iloc[i] in list(data_surname_4):\n",
    "            data['surname'].iloc[i] = 3\n",
    "        elif data['Name'].iloc[i] in list(data_surname_5):\n",
    "            data['surname'].iloc[i] = 4\n",
    "        elif data['Name'].iloc[i] in list(data_surname_6):\n",
    "            data['surname'].iloc[i] = 5\n",
    "\n",
    "        \n",
    "    return data"
   ]
  },
  {
   "cell_type": "code",
   "execution_count": null,
   "metadata": {
    "execution": {
     "iopub.execute_input": "2021-11-15T17:44:35.077401Z",
     "iopub.status.busy": "2021-11-15T17:44:35.076820Z",
     "iopub.status.idle": "2021-11-15T17:44:35.283662Z",
     "shell.execute_reply": "2021-11-15T17:44:35.283013Z",
     "shell.execute_reply.started": "2021-11-15T17:41:34.153762Z"
    },
    "papermill": {
     "duration": 0.329369,
     "end_time": "2021-11-15T17:44:35.283795",
     "exception": false,
     "start_time": "2021-11-15T17:44:34.954426",
     "status": "completed"
    },
    "tags": []
   },
   "outputs": [],
   "source": [
    "data = surname_encoding(data)"
   ]
  },
  {
   "cell_type": "code",
   "execution_count": null,
   "metadata": {
    "execution": {
     "iopub.execute_input": "2021-11-15T17:44:35.533419Z",
     "iopub.status.busy": "2021-11-15T17:44:35.532805Z",
     "iopub.status.idle": "2021-11-15T17:44:35.988594Z",
     "shell.execute_reply": "2021-11-15T17:44:35.989130Z",
     "shell.execute_reply.started": "2021-11-15T17:41:34.382743Z"
    },
    "papermill": {
     "duration": 0.585947,
     "end_time": "2021-11-15T17:44:35.989412",
     "exception": false,
     "start_time": "2021-11-15T17:44:35.403465",
     "status": "completed"
    },
    "tags": []
   },
   "outputs": [],
   "source": [
    "sns.set(rc = {'figure.figsize':(16,6)})\n",
    "plt.plot(figure_size = (1,2))\n",
    "\n",
    "#Boxplots\n",
    "plt.subplot(1,2,1)\n",
    "bp_ax = sns.boxplot(x = \"Survived\",y=\"surname\", data = data)\n",
    "bp_ax.set_title('Box plot', fontsize = 20)\n",
    "\n",
    "#Density plots\n",
    "plt.subplot(1,2,2)\n",
    "dp_ax = sns.kdeplot(x = 'surname', hue = 'Survived', data = data)\n",
    "dp_ax.set_title('Density plot', fontsize = 20)"
   ]
  },
  {
   "cell_type": "markdown",
   "metadata": {
    "papermill": {
     "duration": 0.120619,
     "end_time": "2021-11-15T17:44:36.234114",
     "exception": false,
     "start_time": "2021-11-15T17:44:36.113495",
     "status": "completed"
    },
    "tags": []
   },
   "source": [
    "## Tickets of survivors?"
   ]
  },
  {
   "cell_type": "code",
   "execution_count": null,
   "metadata": {
    "execution": {
     "iopub.execute_input": "2021-11-15T17:44:36.480981Z",
     "iopub.status.busy": "2021-11-15T17:44:36.480369Z",
     "iopub.status.idle": "2021-11-15T17:44:36.486311Z",
     "shell.execute_reply": "2021-11-15T17:44:36.486703Z",
     "shell.execute_reply.started": "2021-11-15T17:41:34.837241Z"
    },
    "papermill": {
     "duration": 0.131265,
     "end_time": "2021-11-15T17:44:36.486865",
     "exception": false,
     "start_time": "2021-11-15T17:44:36.355600",
     "status": "completed"
    },
    "tags": []
   },
   "outputs": [],
   "source": [
    "data['Ticket'].value_counts()"
   ]
  },
  {
   "cell_type": "markdown",
   "metadata": {
    "papermill": {
     "duration": 0.120198,
     "end_time": "2021-11-15T17:44:36.729193",
     "exception": false,
     "start_time": "2021-11-15T17:44:36.608995",
     "status": "completed"
    },
    "tags": []
   },
   "source": [
    "- There are a total of 681 different ticket types.\n",
    "- For starters, lets try to form categories based on the the presence of a digit in the string"
   ]
  },
  {
   "cell_type": "code",
   "execution_count": null,
   "metadata": {
    "execution": {
     "iopub.execute_input": "2021-11-15T17:44:36.979656Z",
     "iopub.status.busy": "2021-11-15T17:44:36.979074Z",
     "iopub.status.idle": "2021-11-15T17:44:36.986108Z",
     "shell.execute_reply": "2021-11-15T17:44:36.985381Z",
     "shell.execute_reply.started": "2021-11-15T17:41:34.849467Z"
    },
    "papermill": {
     "duration": 0.135313,
     "end_time": "2021-11-15T17:44:36.986287",
     "exception": false,
     "start_time": "2021-11-15T17:44:36.850974",
     "status": "completed"
    },
    "tags": []
   },
   "outputs": [],
   "source": [
    "data_ticket_1 = data[data['Ticket'].str.isdigit() == True]['Ticket']\n",
    "print(data_ticket_1)"
   ]
  },
  {
   "cell_type": "markdown",
   "metadata": {
    "papermill": {
     "duration": 0.122492,
     "end_time": "2021-11-15T17:44:37.232200",
     "exception": false,
     "start_time": "2021-11-15T17:44:37.109708",
     "status": "completed"
    },
    "tags": []
   },
   "source": [
    "- There are 661 tickets that contain only numbers"
   ]
  },
  {
   "cell_type": "code",
   "execution_count": null,
   "metadata": {
    "execution": {
     "iopub.execute_input": "2021-11-15T17:44:37.482738Z",
     "iopub.status.busy": "2021-11-15T17:44:37.481806Z",
     "iopub.status.idle": "2021-11-15T17:44:37.490745Z",
     "shell.execute_reply": "2021-11-15T17:44:37.490108Z",
     "shell.execute_reply.started": "2021-11-15T17:41:34.863911Z"
    },
    "papermill": {
     "duration": 0.136658,
     "end_time": "2021-11-15T17:44:37.490908",
     "exception": false,
     "start_time": "2021-11-15T17:44:37.354250",
     "status": "completed"
    },
    "tags": []
   },
   "outputs": [],
   "source": [
    "data_ticket_2 = data[data['Ticket'].str.isdigit() == False]['Ticket']\n",
    "print(data_ticket_2.value_counts())"
   ]
  },
  {
   "cell_type": "markdown",
   "metadata": {
    "papermill": {
     "duration": 0.126388,
     "end_time": "2021-11-15T17:44:37.740298",
     "exception": false,
     "start_time": "2021-11-15T17:44:37.613910",
     "status": "completed"
    },
    "tags": []
   },
   "source": [
    "- There are 167 tickets that contain a string plus numbers. For these, we categorise them based on the letter the ticket name starts with, namely 'C', 'P' and 'S' since these are the most common"
   ]
  },
  {
   "cell_type": "code",
   "execution_count": null,
   "metadata": {
    "execution": {
     "iopub.execute_input": "2021-11-15T17:44:37.992521Z",
     "iopub.status.busy": "2021-11-15T17:44:37.991878Z",
     "iopub.status.idle": "2021-11-15T17:44:37.998870Z",
     "shell.execute_reply": "2021-11-15T17:44:37.998447Z",
     "shell.execute_reply.started": "2021-11-15T17:41:34.875231Z"
    },
    "papermill": {
     "duration": 0.135828,
     "end_time": "2021-11-15T17:44:37.999029",
     "exception": false,
     "start_time": "2021-11-15T17:44:37.863201",
     "status": "completed"
    },
    "tags": []
   },
   "outputs": [],
   "source": [
    "data_ticket_2_1 = data_ticket_2[data_ticket_2.str.startswith(\"C\")]\n",
    "print(data_ticket_2_1, len(data_ticket_2_1))"
   ]
  },
  {
   "cell_type": "code",
   "execution_count": null,
   "metadata": {
    "execution": {
     "iopub.execute_input": "2021-11-15T17:44:38.252673Z",
     "iopub.status.busy": "2021-11-15T17:44:38.249246Z",
     "iopub.status.idle": "2021-11-15T17:44:38.256572Z",
     "shell.execute_reply": "2021-11-15T17:44:38.257059Z",
     "shell.execute_reply.started": "2021-11-15T17:41:34.888918Z"
    },
    "papermill": {
     "duration": 0.133683,
     "end_time": "2021-11-15T17:44:38.257224",
     "exception": false,
     "start_time": "2021-11-15T17:44:38.123541",
     "status": "completed"
    },
    "tags": []
   },
   "outputs": [],
   "source": [
    "data_ticket_2_2 = data_ticket_2[data_ticket_2.str.startswith(\"S\")]\n",
    "print(data_ticket_2_2, len(data_ticket_2_2))"
   ]
  },
  {
   "cell_type": "code",
   "execution_count": null,
   "metadata": {
    "execution": {
     "iopub.execute_input": "2021-11-15T17:44:38.509299Z",
     "iopub.status.busy": "2021-11-15T17:44:38.508455Z",
     "iopub.status.idle": "2021-11-15T17:44:38.511612Z",
     "shell.execute_reply": "2021-11-15T17:44:38.512158Z",
     "shell.execute_reply.started": "2021-11-15T17:41:34.904150Z"
    },
    "papermill": {
     "duration": 0.132587,
     "end_time": "2021-11-15T17:44:38.512317",
     "exception": false,
     "start_time": "2021-11-15T17:44:38.379730",
     "status": "completed"
    },
    "tags": []
   },
   "outputs": [],
   "source": [
    "data_ticket_2_3 = data_ticket_2[data_ticket_2.str.startswith(\"P\")]\n",
    "print(data_ticket_2_3, len(data_ticket_2_3))"
   ]
  },
  {
   "cell_type": "code",
   "execution_count": null,
   "metadata": {
    "execution": {
     "iopub.execute_input": "2021-11-15T17:44:38.761048Z",
     "iopub.status.busy": "2021-11-15T17:44:38.760166Z",
     "iopub.status.idle": "2021-11-15T17:44:38.767871Z",
     "shell.execute_reply": "2021-11-15T17:44:38.768318Z",
     "shell.execute_reply.started": "2021-11-15T17:41:34.919023Z"
    },
    "papermill": {
     "duration": 0.133354,
     "end_time": "2021-11-15T17:44:38.768478",
     "exception": false,
     "start_time": "2021-11-15T17:44:38.635124",
     "status": "completed"
    },
    "tags": []
   },
   "outputs": [],
   "source": [
    "data_ticket_2_4 = data_ticket_2[~ (data_ticket_2.str.startswith(\"C\") | data_ticket_2.str.startswith(\"S\") | data_ticket_2.str.startswith(\"P\"))]\n",
    "print(data_ticket_2_4, len(data_ticket_2_4))"
   ]
  },
  {
   "cell_type": "code",
   "execution_count": null,
   "metadata": {
    "execution": {
     "iopub.execute_input": "2021-11-15T17:44:39.018321Z",
     "iopub.status.busy": "2021-11-15T17:44:39.017690Z",
     "iopub.status.idle": "2021-11-15T17:44:39.023446Z",
     "shell.execute_reply": "2021-11-15T17:44:39.023919Z",
     "shell.execute_reply.started": "2021-11-15T17:41:34.930486Z"
    },
    "papermill": {
     "duration": 0.132677,
     "end_time": "2021-11-15T17:44:39.024075",
     "exception": false,
     "start_time": "2021-11-15T17:44:38.891398",
     "status": "completed"
    },
    "tags": []
   },
   "outputs": [],
   "source": [
    "def ticket_bin_encoding(data):\n",
    "    data['ticket_bin'] = [np.nan for i in range(len(data))]\n",
    "    \n",
    "    data_ticket_1 = data[data['Ticket'].str.isdigit() == True]['Ticket']\n",
    "    data_ticket_2 = data[data['Ticket'].str.isdigit() == False]['Ticket']\n",
    "    #data_ticket_2_1 = data_ticket_2[data_ticket_2.str.startswith(\"C\")]\n",
    "    #data_ticket_2_2 = data_ticket_2[data_ticket_2.str.startswith(\"P\")]\n",
    "    #data_ticket_2_3 = data_ticket_2[data_ticket_2.str.startswith(\"S\")]\n",
    "    #data_ticket_2_4 = data_ticket_2[~ (data_ticket_2.str.startswith(\"C\") | data_ticket_2.str.startswith(\"S\") | data_ticket_2.str.startswith(\"P\"))]\n",
    "    \n",
    "    for i in range(len(data)):\n",
    "        if data['Ticket'].iloc[i] in list(data_ticket_1):\n",
    "            data['ticket_bin'].iloc[i] = 0\n",
    "        elif data['Ticket'].iloc[i] in list(data_ticket_2):\n",
    "            data['ticket_bin'].iloc[i] = 1\n",
    "        #elif data['Ticket'].iloc[i] in list(data_ticket_2_1):\n",
    "        #    data['ticket_bin'].iloc[i] = 1\n",
    "        #elif data['Ticket'].iloc[i] in list(data_ticket_2_2):\n",
    "        #    data['ticket_bin'].iloc[i] = 2\n",
    "        #elif data['Ticket'].iloc[i] in list(data_ticket_2_3):\n",
    "        #    data['ticket_bin'].iloc[i] = 3\n",
    "        #elif data['Ticket'].iloc[i] in list(data_ticket_2_4):\n",
    "        #    data['ticket_bin'].iloc[i] = 4\n",
    "        \n",
    "        \n",
    "    return data"
   ]
  },
  {
   "cell_type": "code",
   "execution_count": null,
   "metadata": {
    "execution": {
     "iopub.execute_input": "2021-11-15T17:44:39.278483Z",
     "iopub.status.busy": "2021-11-15T17:44:39.277803Z",
     "iopub.status.idle": "2021-11-15T17:44:39.450859Z",
     "shell.execute_reply": "2021-11-15T17:44:39.450387Z",
     "shell.execute_reply.started": "2021-11-15T17:41:34.943071Z"
    },
    "papermill": {
     "duration": 0.300106,
     "end_time": "2021-11-15T17:44:39.451021",
     "exception": false,
     "start_time": "2021-11-15T17:44:39.150915",
     "status": "completed"
    },
    "tags": []
   },
   "outputs": [],
   "source": [
    "data = ticket_bin_encoding(data)"
   ]
  },
  {
   "cell_type": "code",
   "execution_count": null,
   "metadata": {
    "execution": {
     "iopub.execute_input": "2021-11-15T17:44:39.701328Z",
     "iopub.status.busy": "2021-11-15T17:44:39.700680Z",
     "iopub.status.idle": "2021-11-15T17:44:39.706245Z",
     "shell.execute_reply": "2021-11-15T17:44:39.706666Z",
     "shell.execute_reply.started": "2021-11-15T17:41:35.132936Z"
    },
    "papermill": {
     "duration": 0.133135,
     "end_time": "2021-11-15T17:44:39.706815",
     "exception": false,
     "start_time": "2021-11-15T17:44:39.573680",
     "status": "completed"
    },
    "tags": []
   },
   "outputs": [],
   "source": [
    "data['ticket_bin'].value_counts()"
   ]
  },
  {
   "cell_type": "code",
   "execution_count": null,
   "metadata": {
    "execution": {
     "iopub.execute_input": "2021-11-15T17:44:39.956463Z",
     "iopub.status.busy": "2021-11-15T17:44:39.955804Z",
     "iopub.status.idle": "2021-11-15T17:44:40.220388Z",
     "shell.execute_reply": "2021-11-15T17:44:40.219944Z",
     "shell.execute_reply.started": "2021-11-15T17:41:35.142331Z"
    },
    "papermill": {
     "duration": 0.390773,
     "end_time": "2021-11-15T17:44:40.220520",
     "exception": false,
     "start_time": "2021-11-15T17:44:39.829747",
     "status": "completed"
    },
    "tags": []
   },
   "outputs": [],
   "source": [
    "sns.set(rc = {'figure.figsize':(15,8)})\n",
    "\n",
    "#Calculate the counts of categorical variable Survived for different age bins\n",
    "df_plot = data.groupby([ 'Survived', 'ticket_bin']).size().reset_index().pivot(columns='Survived', index='ticket_bin', values=0)\n",
    "print(df_plot)\n",
    "\n",
    "#Plot the stacked bar plot\n",
    "df_p = df_plot.plot(kind='bar', stacked=True)\n",
    "\n",
    "#Set labels\n",
    "df_p.set_xlabel(\"ticket_bin\", fontsize = 20)\n",
    "df_p.set_ylabel(\"Count\", fontsize = 20)\n",
    "\n",
    "class_list = calculate_stacked_plot_percentages(df_plot, df_p)\n",
    "\n",
    "plot_stacked_plot_percentages(class_list, df_p, 0.2)"
   ]
  },
  {
   "cell_type": "markdown",
   "metadata": {
    "papermill": {
     "duration": 0.123873,
     "end_time": "2021-11-15T17:44:40.468803",
     "exception": false,
     "start_time": "2021-11-15T17:44:40.344930",
     "status": "completed"
    },
    "tags": []
   },
   "source": [
    "## Cabin of the survivors"
   ]
  },
  {
   "cell_type": "code",
   "execution_count": null,
   "metadata": {
    "execution": {
     "iopub.execute_input": "2021-11-15T17:44:40.719922Z",
     "iopub.status.busy": "2021-11-15T17:44:40.719369Z",
     "iopub.status.idle": "2021-11-15T17:44:40.725927Z",
     "shell.execute_reply": "2021-11-15T17:44:40.726431Z",
     "shell.execute_reply.started": "2021-11-15T17:41:35.414672Z"
    },
    "papermill": {
     "duration": 0.133641,
     "end_time": "2021-11-15T17:44:40.726581",
     "exception": false,
     "start_time": "2021-11-15T17:44:40.592940",
     "status": "completed"
    },
    "tags": []
   },
   "outputs": [],
   "source": [
    "data['Cabin'].value_counts()"
   ]
  },
  {
   "cell_type": "code",
   "execution_count": null,
   "metadata": {
    "execution": {
     "iopub.execute_input": "2021-11-15T17:44:40.976982Z",
     "iopub.status.busy": "2021-11-15T17:44:40.976416Z",
     "iopub.status.idle": "2021-11-15T17:44:40.986049Z",
     "shell.execute_reply": "2021-11-15T17:44:40.986508Z",
     "shell.execute_reply.started": "2021-11-15T17:41:35.424142Z"
    },
    "papermill": {
     "duration": 0.136358,
     "end_time": "2021-11-15T17:44:40.986668",
     "exception": false,
     "start_time": "2021-11-15T17:44:40.850310",
     "status": "completed"
    },
    "tags": []
   },
   "outputs": [],
   "source": [
    "def cabin_encoding(data):\n",
    "    data['cabin_bin'] = [np.nan for i in range(len(data))]\n",
    "    \n",
    "    data_cabin_1 = data['Cabin'][data['Cabin'].str.startswith(\"A\")]\n",
    "    data_cabin_2 = data['Cabin'][data['Cabin'].str.startswith(\"B\")]\n",
    "    data_cabin_3 = data['Cabin'][data['Cabin'].str.startswith(\"C\")]\n",
    "    data_cabin_4 = data['Cabin'][data['Cabin'].str.startswith(\"D\")]\n",
    "    data_cabin_5 = data['Cabin'][data['Cabin'].str.startswith(\"E\")]\n",
    "    data_cabin_6 = data['Cabin'][~ (data['Cabin'].str.startswith(\"A\") | data['Cabin'].str.startswith(\"B\") | data['Cabin'].str.startswith(\"C\")| data['Cabin'].str.startswith(\"D\")| data['Cabin'].str.startswith(\"E\"))]\n",
    "    \n",
    "    for i in range(len(data)):\n",
    "        if data['Cabin'].iloc[i] in list(data_cabin_1):\n",
    "            data['cabin_bin'].iloc[i] = 0\n",
    "        elif data['Cabin'].iloc[i] in list(data_cabin_2):\n",
    "            data['cabin_bin'].iloc[i] = 1\n",
    "        elif data['Cabin'].iloc[i] in list(data_cabin_3):\n",
    "            data['cabin_bin'].iloc[i] = 2\n",
    "        elif data['Cabin'].iloc[i] in list(data_cabin_4):\n",
    "            data['cabin_bin'].iloc[i] = 3\n",
    "        elif data['Cabin'].iloc[i] in list(data_cabin_5):\n",
    "            data['cabin_bin'].iloc[i] = 4\n",
    "        elif data['Cabin'].iloc[i] in list(data_cabin_6):\n",
    "            data['cabin_bin'].iloc[i] = 5\n",
    "        elif data['Cabin'].iloc[i] == 'nan':\n",
    "            data['cabin_bin'].iloc[i] = 6\n",
    "\n",
    "    return data"
   ]
  },
  {
   "cell_type": "code",
   "execution_count": null,
   "metadata": {
    "execution": {
     "iopub.execute_input": "2021-11-15T17:44:41.238468Z",
     "iopub.status.busy": "2021-11-15T17:44:41.237818Z",
     "iopub.status.idle": "2021-11-15T17:44:41.457042Z",
     "shell.execute_reply": "2021-11-15T17:44:41.456562Z",
     "shell.execute_reply.started": "2021-11-15T17:41:35.438168Z"
    },
    "papermill": {
     "duration": 0.3466,
     "end_time": "2021-11-15T17:44:41.457192",
     "exception": false,
     "start_time": "2021-11-15T17:44:41.110592",
     "status": "completed"
    },
    "tags": []
   },
   "outputs": [],
   "source": [
    "data = cabin_encoding(data)"
   ]
  },
  {
   "cell_type": "code",
   "execution_count": null,
   "metadata": {
    "execution": {
     "iopub.execute_input": "2021-11-15T17:44:41.709539Z",
     "iopub.status.busy": "2021-11-15T17:44:41.708991Z",
     "iopub.status.idle": "2021-11-15T17:44:42.197441Z",
     "shell.execute_reply": "2021-11-15T17:44:42.196896Z",
     "shell.execute_reply.started": "2021-11-15T17:41:35.667533Z"
    },
    "papermill": {
     "duration": 0.615968,
     "end_time": "2021-11-15T17:44:42.197571",
     "exception": false,
     "start_time": "2021-11-15T17:44:41.581603",
     "status": "completed"
    },
    "tags": []
   },
   "outputs": [],
   "source": [
    "sns.set(rc = {'figure.figsize':(16,6)})\n",
    "plt.plot(figure_size = (1,2))\n",
    "\n",
    "#Boxplots\n",
    "plt.subplot(1,2,1)\n",
    "bp_ax = sns.boxplot(x = \"Survived\",y=\"cabin_bin\", data = data)\n",
    "bp_ax.set_title('Box plot', fontsize = 20)\n",
    "\n",
    "#Density plots\n",
    "plt.subplot(1,2,2)\n",
    "dp_ax = sns.kdeplot(x = 'cabin_bin', hue = 'Survived', data = data)\n",
    "dp_ax.set_title('Density plot', fontsize = 20)"
   ]
  },
  {
   "cell_type": "markdown",
   "metadata": {
    "papermill": {
     "duration": 0.126285,
     "end_time": "2021-11-15T17:44:42.450874",
     "exception": false,
     "start_time": "2021-11-15T17:44:42.324589",
     "status": "completed"
    },
    "tags": []
   },
   "source": [
    "## Number of family members of the survivors ? (SibSp, Parch)"
   ]
  },
  {
   "cell_type": "code",
   "execution_count": null,
   "metadata": {
    "execution": {
     "iopub.execute_input": "2021-11-15T17:44:42.708949Z",
     "iopub.status.busy": "2021-11-15T17:44:42.708330Z",
     "iopub.status.idle": "2021-11-15T17:44:43.165547Z",
     "shell.execute_reply": "2021-11-15T17:44:43.166114Z",
     "shell.execute_reply.started": "2021-11-15T17:41:36.161925Z"
    },
    "papermill": {
     "duration": 0.587906,
     "end_time": "2021-11-15T17:44:43.166280",
     "exception": false,
     "start_time": "2021-11-15T17:44:42.578374",
     "status": "completed"
    },
    "tags": []
   },
   "outputs": [],
   "source": [
    "sns.set(rc = {'figure.figsize':(16,6)})\n",
    "plt.plot(figure_size = (1,2))\n",
    "\n",
    "#Boxplots\n",
    "plt.subplot(1,2,1)\n",
    "bp_ax = sns.boxplot(x = \"Survived\",y=\"SibSp\", data = data)\n",
    "bp_ax.set_title('Box plot', fontsize = 20)\n",
    "\n",
    "#Density plots\n",
    "plt.subplot(1,2,2)\n",
    "dp_ax = sns.kdeplot(x = 'SibSp', hue = 'Survived', data = data)\n",
    "dp_ax.set_title('Density plot', fontsize = 20)"
   ]
  },
  {
   "cell_type": "code",
   "execution_count": null,
   "metadata": {
    "execution": {
     "iopub.execute_input": "2021-11-15T17:44:43.426445Z",
     "iopub.status.busy": "2021-11-15T17:44:43.425548Z",
     "iopub.status.idle": "2021-11-15T17:44:43.874123Z",
     "shell.execute_reply": "2021-11-15T17:44:43.873537Z",
     "shell.execute_reply.started": "2021-11-15T17:41:36.632827Z"
    },
    "papermill": {
     "duration": 0.579065,
     "end_time": "2021-11-15T17:44:43.874254",
     "exception": false,
     "start_time": "2021-11-15T17:44:43.295189",
     "status": "completed"
    },
    "tags": []
   },
   "outputs": [],
   "source": [
    "sns.set(rc = {'figure.figsize':(16,6)})\n",
    "plt.plot(figure_size = (1,2))\n",
    "\n",
    "#Boxplots\n",
    "plt.subplot(1,2,1)\n",
    "bp_ax = sns.boxplot(x = \"Survived\",y=\"Parch\", data = data)\n",
    "bp_ax.set_title('Box plot', fontsize = 20)\n",
    "\n",
    "#Density plots\n",
    "plt.subplot(1,2,2)\n",
    "dp_ax = sns.kdeplot(x = 'Parch', hue = 'Survived', data = data)\n",
    "dp_ax.set_title('Density plot', fontsize = 20)"
   ]
  },
  {
   "cell_type": "markdown",
   "metadata": {
    "papermill": {
     "duration": 0.129745,
     "end_time": "2021-11-15T17:44:44.134902",
     "exception": false,
     "start_time": "2021-11-15T17:44:44.005157",
     "status": "completed"
    },
    "tags": []
   },
   "source": [
    "- Clearly, people who had more family aboard had a higher chance of survival"
   ]
  },
  {
   "cell_type": "code",
   "execution_count": null,
   "metadata": {
    "execution": {
     "iopub.execute_input": "2021-11-15T17:44:44.397701Z",
     "iopub.status.busy": "2021-11-15T17:44:44.397105Z",
     "iopub.status.idle": "2021-11-15T17:44:44.401566Z",
     "shell.execute_reply": "2021-11-15T17:44:44.402028Z",
     "shell.execute_reply.started": "2021-11-15T17:41:37.139062Z"
    },
    "papermill": {
     "duration": 0.137073,
     "end_time": "2021-11-15T17:44:44.402192",
     "exception": false,
     "start_time": "2021-11-15T17:44:44.265119",
     "status": "completed"
    },
    "tags": []
   },
   "outputs": [],
   "source": [
    "data['family'] = data['SibSp'] + data['Parch']"
   ]
  },
  {
   "cell_type": "code",
   "execution_count": null,
   "metadata": {
    "execution": {
     "iopub.execute_input": "2021-11-15T17:44:44.666736Z",
     "iopub.status.busy": "2021-11-15T17:44:44.666193Z",
     "iopub.status.idle": "2021-11-15T17:44:45.097382Z",
     "shell.execute_reply": "2021-11-15T17:44:45.096750Z",
     "shell.execute_reply.started": "2021-11-15T17:41:37.146701Z"
    },
    "papermill": {
     "duration": 0.565486,
     "end_time": "2021-11-15T17:44:45.097523",
     "exception": false,
     "start_time": "2021-11-15T17:44:44.532037",
     "status": "completed"
    },
    "tags": []
   },
   "outputs": [],
   "source": [
    "sns.set(rc = {'figure.figsize':(16,6)})\n",
    "plt.plot(figure_size = (1,2))\n",
    "\n",
    "#Boxplots\n",
    "plt.subplot(1,2,1)\n",
    "bp_ax = sns.boxplot(x = \"Survived\",y=\"family\", data = data)\n",
    "bp_ax.set_title('Box plot', fontsize = 20)\n",
    "\n",
    "#Density plots\n",
    "plt.subplot(1,2,2)\n",
    "dp_ax = sns.kdeplot(x = 'family', hue = 'Survived', data = data)\n",
    "dp_ax.set_title('Density plot', fontsize = 20)"
   ]
  },
  {
   "cell_type": "markdown",
   "metadata": {
    "papermill": {
     "duration": 0.130892,
     "end_time": "2021-11-15T17:44:45.359877",
     "exception": false,
     "start_time": "2021-11-15T17:44:45.228985",
     "status": "completed"
    },
    "tags": []
   },
   "source": [
    "## Ticket class of the surivors ? (Pclass)"
   ]
  },
  {
   "cell_type": "code",
   "execution_count": null,
   "metadata": {
    "execution": {
     "iopub.execute_input": "2021-11-15T17:44:45.633469Z",
     "iopub.status.busy": "2021-11-15T17:44:45.632820Z",
     "iopub.status.idle": "2021-11-15T17:44:45.856173Z",
     "shell.execute_reply": "2021-11-15T17:44:45.855557Z",
     "shell.execute_reply.started": "2021-11-15T17:41:37.638262Z"
    },
    "papermill": {
     "duration": 0.363589,
     "end_time": "2021-11-15T17:44:45.856312",
     "exception": false,
     "start_time": "2021-11-15T17:44:45.492723",
     "status": "completed"
    },
    "tags": []
   },
   "outputs": [],
   "source": [
    "sns.set(rc = {'figure.figsize':(15,8)})\n",
    "\n",
    "#Calculate the counts of categorical variable Survived for different age bins\n",
    "df_plot = data.groupby([ 'Survived', 'Pclass']).size().reset_index().pivot(columns='Survived', index='Pclass', values=0)\n",
    "print(df_plot)\n",
    "\n",
    "#Plot the stacked bar plot\n",
    "df_p = df_plot.plot(kind='bar', stacked=True)\n",
    "\n",
    "#Set labels\n",
    "df_p.set_xlabel(\"Pclass\", fontsize = 20)\n",
    "df_p.set_ylabel(\"Count\", fontsize = 20)\n",
    "\n",
    "class_list = calculate_stacked_plot_percentages(df_plot, df_p)\n",
    "\n",
    "plot_stacked_plot_percentages(class_list, df_p, 0.2)"
   ]
  },
  {
   "cell_type": "markdown",
   "metadata": {
    "papermill": {
     "duration": 0.133361,
     "end_time": "2021-11-15T17:44:46.122211",
     "exception": false,
     "start_time": "2021-11-15T17:44:45.988850",
     "status": "completed"
    },
    "tags": []
   },
   "source": [
    "- Around 500 passengers belonged to Class 3 which is the majority of the passengers and 75 % of them did not survive\n",
    "- Class 1 and Class 2 had around half of the total Class 1 count but higher percentage of survivors\n",
    "- Clearly, **percentage of Class 1 and Class 2 survivors is higher (63 % and 47 %) than the percentage of Class 3 survivors (24 %)**"
   ]
  },
  {
   "cell_type": "markdown",
   "metadata": {
    "papermill": {
     "duration": 0.132085,
     "end_time": "2021-11-15T17:44:46.387673",
     "exception": false,
     "start_time": "2021-11-15T17:44:46.255588",
     "status": "completed"
    },
    "tags": []
   },
   "source": [
    "# Data preprocessing"
   ]
  },
  {
   "cell_type": "code",
   "execution_count": null,
   "metadata": {
    "execution": {
     "iopub.execute_input": "2021-11-15T17:44:46.657430Z",
     "iopub.status.busy": "2021-11-15T17:44:46.656825Z",
     "iopub.status.idle": "2021-11-15T17:44:46.661229Z",
     "shell.execute_reply": "2021-11-15T17:44:46.661792Z",
     "shell.execute_reply.started": "2021-11-15T17:41:37.916833Z"
    },
    "papermill": {
     "duration": 0.141375,
     "end_time": "2021-11-15T17:44:46.661983",
     "exception": false,
     "start_time": "2021-11-15T17:44:46.520608",
     "status": "completed"
    },
    "tags": []
   },
   "outputs": [],
   "source": [
    "data.columns"
   ]
  },
  {
   "cell_type": "code",
   "execution_count": null,
   "metadata": {
    "execution": {
     "iopub.execute_input": "2021-11-15T17:44:46.931946Z",
     "iopub.status.busy": "2021-11-15T17:44:46.931359Z",
     "iopub.status.idle": "2021-11-15T17:44:46.937366Z",
     "shell.execute_reply": "2021-11-15T17:44:46.937792Z",
     "shell.execute_reply.started": "2021-11-15T17:41:37.924903Z"
    },
    "papermill": {
     "duration": 0.142978,
     "end_time": "2021-11-15T17:44:46.937968",
     "exception": false,
     "start_time": "2021-11-15T17:44:46.794990",
     "status": "completed"
    },
    "tags": []
   },
   "outputs": [],
   "source": [
    "def combine_categorical_vars(data, col1,col2):\n",
    "    #Get only the required columns from the dataframe\n",
    "    cols = [col1, col2]\n",
    "    one_hot_df = data.drop(columns = [col for col in data.columns if col not in cols])\n",
    "    \n",
    "    #Get the one hot encodings\n",
    "    one_hot_df = pd.get_dummies(one_hot_df, columns = one_hot_df.columns)\n",
    "    \n",
    "    #Get the unique values mapped to integers\n",
    "    arr = [int(\"\".join(str(i) for i in List),2) for List in np.array(one_hot_df)] #Convert binary values to int    \n",
    "    map_dict = {}\n",
    "    for index, j in enumerate(set(arr)): #Map each int value to index (0,1,..)\n",
    "        map_dict[j] = index\n",
    "    \n",
    "    arr = list(map(lambda x: map_dict[x], arr))\n",
    "    \n",
    "    #Get the final labels\n",
    "    data[col1+'_'+col2] = arr# np.argmax(np.array(one_hot_df), axis =1)\n",
    "    return data"
   ]
  },
  {
   "cell_type": "code",
   "execution_count": null,
   "metadata": {
    "execution": {
     "iopub.execute_input": "2021-11-15T17:44:47.206272Z",
     "iopub.status.busy": "2021-11-15T17:44:47.205672Z",
     "iopub.status.idle": "2021-11-15T17:44:47.266678Z",
     "shell.execute_reply": "2021-11-15T17:44:47.267135Z",
     "shell.execute_reply.started": "2021-11-15T17:41:37.940180Z"
    },
    "papermill": {
     "duration": 0.196731,
     "end_time": "2021-11-15T17:44:47.267295",
     "exception": false,
     "start_time": "2021-11-15T17:44:47.070564",
     "status": "completed"
    },
    "tags": []
   },
   "outputs": [],
   "source": [
    "data = combine_categorical_vars(data, 'Pclass','fare_bin')\n",
    "data = combine_categorical_vars(data, 'Pclass_fare_bin', 'cabin_bin')\n",
    "data = combine_categorical_vars(data, 'Sex','name_title')\n",
    "\n",
    "data"
   ]
  },
  {
   "cell_type": "code",
   "execution_count": null,
   "metadata": {
    "execution": {
     "iopub.execute_input": "2021-11-15T17:44:47.543491Z",
     "iopub.status.busy": "2021-11-15T17:44:47.542468Z",
     "iopub.status.idle": "2021-11-15T17:44:47.546744Z",
     "shell.execute_reply": "2021-11-15T17:44:47.547527Z",
     "shell.execute_reply.started": "2021-11-15T17:41:38.011193Z"
    },
    "papermill": {
     "duration": 0.146021,
     "end_time": "2021-11-15T17:44:47.547786",
     "exception": false,
     "start_time": "2021-11-15T17:44:47.401765",
     "status": "completed"
    },
    "tags": []
   },
   "outputs": [],
   "source": [
    "drop_list = ['Survived','PassengerId', 'Name', 'Ticket', 'Cabin', 'age_bin',  'SibSp', 'Parch','name_title','name_title_1', 'fare_bin', 'Pclass_fare_bin','name_length']\n",
    "#drop_list = ['Survived','PassengerId', 'Name', 'Ticket', 'Cabin', 'age_bin',  'SibSp', 'Parch']\n",
    "\n",
    "X = data.drop(columns =drop_list)\n",
    "y = data['Survived']\n",
    "\n",
    "print(X.columns)"
   ]
  },
  {
   "cell_type": "code",
   "execution_count": null,
   "metadata": {
    "execution": {
     "iopub.execute_input": "2021-11-15T17:44:47.820149Z",
     "iopub.status.busy": "2021-11-15T17:44:47.819486Z",
     "iopub.status.idle": "2021-11-15T17:44:47.830370Z",
     "shell.execute_reply": "2021-11-15T17:44:47.830841Z",
     "shell.execute_reply.started": "2021-11-15T17:41:38.020885Z"
    },
    "papermill": {
     "duration": 0.147562,
     "end_time": "2021-11-15T17:44:47.831018",
     "exception": false,
     "start_time": "2021-11-15T17:44:47.683456",
     "status": "completed"
    },
    "tags": []
   },
   "outputs": [],
   "source": [
    "cols_dummies = ['ticket_bin', 'surname', 'name_length_bin', 'Embarked','cabin_nan','Pclass']\n",
    "#cols_dummies = ['ticket_bin', 'surname','Pclass', 'Embarked', 'Pclass_fare_bin_cabin_bin', 'Sex_name_title']\n",
    "X = pd.get_dummies(X, columns = cols_dummies)"
   ]
  },
  {
   "cell_type": "code",
   "execution_count": null,
   "metadata": {
    "execution": {
     "iopub.execute_input": "2021-11-15T17:44:48.112640Z",
     "iopub.status.busy": "2021-11-15T17:44:48.112060Z",
     "iopub.status.idle": "2021-11-15T17:44:48.120565Z",
     "shell.execute_reply": "2021-11-15T17:44:48.121010Z",
     "shell.execute_reply.started": "2021-11-15T17:41:38.042150Z"
    },
    "papermill": {
     "duration": 0.147924,
     "end_time": "2021-11-15T17:44:48.121184",
     "exception": false,
     "start_time": "2021-11-15T17:44:47.973260",
     "status": "completed"
    },
    "tags": []
   },
   "outputs": [],
   "source": [
    "categorical_features = ['Sex', 'pClass', 'Embarked' ]\n",
    "numerical_features = ['Age', 'SibSp', 'Parch', 'Fare', 'family','name_length']\n",
    "for col in categorical_features:\n",
    "    if col in X.columns:\n",
    "        try:\n",
    "            le = LabelEncoder()\n",
    "            X[col]= le.fit_transform(X[col])\n",
    "        except:\n",
    "            pass\n",
    "\n",
    "for col in numerical_features:\n",
    "    le = MinMaxScaler()\n",
    "    if col in X.columns:\n",
    "        X[col]= le.fit_transform(np.array(X[col]).reshape(-1,1))"
   ]
  },
  {
   "cell_type": "code",
   "execution_count": null,
   "metadata": {
    "execution": {
     "iopub.execute_input": "2021-11-15T17:44:48.391506Z",
     "iopub.status.busy": "2021-11-15T17:44:48.390938Z",
     "iopub.status.idle": "2021-11-15T17:44:48.573693Z",
     "shell.execute_reply": "2021-11-15T17:44:48.572732Z",
     "shell.execute_reply.started": "2021-11-15T17:41:38.053578Z"
    },
    "papermill": {
     "duration": 0.319002,
     "end_time": "2021-11-15T17:44:48.573844",
     "exception": false,
     "start_time": "2021-11-15T17:44:48.254842",
     "status": "completed"
    },
    "tags": []
   },
   "outputs": [],
   "source": [
    "from sklearn.ensemble import ExtraTreesClassifier\n",
    "\n",
    "# Building the model\n",
    "extra_tree_forest = ExtraTreesClassifier(n_estimators = 100)\n",
    "  \n",
    "# Training the model\n",
    "extra_tree_forest.fit(X,y)\n",
    "  \n",
    "# Computing the importance of each feature\n",
    "feature_importance = extra_tree_forest.feature_importances_\n",
    "  \n",
    "# Normalizing the individual importances\n",
    "feature_importance_normalized = np.std([tree.feature_importances_ for tree in \n",
    "                                        extra_tree_forest.estimators_],\n",
    "                                        axis = 0)"
   ]
  },
  {
   "cell_type": "code",
   "execution_count": null,
   "metadata": {
    "execution": {
     "iopub.execute_input": "2021-11-15T17:44:48.846594Z",
     "iopub.status.busy": "2021-11-15T17:44:48.846081Z",
     "iopub.status.idle": "2021-11-15T17:44:48.851035Z",
     "shell.execute_reply": "2021-11-15T17:44:48.850568Z",
     "shell.execute_reply.started": "2021-11-15T17:41:38.247614Z"
    },
    "papermill": {
     "duration": 0.141372,
     "end_time": "2021-11-15T17:44:48.851155",
     "exception": false,
     "start_time": "2021-11-15T17:44:48.709783",
     "status": "completed"
    },
    "tags": []
   },
   "outputs": [],
   "source": [
    "ind = np.argsort(feature_importance_normalized)[::-1]   #indices sorted in descending order\n",
    "X_val = [X.columns[ind[i]] for i in range(0,7)]\n",
    "y_val = [feature_importance_normalized[ind[i]] for i in range(0,7)]"
   ]
  },
  {
   "cell_type": "code",
   "execution_count": null,
   "metadata": {
    "execution": {
     "iopub.execute_input": "2021-11-15T17:44:49.124220Z",
     "iopub.status.busy": "2021-11-15T17:44:49.123626Z",
     "iopub.status.idle": "2021-11-15T17:44:49.385102Z",
     "shell.execute_reply": "2021-11-15T17:44:49.385573Z",
     "shell.execute_reply.started": "2021-11-15T17:41:38.254797Z"
    },
    "papermill": {
     "duration": 0.400226,
     "end_time": "2021-11-15T17:44:49.385730",
     "exception": false,
     "start_time": "2021-11-15T17:44:48.985504",
     "status": "completed"
    },
    "tags": []
   },
   "outputs": [],
   "source": [
    "plt.figure(figsize = (10,10))\n",
    "plt.barh(X_val, y_val, color = ['b', 'g', 'r', 'c', 'm', 'y', 'k'])\n",
    "plt.xlabel('Feature Labels')\n",
    "plt.ylabel('Normalized Feature Importances')\n",
    "plt.title('Comparison of different Feature Importances')\n",
    "plt.show()"
   ]
  },
  {
   "cell_type": "code",
   "execution_count": null,
   "metadata": {
    "execution": {
     "iopub.execute_input": "2021-11-15T17:44:49.659875Z",
     "iopub.status.busy": "2021-11-15T17:44:49.659338Z",
     "iopub.status.idle": "2021-11-15T17:44:49.662016Z",
     "shell.execute_reply": "2021-11-15T17:44:49.662398Z",
     "shell.execute_reply.started": "2021-11-15T17:41:38.524742Z"
    },
    "papermill": {
     "duration": 0.141948,
     "end_time": "2021-11-15T17:44:49.662550",
     "exception": false,
     "start_time": "2021-11-15T17:44:49.520602",
     "status": "completed"
    },
    "tags": []
   },
   "outputs": [],
   "source": [
    "#X = X.drop(columns = [cols for cols in X.columns if cols not in X_val])"
   ]
  },
  {
   "cell_type": "code",
   "execution_count": null,
   "metadata": {
    "execution": {
     "iopub.execute_input": "2021-11-15T17:44:49.936191Z",
     "iopub.status.busy": "2021-11-15T17:44:49.935587Z",
     "iopub.status.idle": "2021-11-15T17:44:49.939935Z",
     "shell.execute_reply": "2021-11-15T17:44:49.940438Z",
     "shell.execute_reply.started": "2021-11-15T17:41:38.529662Z"
    },
    "papermill": {
     "duration": 0.142958,
     "end_time": "2021-11-15T17:44:49.940594",
     "exception": false,
     "start_time": "2021-11-15T17:44:49.797636",
     "status": "completed"
    },
    "tags": []
   },
   "outputs": [],
   "source": [
    "X.columns"
   ]
  },
  {
   "cell_type": "code",
   "execution_count": null,
   "metadata": {
    "execution": {
     "iopub.execute_input": "2021-11-15T17:44:50.214651Z",
     "iopub.status.busy": "2021-11-15T17:44:50.214098Z",
     "iopub.status.idle": "2021-11-15T17:44:50.221093Z",
     "shell.execute_reply": "2021-11-15T17:44:50.221495Z",
     "shell.execute_reply.started": "2021-11-15T17:41:38.542628Z"
    },
    "papermill": {
     "duration": 0.145743,
     "end_time": "2021-11-15T17:44:50.221661",
     "exception": false,
     "start_time": "2021-11-15T17:44:50.075918",
     "status": "completed"
    },
    "tags": []
   },
   "outputs": [],
   "source": [
    "#Train test stratified split\n",
    "X_train, X_test, y_train, y_test = train_test_split(X, y, stratify=y, test_size=0.1)"
   ]
  },
  {
   "cell_type": "code",
   "execution_count": null,
   "metadata": {
    "execution": {
     "iopub.execute_input": "2021-11-15T17:44:50.498097Z",
     "iopub.status.busy": "2021-11-15T17:44:50.497510Z",
     "iopub.status.idle": "2021-11-15T17:44:54.486752Z",
     "shell.execute_reply": "2021-11-15T17:44:54.487211Z",
     "shell.execute_reply.started": "2021-11-15T17:41:38.556145Z"
    },
    "papermill": {
     "duration": 4.130541,
     "end_time": "2021-11-15T17:44:54.487373",
     "exception": false,
     "start_time": "2021-11-15T17:44:50.356832",
     "status": "completed"
    },
    "tags": []
   },
   "outputs": [],
   "source": [
    "sns.set(rc = {'figure.figsize':(15,15)})\n",
    "sns.heatmap(X.corr(),\n",
    "            #vmin=-1, vmax=1, center=0,\n",
    "            cmap=sns.diverging_palette(50, 500, n=500),\n",
    "            square=True,\n",
    "            annot=True)"
   ]
  },
  {
   "cell_type": "markdown",
   "metadata": {
    "papermill": {
     "duration": 0.147373,
     "end_time": "2021-11-15T17:44:54.782275",
     "exception": false,
     "start_time": "2021-11-15T17:44:54.634902",
     "status": "completed"
    },
    "tags": []
   },
   "source": [
    "- name_title and Sex\n",
    "- combining fare, cabin_bin and Pclass"
   ]
  },
  {
   "cell_type": "code",
   "execution_count": null,
   "metadata": {
    "execution": {
     "iopub.execute_input": "2021-11-15T17:44:55.092125Z",
     "iopub.status.busy": "2021-11-15T17:44:55.091509Z",
     "iopub.status.idle": "2021-11-15T17:44:55.101254Z",
     "shell.execute_reply": "2021-11-15T17:44:55.101640Z",
     "shell.execute_reply.started": "2021-11-15T17:41:42.691386Z"
    },
    "papermill": {
     "duration": 0.171505,
     "end_time": "2021-11-15T17:44:55.101805",
     "exception": false,
     "start_time": "2021-11-15T17:44:54.930300",
     "status": "completed"
    },
    "tags": []
   },
   "outputs": [],
   "source": [
    "X_train[:5]"
   ]
  },
  {
   "cell_type": "code",
   "execution_count": null,
   "metadata": {
    "execution": {
     "iopub.execute_input": "2021-11-15T17:44:55.401720Z",
     "iopub.status.busy": "2021-11-15T17:44:55.401159Z",
     "iopub.status.idle": "2021-11-15T17:44:55.405182Z",
     "shell.execute_reply": "2021-11-15T17:44:55.404677Z",
     "shell.execute_reply.started": "2021-11-15T17:41:42.714959Z"
    },
    "papermill": {
     "duration": 0.156099,
     "end_time": "2021-11-15T17:44:55.405316",
     "exception": false,
     "start_time": "2021-11-15T17:44:55.249217",
     "status": "completed"
    },
    "tags": []
   },
   "outputs": [],
   "source": [
    "'''def categorical_encoding(X_train, X_test, col):\n",
    "    if col in X_train.columns:\n",
    "        le = LabelEncoder()\n",
    "        X_train[col]= le.fit_transform(X_train[col])\n",
    "        X_test[col]= le.transform(X_test[col])\n",
    "    \n",
    "    return X_train, X_test\n",
    "\n",
    "\n",
    "def normalize(X_train, X_test, col):\n",
    "    if col in X_train.columns:\n",
    "        le = MinMaxScaler()\n",
    "        X_train[col]= le.fit_transform(np.array(X_train[col]).reshape(-1,1))\n",
    "        X_test[col]= le.transform(np.array(X_test[col]).reshape(-1,1))\n",
    "    \n",
    "    return X_train, X_test'''"
   ]
  },
  {
   "cell_type": "code",
   "execution_count": null,
   "metadata": {
    "execution": {
     "iopub.execute_input": "2021-11-15T17:44:55.707826Z",
     "iopub.status.busy": "2021-11-15T17:44:55.707275Z",
     "iopub.status.idle": "2021-11-15T17:44:55.710908Z",
     "shell.execute_reply": "2021-11-15T17:44:55.710362Z",
     "shell.execute_reply.started": "2021-11-15T17:41:42.721462Z"
    },
    "papermill": {
     "duration": 0.157962,
     "end_time": "2021-11-15T17:44:55.711050",
     "exception": false,
     "start_time": "2021-11-15T17:44:55.553088",
     "status": "completed"
    },
    "tags": []
   },
   "outputs": [],
   "source": [
    "'''categorical_features = ['Sex', 'pClass', 'Embarked' ]\n",
    "numerical_features = ['Age', 'SibSp', 'Parch', 'Fare', 'family']\n",
    "\n",
    "for col in categorical_features:\n",
    "    X_train, Xtest = categorical_encoding(X_train, X_test, col)\n",
    "\n",
    "for col in numerical_features:\n",
    "    X_train, Xtest = normalize(X_train, X_test, col)\n",
    "print(X_train[:5], X_test[:5])'''"
   ]
  },
  {
   "cell_type": "markdown",
   "metadata": {
    "papermill": {
     "duration": 0.14854,
     "end_time": "2021-11-15T17:44:56.010593",
     "exception": false,
     "start_time": "2021-11-15T17:44:55.862053",
     "status": "completed"
    },
    "tags": []
   },
   "source": [
    "## Correlation w target variable"
   ]
  },
  {
   "cell_type": "code",
   "execution_count": null,
   "metadata": {
    "execution": {
     "iopub.execute_input": "2021-11-15T17:44:56.319181Z",
     "iopub.status.busy": "2021-11-15T17:44:56.318464Z",
     "iopub.status.idle": "2021-11-15T17:44:56.319717Z",
     "shell.execute_reply": "2021-11-15T17:44:56.320245Z",
     "shell.execute_reply.started": "2021-11-15T17:41:42.739104Z"
    },
    "papermill": {
     "duration": 0.160968,
     "end_time": "2021-11-15T17:44:56.320410",
     "exception": false,
     "start_time": "2021-11-15T17:44:56.159442",
     "status": "completed"
    },
    "tags": []
   },
   "outputs": [],
   "source": [
    "X = data\n",
    "categorical_features_ = ['Sex', 'pClass', 'Embarked' ]\n",
    "numerical_features_ = ['Age', 'SibSp', 'Parch', 'Fare']\n",
    "\n",
    "for col in categorical_features_:\n",
    "    if col in X.columns:\n",
    "        le = LabelEncoder()\n",
    "        X[col]= le.fit_transform(X[col])    \n",
    "\n",
    "for col in numerical_features_:\n",
    "    if col in X.columns:\n",
    "        le = MinMaxScaler()\n",
    "        X[col]= le.fit_transform(np.array(X[col]).reshape(-1,1))"
   ]
  },
  {
   "cell_type": "code",
   "execution_count": null,
   "metadata": {
    "execution": {
     "iopub.execute_input": "2021-11-15T17:44:56.625598Z",
     "iopub.status.busy": "2021-11-15T17:44:56.624965Z",
     "iopub.status.idle": "2021-11-15T17:44:59.029842Z",
     "shell.execute_reply": "2021-11-15T17:44:59.030537Z",
     "shell.execute_reply.started": "2021-11-15T17:41:42.756280Z"
    },
    "papermill": {
     "duration": 2.558623,
     "end_time": "2021-11-15T17:44:59.030769",
     "exception": false,
     "start_time": "2021-11-15T17:44:56.472146",
     "status": "completed"
    },
    "tags": []
   },
   "outputs": [],
   "source": [
    "sns.set(rc = {'figure.figsize':(14,14)})\n",
    "sns.heatmap(X.corr(),\n",
    "            #vmin=-1, vmax=1, center=0,\n",
    "            cmap=sns.diverging_palette(50, 500, n=500),\n",
    "            square=True,\n",
    "            annot=True)"
   ]
  },
  {
   "cell_type": "markdown",
   "metadata": {
    "papermill": {
     "duration": 0.157886,
     "end_time": "2021-11-15T17:44:59.350957",
     "exception": false,
     "start_time": "2021-11-15T17:44:59.193071",
     "status": "completed"
    },
    "tags": []
   },
   "source": [
    "- name_title is highly negatively correlated with the output class\n",
    "- Fare and Pclass are also highly negatively correlated\n",
    "- Pclass and the output class are moderately negatively correlated"
   ]
  },
  {
   "cell_type": "markdown",
   "metadata": {
    "papermill": {
     "duration": 0.156438,
     "end_time": "2021-11-15T17:44:59.665372",
     "exception": false,
     "start_time": "2021-11-15T17:44:59.508934",
     "status": "completed"
    },
    "tags": []
   },
   "source": [
    "### Visualizing"
   ]
  },
  {
   "cell_type": "code",
   "execution_count": null,
   "metadata": {
    "execution": {
     "iopub.execute_input": "2021-11-15T17:44:59.987665Z",
     "iopub.status.busy": "2021-11-15T17:44:59.986929Z",
     "iopub.status.idle": "2021-11-15T17:45:03.450197Z",
     "shell.execute_reply": "2021-11-15T17:45:03.449720Z",
     "shell.execute_reply.started": "2021-11-15T17:41:45.127305Z"
    },
    "papermill": {
     "duration": 3.626679,
     "end_time": "2021-11-15T17:45:03.450333",
     "exception": false,
     "start_time": "2021-11-15T17:44:59.823654",
     "status": "completed"
    },
    "tags": []
   },
   "outputs": [],
   "source": [
    "import matplotlib.pyplot as plt\n",
    "from sklearn.manifold import TSNE\n",
    "from sklearn.preprocessing import StandardScaler\n",
    "\n",
    "data_1000 = X_train\n",
    "labels_1000 = y_train\n",
    "\n",
    "model = TSNE(n_components = 2, random_state = 0)\n",
    "# configuring the parameteres\n",
    "# the number of components = 2\n",
    "# default perplexity = 30\n",
    "# default learning rate = 200\n",
    "# default Maximum number of iterations\n",
    "# for the optimization = 1000\n",
    "\n",
    "tsne_data = model.fit_transform(data_1000)\n",
    "\n",
    "# creating a new data frame which\n",
    "# help us in ploting the result data\n",
    "tsne_data = np.vstack((tsne_data.T, labels_1000)).T\n",
    "tsne_df = pd.DataFrame(data = tsne_data,columns =(\"Dim_1\", \"Dim_2\", \"label\"))\n",
    "\n",
    "# Ploting the result of tsne\n",
    "sns.FacetGrid(tsne_df, hue =\"label\", size = 6).map(plt.scatter, 'Dim_1', 'Dim_2').add_legend()\n",
    "\n",
    "plt.show()"
   ]
  },
  {
   "cell_type": "markdown",
   "metadata": {
    "papermill": {
     "duration": 0.158038,
     "end_time": "2021-11-15T17:45:03.766168",
     "exception": false,
     "start_time": "2021-11-15T17:45:03.608130",
     "status": "completed"
    },
    "tags": []
   },
   "source": [
    "# Baseline Model"
   ]
  },
  {
   "cell_type": "markdown",
   "metadata": {
    "papermill": {
     "duration": 0.160564,
     "end_time": "2021-11-15T17:45:04.083589",
     "exception": false,
     "start_time": "2021-11-15T17:45:03.923025",
     "status": "completed"
    },
    "tags": []
   },
   "source": [
    "For baseline model to compare further models with, i used a RandomForest model since it is a simple, robust and high performing classification algorithm "
   ]
  },
  {
   "cell_type": "code",
   "execution_count": null,
   "metadata": {
    "execution": {
     "iopub.execute_input": "2021-11-15T17:45:04.403405Z",
     "iopub.status.busy": "2021-11-15T17:45:04.402483Z",
     "iopub.status.idle": "2021-11-15T17:45:18.435141Z",
     "shell.execute_reply": "2021-11-15T17:45:18.434445Z",
     "shell.execute_reply.started": "2021-11-15T17:41:48.760693Z"
    },
    "papermill": {
     "duration": 14.193595,
     "end_time": "2021-11-15T17:45:18.435325",
     "exception": false,
     "start_time": "2021-11-15T17:45:04.241730",
     "status": "completed"
    },
    "tags": []
   },
   "outputs": [],
   "source": [
    "#https://scikit-learn.org/stable/modules/generated/sklearn.model_selection.StratifiedKFold.html#sklearn.model_selection.StratifiedKFold\n",
    "skf = KFold(n_splits=15, shuffle=True)\n",
    "\n",
    "for train_idx, test_idx in skf.split(X_train, y_train):\n",
    "    #print(train_idx, test_idx)\n",
    "    #print(data.iloc[train_idx], y.iloc[train_idx])\n",
    "    rf = RandomForestClassifier(n_estimators = 500)\n",
    "    rf.fit(X_train.iloc[train_idx], y_train.iloc[train_idx])\n",
    "    print('Accuracy for th fold CV is', accuracy_score(rf.predict(X_train.iloc[test_idx]), y_train.iloc[test_idx]))"
   ]
  },
  {
   "cell_type": "code",
   "execution_count": null,
   "metadata": {
    "execution": {
     "iopub.execute_input": "2021-11-15T17:45:18.800469Z",
     "iopub.status.busy": "2021-11-15T17:45:18.794847Z",
     "iopub.status.idle": "2021-11-15T17:45:19.726840Z",
     "shell.execute_reply": "2021-11-15T17:45:19.726154Z",
     "shell.execute_reply.started": "2021-11-15T17:42:03.097088Z"
    },
    "papermill": {
     "duration": 1.129758,
     "end_time": "2021-11-15T17:45:19.727060",
     "exception": false,
     "start_time": "2021-11-15T17:45:18.597302",
     "status": "completed"
    },
    "tags": []
   },
   "outputs": [],
   "source": [
    "rf = RandomForestClassifier(n_estimators = 500)\n",
    "rf.fit(X_train, y_train)\n",
    "print('Final accuracy score :',  accuracy_score(rf.predict(X_test), y_test))"
   ]
  },
  {
   "cell_type": "markdown",
   "metadata": {
    "papermill": {
     "duration": 0.162097,
     "end_time": "2021-11-15T17:45:20.050138",
     "exception": false,
     "start_time": "2021-11-15T17:45:19.888041",
     "status": "completed"
    },
    "tags": []
   },
   "source": [
    "## Hyperparameter optimization using hyperopt"
   ]
  },
  {
   "cell_type": "code",
   "execution_count": null,
   "metadata": {
    "execution": {
     "iopub.execute_input": "2021-11-15T17:45:20.380656Z",
     "iopub.status.busy": "2021-11-15T17:45:20.380070Z",
     "iopub.status.idle": "2021-11-15T17:45:52.581804Z",
     "shell.execute_reply": "2021-11-15T17:45:52.579917Z",
     "shell.execute_reply.started": "2021-11-15T17:42:04.081694Z"
    },
    "papermill": {
     "duration": 32.37018,
     "end_time": "2021-11-15T17:45:52.582036",
     "exception": false,
     "start_time": "2021-11-15T17:45:20.211856",
     "status": "completed"
    },
    "tags": []
   },
   "outputs": [],
   "source": [
    "#Reference : https://www.kaggle.com/sivasaiyadav8143/10-hyperparameter-optimization-frameworks#3.-Hyperopt ; https://www.kaggle.com/maxdiazbattan/titanic-top-3-eda-f-eng-avg-6-models-optuna\n",
    "criterion_list = [\"gini\", \"entropy\"]\n",
    "\n",
    "def hyperopt_train_test(params):\n",
    "    clf = RandomForestClassifier(**params)\n",
    "    return cross_val_score(clf, X_train, y_train).mean()\n",
    "\n",
    "space = {\n",
    "    'max_depth': hp.choice('max_depth', range(1,20)),\n",
    "    'max_features': hp.choice('max_features', range(1,5)),\n",
    "    'n_estimators': hp.choice('n_estimators', range(1,1000)),\n",
    "    'criterion': hp.choice('criterion', criterion_list)\n",
    "            }\n",
    "best = 0\n",
    "def f(params):\n",
    "    global best\n",
    "    acc = hyperopt_train_test(params)\n",
    "    if acc > best:\n",
    "      best = acc\n",
    "      print( 'new best:', best, params)\n",
    "    return {'loss': -acc, 'status': STATUS_OK}\n",
    "trials = Trials()\n",
    "best = fmin(f, space, algo=tpe.suggest, max_evals=10, trials=trials)\n",
    "print(best)"
   ]
  },
  {
   "cell_type": "code",
   "execution_count": null,
   "metadata": {
    "execution": {
     "iopub.execute_input": "2021-11-15T17:45:52.935023Z",
     "iopub.status.busy": "2021-11-15T17:45:52.934408Z",
     "iopub.status.idle": "2021-11-15T17:45:52.938550Z",
     "shell.execute_reply": "2021-11-15T17:45:52.939108Z",
     "shell.execute_reply.started": "2021-11-15T17:42:52.181014Z"
    },
    "papermill": {
     "duration": 0.180977,
     "end_time": "2021-11-15T17:45:52.939270",
     "exception": false,
     "start_time": "2021-11-15T17:45:52.758293",
     "status": "completed"
    },
    "tags": []
   },
   "outputs": [],
   "source": [
    "best"
   ]
  },
  {
   "cell_type": "code",
   "execution_count": null,
   "metadata": {
    "execution": {
     "iopub.execute_input": "2021-11-15T17:45:53.285249Z",
     "iopub.status.busy": "2021-11-15T17:45:53.284620Z",
     "iopub.status.idle": "2021-11-15T17:45:54.513595Z",
     "shell.execute_reply": "2021-11-15T17:45:54.514017Z",
     "shell.execute_reply.started": "2021-11-15T17:42:52.189374Z"
    },
    "papermill": {
     "duration": 1.403401,
     "end_time": "2021-11-15T17:45:54.514187",
     "exception": false,
     "start_time": "2021-11-15T17:45:53.110786",
     "status": "completed"
    },
    "tags": []
   },
   "outputs": [],
   "source": [
    "#rf = RandomForestClassifier(criterion = 'gini', max_depth= 10, n_estimators= 500)\n",
    "rf = RandomForestClassifier(criterion = criterion_list[best['criterion']], max_depth= best['max_depth'], n_estimators= best['n_estimators'])\n",
    "rf.fit(X_train, y_train)\n",
    "print('Final accuracy score :',  accuracy_score(rf.predict(X_test), y_test))"
   ]
  },
  {
   "cell_type": "markdown",
   "metadata": {
    "papermill": {
     "duration": 0.174202,
     "end_time": "2021-11-15T17:45:54.859669",
     "exception": false,
     "start_time": "2021-11-15T17:45:54.685467",
     "status": "completed"
    },
    "tags": []
   },
   "source": [
    "# Model 1: Logistic Regression, GLM"
   ]
  },
  {
   "cell_type": "code",
   "execution_count": null,
   "metadata": {
    "execution": {
     "iopub.execute_input": "2021-11-15T17:45:55.207990Z",
     "iopub.status.busy": "2021-11-15T17:45:55.207417Z",
     "iopub.status.idle": "2021-11-15T17:45:55.210688Z",
     "shell.execute_reply": "2021-11-15T17:45:55.211182Z",
     "shell.execute_reply.started": "2021-11-15T17:42:53.758290Z"
    },
    "papermill": {
     "duration": 0.179683,
     "end_time": "2021-11-15T17:45:55.211339",
     "exception": false,
     "start_time": "2021-11-15T17:45:55.031656",
     "status": "completed"
    },
    "tags": []
   },
   "outputs": [],
   "source": [
    "from sklearn.linear_model import LogisticRegression"
   ]
  },
  {
   "cell_type": "code",
   "execution_count": null,
   "metadata": {
    "execution": {
     "iopub.execute_input": "2021-11-15T17:45:55.559847Z",
     "iopub.status.busy": "2021-11-15T17:45:55.559288Z",
     "iopub.status.idle": "2021-11-15T17:45:55.563510Z",
     "shell.execute_reply": "2021-11-15T17:45:55.564018Z",
     "shell.execute_reply.started": "2021-11-15T17:42:53.764252Z"
    },
    "papermill": {
     "duration": 0.179982,
     "end_time": "2021-11-15T17:45:55.564178",
     "exception": false,
     "start_time": "2021-11-15T17:45:55.384196",
     "status": "completed"
    },
    "tags": []
   },
   "outputs": [],
   "source": [
    "'''penalty_list = ['l1', 'l2', 'elasticnet', 'none']\n",
    "\n",
    "def hyperopt_train_test(params):\n",
    "    clf = LogisticRegression(**params)\n",
    "    return cross_val_score(clf, X_train, y_train).mean()\n",
    "\n",
    "space = {\n",
    "    'penalty': hp.choice('penalty', penalty_list),\n",
    "    'C': hp.choice('C', range(0,100))\n",
    "            }\n",
    "best = 0\n",
    "def f(params):\n",
    "    global best\n",
    "    acc = hyperopt_train_test(params)\n",
    "    if acc > best:\n",
    "      best = acc\n",
    "      print( 'new best:', best, params)\n",
    "    return {'loss': -acc ,'status': STATUS_OK}\n",
    "trials = Trials()\n",
    "best = fmin(f, space, algo=tpe.suggest, max_evals=300, trials=trials)\n",
    "print(best)'''"
   ]
  },
  {
   "cell_type": "code",
   "execution_count": null,
   "metadata": {
    "execution": {
     "iopub.execute_input": "2021-11-15T17:45:55.913773Z",
     "iopub.status.busy": "2021-11-15T17:45:55.913197Z",
     "iopub.status.idle": "2021-11-15T17:45:55.917294Z",
     "shell.execute_reply": "2021-11-15T17:45:55.917782Z",
     "shell.execute_reply.started": "2021-11-15T17:42:53.777491Z"
    },
    "papermill": {
     "duration": 0.181403,
     "end_time": "2021-11-15T17:45:55.917953",
     "exception": false,
     "start_time": "2021-11-15T17:45:55.736550",
     "status": "completed"
    },
    "tags": []
   },
   "outputs": [],
   "source": [
    "'''best'''"
   ]
  },
  {
   "cell_type": "code",
   "execution_count": null,
   "metadata": {
    "execution": {
     "iopub.execute_input": "2021-11-15T17:45:56.270501Z",
     "iopub.status.busy": "2021-11-15T17:45:56.269833Z",
     "iopub.status.idle": "2021-11-15T17:45:56.274689Z",
     "shell.execute_reply": "2021-11-15T17:45:56.274257Z",
     "shell.execute_reply.started": "2021-11-15T17:42:53.790922Z"
    },
    "papermill": {
     "duration": 0.183313,
     "end_time": "2021-11-15T17:45:56.274819",
     "exception": false,
     "start_time": "2021-11-15T17:45:56.091506",
     "status": "completed"
    },
    "tags": []
   },
   "outputs": [],
   "source": [
    "'''lr = LogisticRegression(C = best['C'], penalty = penalty_list[best['penalty']])\n",
    "lr.fit(X_train, y_train)\n",
    "print('Final accuracy score :',  accuracy_score(lr.predict(X_test), y_test))'''"
   ]
  },
  {
   "cell_type": "markdown",
   "metadata": {
    "papermill": {
     "duration": 0.17264,
     "end_time": "2021-11-15T17:45:56.663080",
     "exception": false,
     "start_time": "2021-11-15T17:45:56.490440",
     "status": "completed"
    },
    "tags": []
   },
   "source": [
    "# Model 2 : Generative Additive Models"
   ]
  },
  {
   "cell_type": "code",
   "execution_count": null,
   "metadata": {
    "execution": {
     "iopub.execute_input": "2021-11-15T17:45:57.013779Z",
     "iopub.status.busy": "2021-11-15T17:45:57.013197Z",
     "iopub.status.idle": "2021-11-15T17:46:06.556002Z",
     "shell.execute_reply": "2021-11-15T17:46:06.555482Z",
     "shell.execute_reply.started": "2021-11-15T17:42:53.803473Z"
    },
    "papermill": {
     "duration": 9.719916,
     "end_time": "2021-11-15T17:46:06.556152",
     "exception": false,
     "start_time": "2021-11-15T17:45:56.836236",
     "status": "completed"
    },
    "tags": []
   },
   "outputs": [],
   "source": [
    "!pip install pygam\n",
    "from pygam import LogisticGAM\n",
    "import pygam"
   ]
  },
  {
   "cell_type": "code",
   "execution_count": null,
   "metadata": {
    "execution": {
     "iopub.execute_input": "2021-11-15T17:46:06.920728Z",
     "iopub.status.busy": "2021-11-15T17:46:06.920150Z",
     "iopub.status.idle": "2021-11-15T17:46:11.502686Z",
     "shell.execute_reply": "2021-11-15T17:46:11.503494Z",
     "shell.execute_reply.started": "2021-11-15T17:43:00.354225Z"
    },
    "papermill": {
     "duration": 4.768621,
     "end_time": "2021-11-15T17:46:11.503739",
     "exception": false,
     "start_time": "2021-11-15T17:46:06.735118",
     "status": "completed"
    },
    "tags": []
   },
   "outputs": [],
   "source": [
    "gam = LogisticGAM().fit(X_train, y_train)\n",
    "gam.summary()"
   ]
  },
  {
   "cell_type": "code",
   "execution_count": null,
   "metadata": {
    "execution": {
     "iopub.execute_input": "2021-11-15T17:46:11.907242Z",
     "iopub.status.busy": "2021-11-15T17:46:11.906585Z",
     "iopub.status.idle": "2021-11-15T17:46:11.931188Z",
     "shell.execute_reply": "2021-11-15T17:46:11.931608Z",
     "shell.execute_reply.started": "2021-11-15T17:43:04.353224Z"
    },
    "papermill": {
     "duration": 0.212246,
     "end_time": "2021-11-15T17:46:11.931764",
     "exception": false,
     "start_time": "2021-11-15T17:46:11.719518",
     "status": "completed"
    },
    "tags": []
   },
   "outputs": [],
   "source": [
    "gam.accuracy(X_test, y_test)"
   ]
  },
  {
   "cell_type": "code",
   "execution_count": null,
   "metadata": {
    "execution": {
     "iopub.execute_input": "2021-11-15T17:46:12.328871Z",
     "iopub.status.busy": "2021-11-15T17:46:12.299273Z",
     "iopub.status.idle": "2021-11-15T17:46:16.457690Z",
     "shell.execute_reply": "2021-11-15T17:46:16.458139Z",
     "shell.execute_reply.started": "2021-11-15T17:43:04.403941Z"
    },
    "papermill": {
     "duration": 4.345432,
     "end_time": "2021-11-15T17:46:16.458299",
     "exception": false,
     "start_time": "2021-11-15T17:46:12.112867",
     "status": "completed"
    },
    "tags": []
   },
   "outputs": [],
   "source": [
    "fig, axs = plt.subplots(1, len(X_train.columns))\n",
    "titles = X_train.columns\n",
    "\n",
    "for i, ax in enumerate(axs):\n",
    "    XX = gam.generate_X_grid(term=i)\n",
    "    pdep, confi = gam.partial_dependence(term=i, width=.95)\n",
    "\n",
    "    ax.plot(XX[:, i], pdep)\n",
    "    ax.plot(XX[:, i], confi, c='r', ls='--')\n",
    "    ax.set_title(titles[i]);"
   ]
  },
  {
   "cell_type": "markdown",
   "metadata": {
    "papermill": {
     "duration": 0.188219,
     "end_time": "2021-11-15T17:46:16.833744",
     "exception": false,
     "start_time": "2021-11-15T17:46:16.645525",
     "status": "completed"
    },
    "tags": []
   },
   "source": [
    "# Model 3: Ensembles"
   ]
  },
  {
   "cell_type": "code",
   "execution_count": null,
   "metadata": {
    "execution": {
     "iopub.execute_input": "2021-11-15T17:46:17.211845Z",
     "iopub.status.busy": "2021-11-15T17:46:17.211280Z",
     "iopub.status.idle": "2021-11-15T17:46:18.192520Z",
     "shell.execute_reply": "2021-11-15T17:46:18.191962Z",
     "shell.execute_reply.started": "2021-11-15T17:43:08.294933Z"
    },
    "papermill": {
     "duration": 1.173585,
     "end_time": "2021-11-15T17:46:18.192660",
     "exception": false,
     "start_time": "2021-11-15T17:46:17.019075",
     "status": "completed"
    },
    "tags": []
   },
   "outputs": [],
   "source": [
    "import lightgbm as lgb\n",
    "from lightgbm import LGBMClassifier\n",
    "from xgboost import XGBClassifier"
   ]
  },
  {
   "cell_type": "code",
   "execution_count": null,
   "metadata": {
    "execution": {
     "iopub.execute_input": "2021-11-15T17:46:18.626278Z",
     "iopub.status.busy": "2021-11-15T17:46:18.590340Z",
     "iopub.status.idle": "2021-11-15T17:46:31.464416Z",
     "shell.execute_reply": "2021-11-15T17:46:31.464846Z",
     "shell.execute_reply.started": "2021-11-15T17:43:08.300205Z"
    },
    "papermill": {
     "duration": 13.086998,
     "end_time": "2021-11-15T17:46:31.465021",
     "exception": false,
     "start_time": "2021-11-15T17:46:18.378023",
     "status": "completed"
    },
    "tags": []
   },
   "outputs": [],
   "source": [
    "criterion_list = [\"gini\", \"entropy\"]\n",
    "\n",
    "def hyperopt_train_test(params):\n",
    "    clf = XGBClassifier(**params)\n",
    "    return cross_val_score(clf, X_train, y_train).mean()\n",
    "\n",
    "space = {\n",
    "    'learning_rate' : hp.choice('learning_rate', [0.001,0.005, 0.01, 0.05, 0.1, 0.2, 0.5, 0.6,1]),\n",
    "    'max_depth': hp.choice('max_depth', range(1,20)),\n",
    "    'max_features': hp.choice('max_features', range(1,5)),\n",
    "    'n_estimators': hp.choice('n_estimators', range(1,1000)),\n",
    "    'subsample' : hp.choice('subsample', [0,0.5,1])\n",
    "            }\n",
    "best = 0\n",
    "def f(params):\n",
    "    global best\n",
    "    acc = hyperopt_train_test(params)\n",
    "    if acc > best:\n",
    "      best = acc\n",
    "      print( 'new best:', best, params)\n",
    "    return {'loss': -acc, 'status': STATUS_OK}\n",
    "trials = Trials()\n",
    "best = fmin(f, space, algo=tpe.suggest, max_evals=10, trials=trials)\n",
    "print(best)"
   ]
  },
  {
   "cell_type": "code",
   "execution_count": null,
   "metadata": {
    "execution": {
     "iopub.execute_input": "2021-11-15T17:46:31.999302Z",
     "iopub.status.busy": "2021-11-15T17:46:31.996988Z",
     "iopub.status.idle": "2021-11-15T17:46:32.002509Z",
     "shell.execute_reply": "2021-11-15T17:46:32.003116Z",
     "shell.execute_reply.started": "2021-11-15T17:43:29.607330Z"
    },
    "papermill": {
     "duration": 0.272776,
     "end_time": "2021-11-15T17:46:32.003283",
     "exception": false,
     "start_time": "2021-11-15T17:46:31.730507",
     "status": "completed"
    },
    "tags": []
   },
   "outputs": [],
   "source": [
    "best"
   ]
  },
  {
   "cell_type": "code",
   "execution_count": null,
   "metadata": {
    "execution": {
     "iopub.execute_input": "2021-11-15T17:46:32.535617Z",
     "iopub.status.busy": "2021-11-15T17:46:32.534694Z",
     "iopub.status.idle": "2021-11-15T17:46:32.645868Z",
     "shell.execute_reply": "2021-11-15T17:46:32.646551Z",
     "shell.execute_reply.started": "2021-11-15T17:43:29.614981Z"
    },
    "papermill": {
     "duration": 0.380842,
     "end_time": "2021-11-15T17:46:32.646752",
     "exception": false,
     "start_time": "2021-11-15T17:46:32.265910",
     "status": "completed"
    },
    "tags": []
   },
   "outputs": [],
   "source": [
    "if best['subsample'] >=1:\n",
    "    best['subsample'] = 1\n",
    "xgb = XGBClassifier(subsample = best['subsample'], learning_rate = best['learning_rate'], max_depth= best['max_depth'], n_estimators= best['n_estimators'], objective= 'binary:logistic')\n",
    "xgb.fit(X_train, y_train)\n",
    "print('Final accuracy score :',  accuracy_score(xgb.predict(X_test), y_test))"
   ]
  },
  {
   "cell_type": "markdown",
   "metadata": {
    "papermill": {
     "duration": 0.296127,
     "end_time": "2021-11-15T17:46:33.206188",
     "exception": false,
     "start_time": "2021-11-15T17:46:32.910061",
     "status": "completed"
    },
    "tags": []
   },
   "source": [
    "# Voting Classifier"
   ]
  },
  {
   "cell_type": "code",
   "execution_count": null,
   "metadata": {
    "execution": {
     "iopub.execute_input": "2021-11-15T17:46:33.731725Z",
     "iopub.status.busy": "2021-11-15T17:46:33.730808Z",
     "iopub.status.idle": "2021-11-15T17:46:33.734440Z",
     "shell.execute_reply": "2021-11-15T17:46:33.734994Z",
     "shell.execute_reply.started": "2021-11-15T17:43:29.876352Z"
    },
    "papermill": {
     "duration": 0.26835,
     "end_time": "2021-11-15T17:46:33.735154",
     "exception": false,
     "start_time": "2021-11-15T17:46:33.466804",
     "status": "completed"
    },
    "tags": []
   },
   "outputs": [],
   "source": [
    "from sklearn.ensemble import RandomForestClassifier, GradientBoostingRegressor, RandomForestRegressor, VotingClassifier, VotingRegressor"
   ]
  },
  {
   "cell_type": "code",
   "execution_count": null,
   "metadata": {
    "execution": {
     "iopub.execute_input": "2021-11-15T17:46:34.265477Z",
     "iopub.status.busy": "2021-11-15T17:46:34.264578Z",
     "iopub.status.idle": "2021-11-15T17:46:34.270484Z",
     "shell.execute_reply": "2021-11-15T17:46:34.270046Z",
     "shell.execute_reply.started": "2021-11-15T17:43:29.884154Z"
    },
    "papermill": {
     "duration": 0.272829,
     "end_time": "2021-11-15T17:46:34.270628",
     "exception": false,
     "start_time": "2021-11-15T17:46:33.997799",
     "status": "completed"
    },
    "tags": []
   },
   "outputs": [],
   "source": [
    "'''vc = VotingClassifier([(\"xgb_m\",xgb),\n",
    "                       (\"log\",lr),\n",
    "                       (\"rf_m\",rf)],\n",
    "                      voting = \"hard\")\n",
    "\n",
    "vc.fit(X_train,y_train)'''"
   ]
  },
  {
   "cell_type": "code",
   "execution_count": null,
   "metadata": {
    "execution": {
     "iopub.execute_input": "2021-11-15T17:46:34.798817Z",
     "iopub.status.busy": "2021-11-15T17:46:34.798141Z",
     "iopub.status.idle": "2021-11-15T17:46:34.801063Z",
     "shell.execute_reply": "2021-11-15T17:46:34.801495Z",
     "shell.execute_reply.started": "2021-11-15T17:43:29.901985Z"
    },
    "papermill": {
     "duration": 0.269649,
     "end_time": "2021-11-15T17:46:34.801668",
     "exception": false,
     "start_time": "2021-11-15T17:46:34.532019",
     "status": "completed"
    },
    "tags": []
   },
   "outputs": [],
   "source": [
    "'''print('Final accuracy score :',  accuracy_score(vc.predict(X_test), y_test))'''"
   ]
  },
  {
   "cell_type": "markdown",
   "metadata": {
    "papermill": {
     "duration": 0.264,
     "end_time": "2021-11-15T17:46:35.327621",
     "exception": false,
     "start_time": "2021-11-15T17:46:35.063621",
     "status": "completed"
    },
    "tags": []
   },
   "source": [
    "# Test predictions"
   ]
  },
  {
   "cell_type": "code",
   "execution_count": null,
   "metadata": {
    "execution": {
     "iopub.execute_input": "2021-11-15T17:46:35.859722Z",
     "iopub.status.busy": "2021-11-15T17:46:35.858557Z",
     "iopub.status.idle": "2021-11-15T17:46:35.882402Z",
     "shell.execute_reply": "2021-11-15T17:46:35.881827Z",
     "shell.execute_reply.started": "2021-11-15T17:43:29.911411Z"
    },
    "papermill": {
     "duration": 0.290225,
     "end_time": "2021-11-15T17:46:35.882542",
     "exception": false,
     "start_time": "2021-11-15T17:46:35.592317",
     "status": "completed"
    },
    "tags": []
   },
   "outputs": [],
   "source": [
    "test = pd.read_csv('../input/titanic/test.csv')\n",
    "test"
   ]
  },
  {
   "cell_type": "code",
   "execution_count": null,
   "metadata": {
    "execution": {
     "iopub.execute_input": "2021-11-15T17:46:36.416712Z",
     "iopub.status.busy": "2021-11-15T17:46:36.416154Z",
     "iopub.status.idle": "2021-11-15T17:46:36.419272Z",
     "shell.execute_reply": "2021-11-15T17:46:36.418709Z",
     "shell.execute_reply.started": "2021-11-15T17:43:29.945699Z"
    },
    "papermill": {
     "duration": 0.270277,
     "end_time": "2021-11-15T17:46:36.419403",
     "exception": false,
     "start_time": "2021-11-15T17:46:36.149126",
     "status": "completed"
    },
    "tags": []
   },
   "outputs": [],
   "source": [
    "print(test.columns)"
   ]
  },
  {
   "cell_type": "code",
   "execution_count": null,
   "metadata": {
    "execution": {
     "iopub.execute_input": "2021-11-15T17:46:36.956761Z",
     "iopub.status.busy": "2021-11-15T17:46:36.956117Z",
     "iopub.status.idle": "2021-11-15T17:46:36.964827Z",
     "shell.execute_reply": "2021-11-15T17:46:36.965286Z",
     "shell.execute_reply.started": "2021-11-15T17:43:29.952962Z"
    },
    "papermill": {
     "duration": 0.284336,
     "end_time": "2021-11-15T17:46:36.965463",
     "exception": false,
     "start_time": "2021-11-15T17:46:36.681127",
     "status": "completed"
    },
    "tags": []
   },
   "outputs": [],
   "source": [
    "#categorical_features = ['Sex', 'pClass', 'Embarked' ]\n",
    "#numerical_features = ['Age', 'SibSp', 'Parch', 'Fare', 'family', 'name_length']\n",
    "\n",
    "def clean_data(test):\n",
    "    for col in [test.columns[i] for i in [1,3,4,5,6,7,8,10]]:\n",
    "        if any(test[col].isna()) == True and col in ['Age', 'Fare']:\n",
    "            test = impute_missing_data(test, col, median =True, mode=False)\n",
    "\n",
    "                \n",
    "    return test\n",
    "\n",
    "\n",
    "def preprocess(test):\n",
    "    test['Cabin'] = test['Cabin'].fillna('nan')\n",
    "    test['cabin_nan'] = [1 if test['Cabin'].iloc[i] =='nan' else 0 for i in range(len(test))]\n",
    "\n",
    "    test = ticket_bin_encoding(test)\n",
    "    test = name_encoding(test)\n",
    "    test['family'] = test['SibSp'] + test['Parch']\n",
    "    test['name_length'] = test['Name'].map(lambda x: len(str(x)))\n",
    "    #test = name_vectorizer(test)\n",
    "    test = cabin_encoding(test)\n",
    "    test = name_encoding_1(test)\n",
    "    test = surname_encoding(test)\n",
    "    test = fares_categorical(test)\n",
    "    map_obj = {(-1.0, 171.0) : 0, (171.0, 342.0): 1,(342.0, 512.0):2}\n",
    "    test['fare_bin'] = test['fare_bin'].map(lambda x: map_obj[(x.left, x.right)])\n",
    "    test = combine_categorical_vars(test, 'Pclass','fare_bin')\n",
    "    test = combine_categorical_vars(test, 'Pclass_fare_bin', 'cabin_bin')\n",
    "    test = combine_categorical_vars(test, 'Sex','name_title')\n",
    "    test = name_length_categorical(test)\n",
    "    map_obj = {(test['name_length_bin'].value_counts().keys()[0].left, test['name_length_bin'].value_counts().keys()[0].right) : 0, (test['name_length_bin'].value_counts().keys()[1].left, test['name_length_bin'].value_counts().keys()[1].right): 1,(test['name_length_bin'].value_counts().keys()[2].left, test['name_length_bin'].value_counts().keys()[2].right):2}\n",
    "    test['name_length_bin'] = test['name_length_bin'].map(lambda x: map_obj[(x.left, x.right)])\n",
    "\n",
    "    drop_list = ['PassengerId', 'Name', 'Ticket', 'Cabin', 'ticket_bin', 'cabin_nan', 'Fare']\n",
    "    drop_list = ['PassengerId', 'Name', 'Ticket', 'Cabin', 'SibSp', 'Parch','name_title','name_title_1', 'fare_bin', 'Pclass_fare_bin','name_length']\n",
    "    \n",
    "    test = pd.get_dummies(test, columns = cols_dummies)\n",
    "\n",
    "    test = test.drop(columns = drop_list)##Incl cabin\n",
    "    \n",
    "    for col in categorical_features:\n",
    "        if col in test.columns:\n",
    "            try:\n",
    "                le = LabelEncoder()\n",
    "                test[col]= le.fit_transform(test[col])\n",
    "            except:\n",
    "                pass\n",
    "        \n",
    "    for col in numerical_features:\n",
    "        le = MinMaxScaler()\n",
    "        if col in test.columns:\n",
    "            test[col]= le.fit_transform(np.array(test[col]).reshape(-1,1))\n",
    "        \n",
    "                \n",
    "    return test"
   ]
  },
  {
   "cell_type": "code",
   "execution_count": null,
   "metadata": {
    "execution": {
     "iopub.execute_input": "2021-11-15T17:46:37.516837Z",
     "iopub.status.busy": "2021-11-15T17:46:37.516225Z",
     "iopub.status.idle": "2021-11-15T17:46:38.528294Z",
     "shell.execute_reply": "2021-11-15T17:46:38.528717Z",
     "shell.execute_reply.started": "2021-11-15T17:43:29.973790Z"
    },
    "papermill": {
     "duration": 1.296195,
     "end_time": "2021-11-15T17:46:38.528905",
     "exception": false,
     "start_time": "2021-11-15T17:46:37.232710",
     "status": "completed"
    },
    "tags": []
   },
   "outputs": [],
   "source": [
    "test = clean_data(test)\n",
    "\n",
    "for col in [test.columns[i] for i in [1,3,4,5,6,7,8,10]]:\n",
    "    print(col,':', any(test[col].isna()))\n",
    "    \n",
    "test = preprocess(test)"
   ]
  },
  {
   "cell_type": "code",
   "execution_count": null,
   "metadata": {
    "execution": {
     "iopub.execute_input": "2021-11-15T17:46:39.057932Z",
     "iopub.status.busy": "2021-11-15T17:46:39.057013Z",
     "iopub.status.idle": "2021-11-15T17:46:39.078083Z",
     "shell.execute_reply": "2021-11-15T17:46:39.078568Z",
     "shell.execute_reply.started": "2021-11-15T17:43:31.023882Z"
    },
    "papermill": {
     "duration": 0.288938,
     "end_time": "2021-11-15T17:46:39.078731",
     "exception": false,
     "start_time": "2021-11-15T17:46:38.789793",
     "status": "completed"
    },
    "tags": []
   },
   "outputs": [],
   "source": [
    "test"
   ]
  },
  {
   "cell_type": "code",
   "execution_count": null,
   "metadata": {
    "execution": {
     "iopub.execute_input": "2021-11-15T17:46:39.608737Z",
     "iopub.status.busy": "2021-11-15T17:46:39.607850Z",
     "iopub.status.idle": "2021-11-15T17:46:39.624596Z",
     "shell.execute_reply": "2021-11-15T17:46:39.625079Z",
     "shell.execute_reply.started": "2021-11-15T17:43:31.050922Z"
    },
    "papermill": {
     "duration": 0.284802,
     "end_time": "2021-11-15T17:46:39.625253",
     "exception": false,
     "start_time": "2021-11-15T17:46:39.340451",
     "status": "completed"
    },
    "tags": []
   },
   "outputs": [],
   "source": [
    "submission = pd.read_csv('../input/titanic/gender_submission.csv')\n",
    "submission"
   ]
  },
  {
   "cell_type": "code",
   "execution_count": null,
   "metadata": {
    "execution": {
     "iopub.execute_input": "2021-11-15T17:46:40.159825Z",
     "iopub.status.busy": "2021-11-15T17:46:40.159266Z",
     "iopub.status.idle": "2021-11-15T17:46:40.190230Z",
     "shell.execute_reply": "2021-11-15T17:46:40.190619Z",
     "shell.execute_reply.started": "2021-11-15T17:43:31.070628Z"
    },
    "papermill": {
     "duration": 0.299753,
     "end_time": "2021-11-15T17:46:40.190786",
     "exception": false,
     "start_time": "2021-11-15T17:46:39.891033",
     "status": "completed"
    },
    "tags": []
   },
   "outputs": [],
   "source": [
    "pred = gam.predict(test)\n",
    "gam_pred = [1 if i == True else 0 for i in pred ]\n",
    "\n",
    "'''rf_pred = rf.predict(test)\n",
    "\n",
    "lr_pred = lr.predict(test)\n",
    "\n",
    "xgb_pred =xgb.predict(test)\n",
    "\n",
    "vc_pred = vc.predict(test)'''"
   ]
  },
  {
   "cell_type": "code",
   "execution_count": null,
   "metadata": {
    "execution": {
     "iopub.execute_input": "2021-11-15T17:46:40.762603Z",
     "iopub.status.busy": "2021-11-15T17:46:40.762011Z",
     "iopub.status.idle": "2021-11-15T17:46:40.764132Z",
     "shell.execute_reply": "2021-11-15T17:46:40.764632Z",
     "shell.execute_reply.started": "2021-11-15T17:43:31.108703Z"
    },
    "papermill": {
     "duration": 0.311503,
     "end_time": "2021-11-15T17:46:40.764776",
     "exception": false,
     "start_time": "2021-11-15T17:46:40.453273",
     "status": "completed"
    },
    "tags": []
   },
   "outputs": [],
   "source": [
    "'''final_pred = [1 if (i + 2*j+k)/4 >=0.5 else 0 for i,j,k in zip(gam_pred, rf_pred, lr_pred)]'''"
   ]
  },
  {
   "cell_type": "code",
   "execution_count": null,
   "metadata": {
    "execution": {
     "iopub.execute_input": "2021-11-15T17:46:41.295874Z",
     "iopub.status.busy": "2021-11-15T17:46:41.295295Z",
     "iopub.status.idle": "2021-11-15T17:46:41.386001Z",
     "shell.execute_reply": "2021-11-15T17:46:41.385391Z",
     "shell.execute_reply.started": "2021-11-15T17:43:31.115281Z"
    },
    "papermill": {
     "duration": 0.357668,
     "end_time": "2021-11-15T17:46:41.386145",
     "exception": false,
     "start_time": "2021-11-15T17:46:41.028477",
     "status": "completed"
    },
    "tags": []
   },
   "outputs": [],
   "source": [
    "submission['Survived'] = rf.predict(test)#final_pred#vc_pred#final_pred #gam_pred #rf.predict(test) "
   ]
  },
  {
   "cell_type": "code",
   "execution_count": null,
   "metadata": {
    "execution": {
     "iopub.execute_input": "2021-11-15T17:46:41.924623Z",
     "iopub.status.busy": "2021-11-15T17:46:41.923965Z",
     "iopub.status.idle": "2021-11-15T17:46:41.926857Z",
     "shell.execute_reply": "2021-11-15T17:46:41.927324Z",
     "shell.execute_reply.started": "2021-11-15T17:43:31.128012Z"
    },
    "papermill": {
     "duration": 0.276692,
     "end_time": "2021-11-15T17:46:41.927485",
     "exception": false,
     "start_time": "2021-11-15T17:46:41.650793",
     "status": "completed"
    },
    "tags": []
   },
   "outputs": [],
   "source": [
    "submission"
   ]
  },
  {
   "cell_type": "code",
   "execution_count": null,
   "metadata": {
    "execution": {
     "iopub.execute_input": "2021-11-15T17:46:42.458535Z",
     "iopub.status.busy": "2021-11-15T17:46:42.457612Z",
     "iopub.status.idle": "2021-11-15T17:46:42.464359Z",
     "shell.execute_reply": "2021-11-15T17:46:42.464755Z",
     "shell.execute_reply.started": "2021-11-15T17:43:31.145805Z"
    },
    "papermill": {
     "duration": 0.273413,
     "end_time": "2021-11-15T17:46:42.464946",
     "exception": false,
     "start_time": "2021-11-15T17:46:42.191533",
     "status": "completed"
    },
    "tags": []
   },
   "outputs": [],
   "source": [
    "submission.to_csv('./submission.csv', index = False)"
   ]
  },
  {
   "cell_type": "markdown",
   "metadata": {
    "papermill": {
     "duration": 0.268282,
     "end_time": "2021-11-15T17:46:42.996412",
     "exception": false,
     "start_time": "2021-11-15T17:46:42.728130",
     "status": "completed"
    },
    "tags": []
   },
   "source": [
    "## Correlation between features and target variable"
   ]
  },
  {
   "cell_type": "code",
   "execution_count": null,
   "metadata": {
    "execution": {
     "iopub.execute_input": "2021-11-15T17:46:43.527006Z",
     "iopub.status.busy": "2021-11-15T17:46:43.525234Z",
     "iopub.status.idle": "2021-11-15T17:46:44.521550Z",
     "shell.execute_reply": "2021-11-15T17:46:44.521971Z",
     "shell.execute_reply.started": "2021-11-15T17:43:31.161222Z"
    },
    "papermill": {
     "duration": 1.262088,
     "end_time": "2021-11-15T17:46:44.522152",
     "exception": false,
     "start_time": "2021-11-15T17:46:43.260064",
     "status": "completed"
    },
    "tags": []
   },
   "outputs": [],
   "source": [
    "sns.heatmap(test.corr(),\n",
    "            #vmin=-1, vmax=1, center=0,\n",
    "            cmap=sns.diverging_palette(50, 500, n=500),\n",
    "            square=True)"
   ]
  },
  {
   "cell_type": "code",
   "execution_count": null,
   "metadata": {
    "execution": {
     "iopub.execute_input": "2021-11-15T17:46:45.070765Z",
     "iopub.status.busy": "2021-11-15T17:46:45.069732Z",
     "iopub.status.idle": "2021-11-15T17:46:45.554959Z",
     "shell.execute_reply": "2021-11-15T17:46:45.554494Z",
     "shell.execute_reply.started": "2021-11-15T17:43:32.124387Z"
    },
    "papermill": {
     "duration": 0.764156,
     "end_time": "2021-11-15T17:46:45.555097",
     "exception": false,
     "start_time": "2021-11-15T17:46:44.790941",
     "status": "completed"
    },
    "tags": []
   },
   "outputs": [],
   "source": [
    "plt.bar(dict(test.corrwith(submission[\"Survived\"])).keys(), dict(test.corrwith(submission[\"Survived\"])).values())"
   ]
  },
  {
   "cell_type": "markdown",
   "metadata": {
    "papermill": {
     "duration": 0.270904,
     "end_time": "2021-11-15T17:46:46.097339",
     "exception": false,
     "start_time": "2021-11-15T17:46:45.826435",
     "status": "completed"
    },
    "tags": []
   },
   "source": [
    "# Results:\n",
    "\n",
    "- Submission #1 : Scored 0.57: Used only features Pclass  Sex       Age     SibSp  Parch      Fare  Embarked, and basic normalization + categorical encoding + RF with 500 estimators\n",
    "- Submission #2: Scored 0.67 after dropping nan valued features while training + imputing test data with mean values\n",
    "- Submission #3: Scored 0.75 after imputing nan values with the median of the feature\n",
    "- Submission #4: Logistic GAM instead of RF improved score slightly (0.76)\n",
    "- Submission #5: Scored 0.77 with RF(with optimized hyperparams) (Score improved to 0.772 w results of RF + twice weighted results of GAM)\n",
    "- Submission #6: Scored 0.775 with feature ticket bin encoding and name title together inc accuracy to 0.775 +weighted GAM and RF prediction ~top 75% in Kaggle. Hmmm, lets see what else we can try.\n",
    "- Added cabin_nan, accuracy dec\n",
    "- => Features : [ Pclass, Sex, Age, SibSp, Parch, Fare, Embarked, name_title] +RF (optimized) =>0.7799\n",
    "- => Features : [Pclass  Sex     Age  Embarked  name_title  family] +RF (optimized) => 0.78468\n",
    "- => Features : [Pclass  Sex     Age  Embarked  family] +RF (optimized) => 0.78708"
   ]
  },
  {
   "cell_type": "code",
   "execution_count": null,
   "metadata": {
    "papermill": {
     "duration": 0.269365,
     "end_time": "2021-11-15T17:46:46.640335",
     "exception": false,
     "start_time": "2021-11-15T17:46:46.370970",
     "status": "completed"
    },
    "tags": []
   },
   "outputs": [],
   "source": []
  }
 ],
 "metadata": {
  "kernelspec": {
   "display_name": "Python 3",
   "language": "python",
   "name": "python3"
  },
  "language_info": {
   "codemirror_mode": {
    "name": "ipython",
    "version": 3
   },
   "file_extension": ".py",
   "mimetype": "text/x-python",
   "name": "python",
   "nbconvert_exporter": "python",
   "pygments_lexer": "ipython3",
   "version": "3.7.6"
  },
  "papermill": {
   "default_parameters": {},
   "duration": 169.358484,
   "end_time": "2021-11-15T17:46:48.903240",
   "environment_variables": {},
   "exception": null,
   "input_path": "__notebook__.ipynb",
   "output_path": "__notebook__.ipynb",
   "parameters": {},
   "start_time": "2021-11-15T17:43:59.544756",
   "version": "2.3.3"
  }
 },
 "nbformat": 4,
 "nbformat_minor": 5
}
